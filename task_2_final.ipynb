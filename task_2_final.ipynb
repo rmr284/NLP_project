{
 "cells": [
  {
   "cell_type": "markdown",
   "id": "8b3a70f1",
   "metadata": {},
   "source": [
    "Course name: Natural Language Processing & Text Mining  \n",
    "Course code: 472867-HS2024-0  \n",
    "Project Task 2: Named Entity Recognition \n",
    "\n",
    "Autumn Semester 2024-2025  \n",
    "Master in Artificial Intelligence for Medicine  \n",
    "Universität Bern  \n",
    "\n",
    "*Group Members: Rachel Robles (23-125-966), Corina Hüni (19-819-903), Chanae Smith (23-107-915)*\n"
   ]
  },
  {
   "cell_type": "code",
   "execution_count": 1,
   "id": "541c099c767541b7",
   "metadata": {
    "ExecuteTime": {
     "end_time": "2024-10-30T16:45:12.002589Z",
     "start_time": "2024-10-30T16:45:04.053325Z"
    }
   },
   "outputs": [],
   "source": [
    "import json\n",
    "import random\n",
    "import re\n",
    "from collections import Counter\n",
    "import subprocess\n",
    "import os\n",
    "import csv\n",
    "\n",
    "import matplotlib.pyplot as plt\n",
    "import numpy as np\n",
    "import pandas as pd\n",
    "import spacy\n",
    "from datasets import load_dataset\n",
    "from sklearn.metrics import classification_report\n",
    "from sklearn.model_selection import train_test_split\n",
    "from spacy.tokens import DocBin\n",
    "from spacy.training import Example\n",
    "from spacy.util import filter_spans, minibatch, compounding\n",
    "from transformers import AutoTokenizer, AutoModelForTokenClassification\n",
    "from transformers import pipeline\n",
    "\n"
   ]
  },
  {
   "cell_type": "markdown",
   "id": "6a69fbe4",
   "metadata": {},
   "source": [
    "# **PART A - Dataset Exploration**  \n",
    "---\n",
    "\n",
    "_Investigate which standard and potential new NER types are most prominent in your data set (i.e., manual data inspection)._"
   ]
  },
  {
   "cell_type": "code",
   "execution_count": 2,
   "id": "4882f846414121f5",
   "metadata": {
    "ExecuteTime": {
     "end_time": "2024-10-30T16:45:43.307340Z",
     "start_time": "2024-10-30T16:45:28.691577Z"
    }
   },
   "outputs": [],
   "source": [
    "# Load the dataset\n",
    "dataset = load_dataset(\"argilla/medical-domain\")\n",
    "train_data = dataset['train']"
   ]
  },
  {
   "cell_type": "code",
   "execution_count": 3,
   "id": "3453202f983ff0c",
   "metadata": {
    "ExecuteTime": {
     "end_time": "2024-10-29T15:26:40.200182Z",
     "start_time": "2024-10-29T15:26:40.183294Z"
    }
   },
   "outputs": [
    {
     "name": "stdout",
     "output_type": "stream",
     "text": [
      "Features 1: text\n",
      "\n",
      "Features 2: inputs\n",
      "\n",
      "Features 3: prediction\n",
      "\n",
      "Features 4: prediction_agent\n",
      "\n",
      "Features 5: annotation\n",
      "\n",
      "Features 6: annotation_agent\n",
      "\n",
      "Features 7: multi_label\n",
      "\n",
      "Features 8: explanation\n",
      "\n",
      "Features 9: id\n",
      "\n",
      "Features 10: metadata\n",
      "\n",
      "Features 11: status\n",
      "\n",
      "Features 12: event_timestamp\n",
      "\n",
      "Features 13: metrics\n",
      "\n",
      "Sample 1: {'text': 'PREOPERATIVE DIAGNOSIS:,  Iron deficiency anemia.,POSTOPERATIVE DIAGNOSIS:,  Diverticulosis.,PROCEDURE:,  Colonoscopy.,MEDICATIONS: , MAC.,PROCEDURE: , The Olympus pediatric variable colonoscope was introduced into the rectum and advanced carefully through the colon to the cecum identified by the ileocecal valve and the appendiceal orifice.  Preparation was good, although there was some residual material in the cecum that was difficult to clear completely.  The mucosa was normal throughout the colon.  No polyps or other lesions were identified, and no blood was noted.  Some diverticula were seen of the sigmoid colon with no luminal narrowing or evidence of inflammation.  A retroflex view of the anorectal junction showed no hemorrhoids.  The patient tolerated the procedure well and was sent to the recovery room.,FINAL DIAGNOSES:,1.  Diverticulosis in the sigmoid.,2.  Otherwise normal colonoscopy to the cecum.,RECOMMENDATIONS:,1.  Follow up with Dr. X as needed.,2.  Screening colonoscopy in 2 years.,3.  Additional evaluation for other causes of anemia may be appropriate.', 'inputs': {'text': 'PREOPERATIVE DIAGNOSIS:,  Iron deficiency anemia.,POSTOPERATIVE DIAGNOSIS:,  Diverticulosis.,PROCEDURE:,  Colonoscopy.,MEDICATIONS: , MAC.,PROCEDURE: , The Olympus pediatric variable colonoscope was introduced into the rectum and advanced carefully through the colon to the cecum identified by the ileocecal valve and the appendiceal orifice.  Preparation was good, although there was some residual material in the cecum that was difficult to clear completely.  The mucosa was normal throughout the colon.  No polyps or other lesions were identified, and no blood was noted.  Some diverticula were seen of the sigmoid colon with no luminal narrowing or evidence of inflammation.  A retroflex view of the anorectal junction showed no hemorrhoids.  The patient tolerated the procedure well and was sent to the recovery room.,FINAL DIAGNOSES:,1.  Diverticulosis in the sigmoid.,2.  Otherwise normal colonoscopy to the cecum.,RECOMMENDATIONS:,1.  Follow up with Dr. X as needed.,2.  Screening colonoscopy in 2 years.,3.  Additional evaluation for other causes of anemia may be appropriate.'}, 'prediction': [{'label': ' Gastroenterology', 'score': 1.0}], 'prediction_agent': 'Argilla', 'annotation': None, 'annotation_agent': None, 'multi_label': False, 'explanation': None, 'id': '00001265-03e2-47b2-b6cf-bed32dad2fa9', 'metadata': None, 'status': 'Default', 'event_timestamp': datetime.datetime(2022, 12, 7, 9, 38, 43, 3878), 'metrics': {'text_length': 1085}}\n",
      "\n",
      "Sample 2: {'text': 'CLINICAL INDICATION:  ,Normal stress test.,PROCEDURES PERFORMED:,1.  Left heart cath.,2.  Selective coronary angiography.,3.  LV gram.,4.  Right femoral arteriogram.,5.  Mynx closure device.,PROCEDURE IN DETAIL: , The patient was explained about all the risks, benefits, and alternatives of this procedure.  The patient agreed to proceed and informed consent was signed.,Both groins were prepped and draped in the usual sterile fashion.  After local anesthesia with 2% lidocaine, a 6-French sheath was inserted in the right femoral artery.  Left and right coronary angiography was performed using 6-French JL4 and 6-French 3DRC catheters.  Then, LV gram was performed using 6-French pigtail catheter.  Post LV gram, LV-to-aortic gradient was obtained.  Then, the right femoral arteriogram was performed.  Then, the Mynx closure device was used for hemostasis.  There were no complications.,HEMODYNAMICS: , LVEDP was 9.  There was no LV-to-aortic gradient.,CORONARY ANGIOGRAPHY:,1.  Left main is normal.  It bifurcates into LAD and left circumflex.,2.  Proximal LAD at the origin of big diagonal, there is 50% to 60% calcified lesion present.  Rest of the LAD free of disease.,3.  Left circumflex is a large vessel and with minor plaque.,4.  Right coronary is dominant and also has proximal 40% stenosis.,SUMMARY:,1.  Nonobstructive coronary artery disease, LAD proximal at the origin of big diagonal has 50% to 60% stenosis, which is calcified.,2.  RCA has 40% proximal stenosis.,3.  Normal LV systolic function with LV ejection fraction of 60%.,PLAN: , We will treat with medical therapy.  If the patient becomes symptomatic, we will repeat stress test.  If there is ischemic event, the patient will need surgery for the LAD lesion.  For the time being, we will continue with the medical therapy.,', 'inputs': {'text': 'CLINICAL INDICATION:  ,Normal stress test.,PROCEDURES PERFORMED:,1.  Left heart cath.,2.  Selective coronary angiography.,3.  LV gram.,4.  Right femoral arteriogram.,5.  Mynx closure device.,PROCEDURE IN DETAIL: , The patient was explained about all the risks, benefits, and alternatives of this procedure.  The patient agreed to proceed and informed consent was signed.,Both groins were prepped and draped in the usual sterile fashion.  After local anesthesia with 2% lidocaine, a 6-French sheath was inserted in the right femoral artery.  Left and right coronary angiography was performed using 6-French JL4 and 6-French 3DRC catheters.  Then, LV gram was performed using 6-French pigtail catheter.  Post LV gram, LV-to-aortic gradient was obtained.  Then, the right femoral arteriogram was performed.  Then, the Mynx closure device was used for hemostasis.  There were no complications.,HEMODYNAMICS: , LVEDP was 9.  There was no LV-to-aortic gradient.,CORONARY ANGIOGRAPHY:,1.  Left main is normal.  It bifurcates into LAD and left circumflex.,2.  Proximal LAD at the origin of big diagonal, there is 50% to 60% calcified lesion present.  Rest of the LAD free of disease.,3.  Left circumflex is a large vessel and with minor plaque.,4.  Right coronary is dominant and also has proximal 40% stenosis.,SUMMARY:,1.  Nonobstructive coronary artery disease, LAD proximal at the origin of big diagonal has 50% to 60% stenosis, which is calcified.,2.  RCA has 40% proximal stenosis.,3.  Normal LV systolic function with LV ejection fraction of 60%.,PLAN: , We will treat with medical therapy.  If the patient becomes symptomatic, we will repeat stress test.  If there is ischemic event, the patient will need surgery for the LAD lesion.  For the time being, we will continue with the medical therapy.,'}, 'prediction': [{'label': ' Surgery', 'score': 1.0}], 'prediction_agent': 'Argilla', 'annotation': None, 'annotation_agent': None, 'multi_label': False, 'explanation': None, 'id': '0007edf0-1413-4b16-8212-3a13c2ab4e43', 'metadata': None, 'status': 'Default', 'event_timestamp': datetime.datetime(2022, 12, 7, 9, 33, 53, 387245), 'metrics': {'text_length': 1798}}\n",
      "\n",
      "Sample 3: {'text': 'FINDINGS:,Axial scans were performed from L1 to S2 and reformatted images were obtained in the sagittal and coronal planes.,Preliminary scout film demonstrates anterior end plate spondylosis at T11-12 and T12-L1.,L1-2: There is normal disc height, anterior end plate spondylosis, very minimal vacuum change with no posterior annular disc bulging or protrusion. Normal central canal, intervertebral neural foramina and facet joints (image #4).,L2-3: There is mild decreased disc height, anterior end plate spondylosis, circumferential disc protrusion measuring 4.6mm (AP) and right extraforaminal osteophyte disc complex. There is mild non-compressive right neural foraminal narrowing, minimal facet arthrosis, normal central canal and left neural foramen (image #13).,L3-4: There is normal disc height, anterior end plate spondylosis, and circumferential non-compressive annular disc bulging. The disc bulging flattens the ventral thecal sac and there is minimal non-compressive right neural foraminal narrowing, minimal to mild facet arthrosis with vacuum change on the right, normal central canal and left neural foramen (image #25).,L4-5:', 'inputs': {'text': 'FINDINGS:,Axial scans were performed from L1 to S2 and reformatted images were obtained in the sagittal and coronal planes.,Preliminary scout film demonstrates anterior end plate spondylosis at T11-12 and T12-L1.,L1-2: There is normal disc height, anterior end plate spondylosis, very minimal vacuum change with no posterior annular disc bulging or protrusion. Normal central canal, intervertebral neural foramina and facet joints (image #4).,L2-3: There is mild decreased disc height, anterior end plate spondylosis, circumferential disc protrusion measuring 4.6mm (AP) and right extraforaminal osteophyte disc complex. There is mild non-compressive right neural foraminal narrowing, minimal facet arthrosis, normal central canal and left neural foramen (image #13).,L3-4: There is normal disc height, anterior end plate spondylosis, and circumferential non-compressive annular disc bulging. The disc bulging flattens the ventral thecal sac and there is minimal non-compressive right neural foraminal narrowing, minimal to mild facet arthrosis with vacuum change on the right, normal central canal and left neural foramen (image #25).,L4-5:'}, 'prediction': [{'label': ' Radiology', 'score': 1.0}], 'prediction_agent': 'Argilla', 'annotation': None, 'annotation_agent': None, 'multi_label': False, 'explanation': None, 'id': '00097d1e-1357-4447-a39a-fe8f8b7c36ae', 'metadata': None, 'status': 'Default', 'event_timestamp': datetime.datetime(2022, 12, 7, 9, 35, 25, 277951), 'metrics': {'text_length': 1141}}\n",
      "\n",
      "Sample 4: {'text': 'PREOPERATIVE DIAGNOSIS: , Blood loss anemia.,POSTOPERATIVE DIAGNOSES:,1.  Diverticulosis coli.,2.  Internal hemorrhoids.,3.  Poor prep.,PROCEDURE PERFORMED:,  Colonoscopy with photos.,ANESTHESIA: , Conscious sedation per Anesthesia.,SPECIMENS:,  None.,HISTORY:,  The patient is an 85-year-old female who was admitted to the hospital with a markedly decreased hemoglobin and blood loss anemia.  She underwent an EGD and attempted colonoscopy; however, due to a very poor prep, only a flexible sigmoidoscopy was performed at that time.  A coloscopy is now being performed for completion.,PROCEDURE:,  After proper informed consent was obtained, the patient was brought to the Endoscopy Suite.  She was placed in the left lateral position and was given sedation by the Anesthesia Department.  A digital rectal exam was performed and there was no evidence of mass.  The colonoscope was then inserted into the rectum.  There was some solid stool encountered.  The scope was maneuvered around this.  There was relatively poor prep as the scope was advanced through the sigmoid colon and portions of the descending colon.  The scope was then passed through the transverse colon and ascending colon to the cecum.  No masses or polyps were noted.  Visualization of the portions of the colon was however somewhat limited.  There were scattered diverticuli noted in the sigmoid.,The scope was slowly withdrawn carefully examining all walls.  Once in the rectum, the scope was retroflexed and nonsurgical internal hemorrhoids were noted.  The scope was then completely withdrawn.  The patient tolerated the procedure well and was transferred to recovery room in stable condition.  She will be placed on a high-fiber diet and Colace and we will continue to monitor her hemoglobin.', 'inputs': {'text': 'PREOPERATIVE DIAGNOSIS: , Blood loss anemia.,POSTOPERATIVE DIAGNOSES:,1.  Diverticulosis coli.,2.  Internal hemorrhoids.,3.  Poor prep.,PROCEDURE PERFORMED:,  Colonoscopy with photos.,ANESTHESIA: , Conscious sedation per Anesthesia.,SPECIMENS:,  None.,HISTORY:,  The patient is an 85-year-old female who was admitted to the hospital with a markedly decreased hemoglobin and blood loss anemia.  She underwent an EGD and attempted colonoscopy; however, due to a very poor prep, only a flexible sigmoidoscopy was performed at that time.  A coloscopy is now being performed for completion.,PROCEDURE:,  After proper informed consent was obtained, the patient was brought to the Endoscopy Suite.  She was placed in the left lateral position and was given sedation by the Anesthesia Department.  A digital rectal exam was performed and there was no evidence of mass.  The colonoscope was then inserted into the rectum.  There was some solid stool encountered.  The scope was maneuvered around this.  There was relatively poor prep as the scope was advanced through the sigmoid colon and portions of the descending colon.  The scope was then passed through the transverse colon and ascending colon to the cecum.  No masses or polyps were noted.  Visualization of the portions of the colon was however somewhat limited.  There were scattered diverticuli noted in the sigmoid.,The scope was slowly withdrawn carefully examining all walls.  Once in the rectum, the scope was retroflexed and nonsurgical internal hemorrhoids were noted.  The scope was then completely withdrawn.  The patient tolerated the procedure well and was transferred to recovery room in stable condition.  She will be placed on a high-fiber diet and Colace and we will continue to monitor her hemoglobin.'}, 'prediction': [{'label': ' Surgery', 'score': 1.0}], 'prediction_agent': 'Argilla', 'annotation': None, 'annotation_agent': None, 'multi_label': False, 'explanation': None, 'id': '001622b6-0182-4fee-9881-ae15e81ce836', 'metadata': None, 'status': 'Default', 'event_timestamp': datetime.datetime(2022, 12, 7, 9, 34, 15, 982054), 'metrics': {'text_length': 1767}}\n",
      "\n",
      "Sample 5: {'text': 'REASON FOR VISIT:  ,Elevated PSA with nocturia and occasional daytime frequency.,HISTORY: , A 68-year-old male with a history of frequency and some outlet obstructive issues along with irritative issues.  The patient has had history of an elevated PSA and PSA in 2004 was 5.5.  In 2003, he had undergone a biopsy by Dr. X, which was negative for adenocarcinoma of the prostate.  The patient has had PSAs as high as noted above.  His PSAs have been as low as 1.6, but those were on Proscar.  He otherwise appears to be doing reasonably well, off the Proscar, otherwise does have some irritative symptoms.  This has been ongoing for greater than five years.  No other associated symptoms or modifying factors.  Severity is moderate.  PSA relatively stable over time.,IMPRESSION: , Stable PSA over time, although he does have some irritative symptoms.  After our discussion, it does appear that if he is not drinking close to going to bed, he notes that his nocturia has significantly decreased.  At this juncture what I would like to do is to start with behavior modification.  There were no other associated symptoms or modifying factors.,PLAN: , The patient will discontinue all caffeinated and carbonated beverages and any fluids three hours prior to going to bed.  He already knows that this does decrease his nocturia.  He will do this without medications to see how well he does and hopefully he may need no other additional medications other than may be changing his alpha-blocker to something of more efficacious.', 'inputs': {'text': 'REASON FOR VISIT:  ,Elevated PSA with nocturia and occasional daytime frequency.,HISTORY: , A 68-year-old male with a history of frequency and some outlet obstructive issues along with irritative issues.  The patient has had history of an elevated PSA and PSA in 2004 was 5.5.  In 2003, he had undergone a biopsy by Dr. X, which was negative for adenocarcinoma of the prostate.  The patient has had PSAs as high as noted above.  His PSAs have been as low as 1.6, but those were on Proscar.  He otherwise appears to be doing reasonably well, off the Proscar, otherwise does have some irritative symptoms.  This has been ongoing for greater than five years.  No other associated symptoms or modifying factors.  Severity is moderate.  PSA relatively stable over time.,IMPRESSION: , Stable PSA over time, although he does have some irritative symptoms.  After our discussion, it does appear that if he is not drinking close to going to bed, he notes that his nocturia has significantly decreased.  At this juncture what I would like to do is to start with behavior modification.  There were no other associated symptoms or modifying factors.,PLAN: , The patient will discontinue all caffeinated and carbonated beverages and any fluids three hours prior to going to bed.  He already knows that this does decrease his nocturia.  He will do this without medications to see how well he does and hopefully he may need no other additional medications other than may be changing his alpha-blocker to something of more efficacious.'}, 'prediction': [{'label': ' SOAP / Chart / Progress Notes', 'score': 1.0}], 'prediction_agent': 'Argilla', 'annotation': None, 'annotation_agent': None, 'multi_label': False, 'explanation': None, 'id': '0029245f-8b45-4796-ba09-7760612289c6', 'metadata': None, 'status': 'Default', 'event_timestamp': datetime.datetime(2022, 12, 7, 9, 34, 59, 528244), 'metrics': {'text_length': 1519}}\n",
      "\n"
     ]
    }
   ],
   "source": [
    "def inspect_data(data, num_samples=5):\n",
    "    # Print out the full structure of dataset\n",
    "    for i, item in enumerate(data[:num_samples], 1):\n",
    "        print(f\"Features {i}: {item}\\n\")\n",
    "\n",
    "    # Print out the structure and content of the first few data entries\n",
    "    for i in range(num_samples):\n",
    "        sample = data[i]\n",
    "        print(f\"Sample {i+1}: {sample}\\n\")\n",
    "\n",
    "# Run the inspection of data\n",
    "inspect_data(train_data)"
   ]
  },
  {
   "cell_type": "markdown",
   "id": "58bbb6707f6db455",
   "metadata": {},
   "source": [
    "### *Findings*\n",
    "\n",
    "Standard NER types that are prominent in the data include:\n",
    "- Person: Names of patients, doctors, etc.\n",
    "- Date and Time: Procedure dates, admission dates, historical medical information, etc.\n",
    "- Locations: Cities, country names, etc\n",
    "- Organizations: Hospitals, clinics, or medical departments (e.g., radiology).\n",
    "- Quantification: Cardinal numbers, percentages, and product-related information.\n",
    "\n",
    "Potential new NER types prominent in the data include:\n",
    "- Diagnosis: Medical conditions (e.g., anemia, carcinoma).\n",
    "- Symptoms: Descriptions of patient symptoms (e.g., \"back pain,\" \"nocturia\").\n",
    "- Treatment: Prescriptions, procedures, or follow-ups (e.g., \"colonoscopy,\" \"high-fiber diet\").\n",
    "- Lab Values: Measurements and results (e.g., \"ejection fraction,\" \"hemoglobin levels\")\n",
    "- Anatomical Location: Specific body parts or anatomical locations.\n",
    "- Medication: Names of drugs or pharmaceutical compounds prescribed or administered.\n",
    "- Medical Equipment: Devices or instruments used in medical procedures or patient care.\n",
    "- Genetic Markers: Specific genes or genetic variations relevant to patient diagnosis or treatment.\n",
    "- Dosage Information: Details regarding the amount and frequency of medication administration.\n",
    "- Hospital Department: Specific departments within a hospital, such as cardiology or oncology.\n",
    "- Allergies: Documented patient allergies to medications, foods, or other substances.\n",
    "- Clinical Tests: Specific diagnostic tests or assessments conducted on patients."
   ]
  },
  {
   "cell_type": "markdown",
   "id": "500af6f2",
   "metadata": {},
   "source": [
    "# **PART B - spaCy's Standard NER Classifier**  \n",
    "---\n",
    "_Apply the standard NER classifier of spaCy to your data._"
   ]
  },
  {
   "cell_type": "code",
   "execution_count": 4,
   "id": "2795a4bf9198adb0",
   "metadata": {
    "ExecuteTime": {
     "end_time": "2024-10-30T17:09:44.557766Z",
     "start_time": "2024-10-30T16:53:52.255011Z"
    }
   },
   "outputs": [],
   "source": [
    "# Initialize the spaCy model\n",
    "nlp = spacy.load(\"en_core_web_sm\")"
   ]
  },
  {
   "cell_type": "code",
   "execution_count": 5,
   "id": "6f883319",
   "metadata": {},
   "outputs": [],
   "source": [
    "# Function to extract entities from a text\n",
    "def extract_entities(text):\n",
    "    doc = nlp(text)\n",
    "    return [(ent.text, ent.label_) for ent in doc.ents]\n",
    "\n",
    "# Process the dataset and save results\n",
    "results = []\n",
    "for example in train_data['text']:\n",
    "    entities = extract_entities(example)\n",
    "    results.append({'text': example, 'entities': entities})"
   ]
  },
  {
   "cell_type": "code",
   "execution_count": 6,
   "id": "f1f087d4",
   "metadata": {},
   "outputs": [
    {
     "name": "stdout",
     "output_type": "stream",
     "text": [
      "spaCy NER outputs saved to spacy_ner_results.csv\n"
     ]
    }
   ],
   "source": [
    "# Save the results to a CSV\n",
    "output_file = \"spacy_ner_results.csv\"\n",
    "df = pd.DataFrame(results)\n",
    "df.to_csv(output_file, index=False)\n",
    "\n",
    "print(f\"spaCy NER outputs saved to {output_file}\")"
   ]
  },
  {
   "cell_type": "markdown",
   "id": "1864bb58",
   "metadata": {},
   "source": [
    "# **PART C - Evaluation of NER Classifier**  \n",
    "---\n",
    "_Find out how to evaluate the quality of the NER classification and evaluate it automatically and manually with 100 randomly sampled entities._"
   ]
  },
  {
   "cell_type": "markdown",
   "id": "717303e4",
   "metadata": {},
   "source": [
    "## **C.1 - Qualitative Evaluation**"
   ]
  },
  {
   "cell_type": "code",
   "execution_count": 7,
   "id": "582e3390",
   "metadata": {},
   "outputs": [],
   "source": [
    "# Initialize a counter for NER labels\n",
    "ner_counter = Counter()\n",
    "\n",
    "# Dictionary to store up to 5 examples for each NER label\n",
    "ner_examples = {}\n",
    "\n",
    "# Process the results list\n",
    "for result in results:\n",
    "    for entity_text, entity_label in result['entities']:\n",
    "        ner_counter[entity_label] += 1\n",
    "        if entity_label not in ner_examples:\n",
    "            ner_examples[entity_label] = []\n",
    "        \n",
    "        # Store up to 5 examples for each label\n",
    "        if len(ner_examples[entity_label]) < 5:\n",
    "            ner_examples[entity_label].append(entity_text)"
   ]
  },
  {
   "cell_type": "code",
   "execution_count": 8,
   "id": "a80936dc",
   "metadata": {},
   "outputs": [
    {
     "name": "stdout",
     "output_type": "stream",
     "text": [
      "NER Types and Their Counts:\n",
      "ORG: 30895\n",
      "NORP: 4010\n",
      "PERSON: 19049\n",
      "DATE: 19713\n",
      "GPE: 9398\n",
      "PERCENT: 3166\n",
      "CARDINAL: 31112\n",
      "WORK_OF_ART: 628\n",
      "PRODUCT: 4946\n",
      "QUANTITY: 7428\n",
      "MONEY: 3663\n",
      "TIME: 4156\n",
      "ORDINAL: 3386\n",
      "EVENT: 117\n",
      "FAC: 745\n",
      "LOC: 1304\n",
      "LANGUAGE: 153\n",
      "LAW: 417\n"
     ]
    }
   ],
   "source": [
    "# Print the summary of NER types and their counts\n",
    "print(\"NER Types and Their Counts:\")\n",
    "for label, count in ner_counter.items():\n",
    "    print(f\"{label}: {count}\")"
   ]
  },
  {
   "cell_type": "code",
   "execution_count": 9,
   "id": "7e16d031",
   "metadata": {},
   "outputs": [
    {
     "name": "stdout",
     "output_type": "stream",
     "text": [
      "Text: PREOPERATIVE DIAGNOSIS:,  Iron deficiency anemia.,POSTOPERATIVE DIAGNOSIS:,  Diverticulosis.,PROCEDURE:,  Colonoscopy.,MEDICATIONS: , MAC.,PROCEDURE: , The Olympus pediatric variable colonoscope was introduced into the rectum and advanced carefully through the colon to the cecum identified by the ileocecal valve and the appendiceal orifice.  Preparation was good, although there was some residual material in the cecum that was difficult to clear completely.  The mucosa was normal throughout the colon.  No polyps or other lesions were identified, and no blood was noted.  Some diverticula were seen of the sigmoid colon with no luminal narrowing or evidence of inflammation.  A retroflex view of the anorectal junction showed no hemorrhoids.  The patient tolerated the procedure well and was sent to the recovery room.,FINAL DIAGNOSES:,1.  Diverticulosis in the sigmoid.,2.  Otherwise normal colonoscopy to the cecum.,RECOMMENDATIONS:,1.  Follow up with Dr. X as needed.,2.  Screening colonoscopy in 2 years.,3.  Additional evaluation for other causes of anemia may be appropriate.\n",
      "Entities: [('Olympus', 'ORG'), ('retroflex', 'NORP'), ('X', 'PERSON'), ('2 years', 'DATE')]\n",
      "\n",
      "Text: CLINICAL INDICATION:  ,Normal stress test.,PROCEDURES PERFORMED:,1.  Left heart cath.,2.  Selective coronary angiography.,3.  LV gram.,4.  Right femoral arteriogram.,5.  Mynx closure device.,PROCEDURE IN DETAIL: , The patient was explained about all the risks, benefits, and alternatives of this procedure.  The patient agreed to proceed and informed consent was signed.,Both groins were prepped and draped in the usual sterile fashion.  After local anesthesia with 2% lidocaine, a 6-French sheath was inserted in the right femoral artery.  Left and right coronary angiography was performed using 6-French JL4 and 6-French 3DRC catheters.  Then, LV gram was performed using 6-French pigtail catheter.  Post LV gram, LV-to-aortic gradient was obtained.  Then, the right femoral arteriogram was performed.  Then, the Mynx closure device was used for hemostasis.  There were no complications.,HEMODYNAMICS: , LVEDP was 9.  There was no LV-to-aortic gradient.,CORONARY ANGIOGRAPHY:,1.  Left main is normal.  It bifurcates into LAD and left circumflex.,2.  Proximal LAD at the origin of big diagonal, there is 50% to 60% calcified lesion present.  Rest of the LAD free of disease.,3.  Left circumflex is a large vessel and with minor plaque.,4.  Right coronary is dominant and also has proximal 40% stenosis.,SUMMARY:,1.  Nonobstructive coronary artery disease, LAD proximal at the origin of big diagonal has 50% to 60% stenosis, which is calcified.,2.  RCA has 40% proximal stenosis.,3.  Normal LV systolic function with LV ejection fraction of 60%.,PLAN: , We will treat with medical therapy.  If the patient becomes symptomatic, we will repeat stress test.  If there is ischemic event, the patient will need surgery for the LAD lesion.  For the time being, we will continue with the medical therapy.,\n",
      "Entities: [('Normal', 'PERSON'), ('Selective', 'PERSON'), ('LV gram.', 'PERSON'), ('Mynx', 'PERSON'), ('DETAIL', 'ORG'), ('anesthesia', 'GPE'), ('2%', 'PERCENT'), ('6', 'CARDINAL'), ('6-French', 'NORP'), ('6-French', 'NORP'), ('LV gram', 'PERSON'), ('6', 'CARDINAL'), ('Post LV gram', 'WORK_OF_ART'), ('Mynx', 'PERSON'), ('LVEDP', 'PERSON'), ('9', 'DATE'), ('LAD', 'GPE'), ('50% to 60%', 'PERCENT'), ('40%', 'PERCENT'), ('LAD', 'ORG'), ('50% to 60%', 'PERCENT'), ('RCA', 'ORG'), ('40%', 'PERCENT'), ('60%.,PLAN', 'CARDINAL'), ('LAD', 'ORG')]\n",
      "\n",
      "Text: FINDINGS:,Axial scans were performed from L1 to S2 and reformatted images were obtained in the sagittal and coronal planes.,Preliminary scout film demonstrates anterior end plate spondylosis at T11-12 and T12-L1.,L1-2: There is normal disc height, anterior end plate spondylosis, very minimal vacuum change with no posterior annular disc bulging or protrusion. Normal central canal, intervertebral neural foramina and facet joints (image #4).,L2-3: There is mild decreased disc height, anterior end plate spondylosis, circumferential disc protrusion measuring 4.6mm (AP) and right extraforaminal osteophyte disc complex. There is mild non-compressive right neural foraminal narrowing, minimal facet arthrosis, normal central canal and left neural foramen (image #13).,L3-4: There is normal disc height, anterior end plate spondylosis, and circumferential non-compressive annular disc bulging. The disc bulging flattens the ventral thecal sac and there is minimal non-compressive right neural foraminal narrowing, minimal to mild facet arthrosis with vacuum change on the right, normal central canal and left neural foramen (image #25).,L4-5:\n",
      "Entities: [('L1', 'CARDINAL'), ('T11-12', 'PRODUCT'), ('T12-L1.,L1-2', 'ORG'), ('facet joints', 'PERSON'), ('4.6mm', 'QUANTITY'), ('AP', 'ORG'), ('13).,L3', 'MONEY')]\n",
      "\n"
     ]
    }
   ],
   "source": [
    "# Print some results\n",
    "for result in results[:3]: \n",
    "    print(f\"Text: {result['text']}\")\n",
    "    print(f\"Entities: {result['entities']}\\n\")"
   ]
  },
  {
   "cell_type": "code",
   "execution_count": 10,
   "id": "6ea37828",
   "metadata": {},
   "outputs": [
    {
     "name": "stdout",
     "output_type": "stream",
     "text": [
      "\n",
      "Examples for Each NER Type:\n",
      "ORG: ['Olympus', 'DETAIL', 'LAD', 'RCA', 'LAD']\n",
      "NORP: ['retroflex', '6-French', '6-French', 'x2.,3', 'x2.,3']\n",
      "PERSON: ['X', 'Normal', 'Selective', 'LV gram.', 'Mynx']\n",
      "DATE: ['2 years', '9', '85-year-old', '68-year-old', '2004']\n",
      "GPE: ['anesthesia', 'LAD', 'Anesthesia', 'Macula', 'anesthesia']\n",
      "PERCENT: ['2%', '50% to 60%', '40%', '50% to 60%', '40%']\n",
      "CARDINAL: ['6', '6', '60%.,PLAN', 'L1', '20/20']\n",
      "WORK_OF_ART: ['Post LV gram', 'Fahrenheit', 'DIAGNOSES,1', 'Lungs', 'Versed IV.,FINDINGS:']\n",
      "PRODUCT: ['T11-12', 'G3 P 2', 'Munro', 'Accurus', 'T8']\n",
      "QUANTITY: ['4.6mm', '360 degrees', 'approximately 0.5 cm', '2.6 cm', '10 mm']\n",
      "MONEY: ['13).,L3', '#0 Vicryl', '2', '3', '3']\n",
      "TIME: ['daytime', 'three hours', '15 minutes', \"1 o'clock\", \"9 o'clock\"]\n",
      "ORDINAL: ['second', 'third', 'first', 'second', 'first']\n",
      "EVENT: ['Depression', 'Hospital Day Surgery', 'Gram', 'Gram', 'Cup']\n",
      "FAC: ['Charcot-Marie', 'Oriented x3', 'IV Nexium 40', 'Rocephin IV', 'Hospital']\n",
      "LOC: ['Inpatient Operative Suite', 'T2b', 'Atraumatic', 'Left ventricular angiogram', 'Atraumatic']\n",
      "LANGUAGE: ['Wellbutrin', 'Wellbutrin', 'Spanish', 'Motrin', 'Heparin']\n",
      "LAW: ['the Operating Room #2', 'Isentress 400', 'Glucose 56', 'Vicodin 5/500', 'Glucosamine 500/400']\n"
     ]
    }
   ],
   "source": [
    "# Print 5 examples for each NER type\n",
    "print(\"\\nExamples for Each NER Type:\")\n",
    "for label, examples in ner_examples.items():\n",
    "    print(f\"{label}: {examples}\")"
   ]
  },
  {
   "cell_type": "markdown",
   "id": "c232dfdb",
   "metadata": {},
   "source": [
    "### *Findings*\n",
    "\n",
    "- Qualitative analysis of the SpaCy NER classifier on the dataset reveals significant shortcomings in its performance. \n",
    "- The most common standard NER types were ORG (30,895 occurrences), CARDINAL (31,112 occurrences), and DATE (19,713 occurrences). \n",
    "- Rare NER types included EVENT (117 occurrences), LANGUAGE (153 occurrences), and LAW (417 occurrences). \n",
    "- Although the classifier correctly identified entities such as \"50% to 60%\" (PERCENT), and \"2 years\" (DATE), it misclassified entities way more often. For example, \"retroflex\" (NORP), \"facet joints\" (PERSON), and \"T12-L1.,L1-2\" (ORG) were incorrectly labeled. \n",
    "- Additionally, many tokens that were in fact NER types were not identified at all. \n",
    "- This suggests that the standard SpaCy model, trained on general-purpose data, is not well-suited for medical NER tasks, as most identified entities were mislabeled, and many relevant tokens were missed. "
   ]
  },
  {
   "cell_type": "markdown",
   "id": "97cbbfac",
   "metadata": {},
   "source": [
    "## **C.2 - Automatic Evaluation**"
   ]
  },
  {
   "cell_type": "markdown",
   "id": "fc349e0f",
   "metadata": {},
   "source": [
    "### **C.2.1 - Data Subset**"
   ]
  },
  {
   "cell_type": "code",
   "execution_count": 11,
   "id": "d2c2e8de",
   "metadata": {},
   "outputs": [],
   "source": [
    "# Extract the first 100 samples from the dataset\n",
    "first_100_samples = dataset['train'].select(range(100))"
   ]
  },
  {
   "cell_type": "code",
   "execution_count": 12,
   "id": "f387ce99",
   "metadata": {},
   "outputs": [
    {
     "name": "stdout",
     "output_type": "stream",
     "text": [
      "Number of samples: 100\n",
      "Number of unique classes: 28\n",
      "Number of samples per class: {' Gastroenterology': 5, ' Surgery': 22, ' Radiology': 4, ' SOAP / Chart / Progress Notes': 2, ' Letters': 3, ' Lab Medicine - Pathology': 1, ' Consult - History and Phy.': 15, ' Podiatry': 1, ' General Medicine': 5, ' Psychiatry / Psychology': 2, ' Cardiovascular / Pulmonary': 6, ' Urology': 1, ' Ophthalmology': 1, ' Physical Medicine - Rehab': 2, ' Neurology': 5, ' Autopsy': 1, ' Orthopedic': 6, ' Hematology - Oncology': 1, ' Allergy / Immunology': 1, ' Pediatrics - Neonatal': 2, ' Dentistry': 2, ' Neurosurgery': 4, ' Pain Management': 2, ' Nephrology': 2, ' Emergency Room Reports': 1, ' Obstetrics / Gynecology': 1, ' Speech - Language': 1, ' Diets and Nutritions': 1}\n",
      "Text length in sentences - Min: 1, Avg: 45.70, Max: 139\n",
      "Text length in characters - Min: 12, Avg: 3203.55, Max: 9991\n"
     ]
    }
   ],
   "source": [
    "# Initialize counters and lists\n",
    "class_counter = Counter()\n",
    "sentence_lengths = []\n",
    "character_lengths = []\n",
    "\n",
    "# Iterate over the first 100 samples\n",
    "for sample in first_100_samples:\n",
    "    # Access the 'prediction' field which contains the class labels\n",
    "    predictions = sample.get('prediction', [])\n",
    "    for prediction in predictions:\n",
    "        label = prediction.get('label')\n",
    "        if label:\n",
    "            class_counter[label] += 1\n",
    "\n",
    "    # Access the 'text' field\n",
    "    text = sample.get('text', '')\n",
    "    if text:\n",
    "        # Count sentences using regex to split on sentence-ending punctuation\n",
    "        sentences = re.split(r'[.!?]', text)\n",
    "        # Filter out empty strings after split\n",
    "        sentences = [s for s in sentences if s.strip()]\n",
    "        sentence_lengths.append(len(sentences))\n",
    "\n",
    "        # Count characters\n",
    "        character_lengths.append(len(text))\n",
    "\n",
    "# Calculate statistics\n",
    "num_samples = len(first_100_samples)\n",
    "num_unique_classes = len(class_counter)\n",
    "samples_per_class = dict(class_counter)\n",
    "min_sentences = np.min(sentence_lengths) if sentence_lengths else 0\n",
    "avg_sentences = np.mean(sentence_lengths) if sentence_lengths else 0\n",
    "max_sentences = np.max(sentence_lengths) if sentence_lengths else 0\n",
    "min_characters = np.min(character_lengths) if character_lengths else 0\n",
    "avg_characters = np.mean(character_lengths) if character_lengths else 0\n",
    "max_characters = np.max(character_lengths) if character_lengths else 0\n",
    "\n",
    "# Print statistics\n",
    "print(f\"Number of samples: {num_samples}\")\n",
    "print(f\"Number of unique classes: {num_unique_classes}\")\n",
    "print(f\"Number of samples per class: {samples_per_class}\")\n",
    "print(f\"Text length in sentences - Min: {min_sentences}, Avg: {avg_sentences:.2f}, Max: {max_sentences}\")\n",
    "print(f\"Text length in characters - Min: {min_characters}, Avg: {avg_characters:.2f}, Max: {max_characters}\")\n"
   ]
  },
  {
   "cell_type": "markdown",
   "id": "54c4cfcd",
   "metadata": {},
   "source": [
    "### **C.2.2 - Ground Truth (Manual Annotation)**"
   ]
  },
  {
   "cell_type": "code",
   "execution_count": 13,
   "id": "d22573f1",
   "metadata": {},
   "outputs": [],
   "source": [
    "# Load the annotations from the JSON file\n",
    "with open('annotations.json', 'r') as f:\n",
    "    annotations_data = json.load(f)\n",
    "\n",
    "# Format them \n",
    "annotations_gt = []\n",
    "for annotation in annotations_data['annotations']:\n",
    "    if annotation:\n",
    "        text = annotation[0] \n",
    "        entities = []\n",
    "        for start, end, label in annotation[1]['entities']:\n",
    "            entity_text = text[start:end]  # Extract text using offsets\n",
    "            entities.append((entity_text.strip(), label))\n",
    "        annotations_gt.append({'text': text, 'entities': entities})\n"
   ]
  },
  {
   "cell_type": "code",
   "execution_count": 14,
   "id": "bcab6d5a",
   "metadata": {},
   "outputs": [
    {
     "name": "stdout",
     "output_type": "stream",
     "text": [
      "Formatted ground truth annotations saved to annotations_gt.csv\n"
     ]
    }
   ],
   "source": [
    "# Save the results to a CSV\n",
    "output_file = \"annotations_gt.csv\"\n",
    "df = pd.DataFrame(annotations_gt)\n",
    "df.to_csv(output_file, index=False)\n",
    "\n",
    "print(f\"Formatted ground truth annotations saved to {output_file}\")"
   ]
  },
  {
   "cell_type": "code",
   "execution_count": 15,
   "id": "5461ec48",
   "metadata": {},
   "outputs": [],
   "source": [
    "# Explore characteristics of the annotations\n",
    "# Initialize a counter for NER labels\n",
    "annotation_counter = Counter()\n",
    "\n",
    "# Dictionary to store up to 5 examples for each NER label\n",
    "annotation_examples = {}\n",
    "\n",
    "# Process the formatted annotations\n",
    "for annotation in annotations_gt:\n",
    "    for entity_text, entity_label in annotation['entities']:\n",
    "        annotation_counter[entity_label] += 1\n",
    "        if entity_label not in annotation_examples:\n",
    "            annotation_examples[entity_label] = set()\n",
    "\n",
    "        # Store unique examples for each label\n",
    "        if len(annotation_examples[entity_label]) < 5:\n",
    "            annotation_examples[entity_label].add(entity_text)\n",
    "\n",
    "# Convert sets back to lists for printing\n",
    "annotation_examples = {label: list(examples) for label, examples in annotation_examples.items()}\n"
   ]
  },
  {
   "cell_type": "code",
   "execution_count": 16,
   "id": "ecba8722",
   "metadata": {},
   "outputs": [
    {
     "name": "stdout",
     "output_type": "stream",
     "text": [
      "NER Types and Their Counts in Annotations:\n",
      "MEDICAL DIAGNOSIS: 1312\n",
      "MEDICAL PROCEDURE: 935\n",
      "MEDICATION: 409\n",
      "ANATOMICAL LOCATION: 1720\n",
      "CARDINAL: 1413\n",
      "PERSON: 63\n",
      "DATE: 136\n",
      "PERCENT: 73\n",
      "SYMPTOM: 696\n",
      "TIME: 377\n",
      "LOC: 46\n"
     ]
    }
   ],
   "source": [
    "# Print the summary of NER types and their counts\n",
    "print(\"NER Types and Their Counts in Annotations:\")\n",
    "for label, count in annotation_counter.items():\n",
    "    print(f\"{label}: {count}\")\n"
   ]
  },
  {
   "cell_type": "code",
   "execution_count": 17,
   "id": "85d05ac4",
   "metadata": {},
   "outputs": [
    {
     "name": "stdout",
     "output_type": "stream",
     "text": [
      "\n",
      "Some Annotation Results:\n",
      "Text:         \"PREOPERATIVE DIAGNOSIS:,  Iron deficiency anemia.,POSTOPERATIVE DIAGNOSIS:,  Diverticulosis.,PROCEDURE:,  Colonoscopy.,MEDICATIONS: , MAC.,PROCEDURE: , The Olympus pediatric variable colonoscope was introduced into the rectum and advanced carefully through the colon to the cecum identified by the ileocecal valve and the appendiceal orifice.  Preparation was good, although there was some residual material in the cecum that was difficult to clear completely.  The mucosa was normal throughout the colon.  No polyps or other lesions were identified, and no blood was noted.  Some diverticula were seen of the sigmoid colon with no luminal narrowing or evidence of inflammation.  A retroflex view of the anorectal junction showed no hemorrhoids.  The patient tolerated the procedure well and was sent to the recovery room.,FINAL DIAGNOSES:,1.  Diverticulosis in the sigmoid.,2.  Otherwise normal colonoscopy to the cecum.,RECOMMENDATIONS:,1.  Follow up with Dr. X as needed.,2.  Screening colonoscopy in 2 years.,3.  Additional evaluation for other causes of anemia may be appropriate.\",\n",
      "Entities: [('Iron deficiency anemia', 'MEDICAL DIAGNOSIS'), ('Diverticulosis', 'MEDICAL DIAGNOSIS'), ('Colonoscopy', 'MEDICAL PROCEDURE'), ('MAC.', 'MEDICATION'), ('rectum', 'ANATOMICAL LOCATION'), ('colon', 'ANATOMICAL LOCATION'), ('cecum', 'ANATOMICAL LOCATION'), ('ileocecal valve', 'ANATOMICAL LOCATION'), ('appendiceal orifice', 'ANATOMICAL LOCATION'), ('cecum', 'ANATOMICAL LOCATION'), ('mucosa', 'ANATOMICAL LOCATION'), ('colon', 'ANATOMICAL LOCATION'), ('polyps', 'MEDICAL DIAGNOSIS'), ('lesions', 'MEDICAL DIAGNOSIS'), ('diverticula', 'MEDICAL DIAGNOSIS'), ('sigmoid colon', 'ANATOMICAL LOCATION'), ('luminal narrowing', 'MEDICAL DIAGNOSIS'), ('inflammation', 'MEDICAL DIAGNOSIS'), ('anorectal junction', 'ANATOMICAL LOCATION'), ('hemorrhoids.', 'MEDICAL DIAGNOSIS'), ('1', 'CARDINAL'), ('Diverticulosis', 'MEDICAL DIAGNOSIS'), ('sigmoid', 'ANATOMICAL LOCATION'), ('2', 'CARDINAL'), ('colonoscopy', 'MEDICAL PROCEDURE'), ('cecum', 'ANATOMICAL LOCATION'), ('1', 'CARDINAL'), ('Dr. X', 'PERSON'), ('2', 'CARDINAL'), ('colonoscopy', 'MEDICAL PROCEDURE'), ('2 years', 'DATE'), ('3', 'CARDINAL'), ('anemia', 'MEDICAL DIAGNOSIS')]\n",
      "\n",
      "Text:         \"CLINICAL INDICATION:  ,Normal stress test.,PROCEDURES PERFORMED:,1.  Left heart cath.,2.  Selective coronary angiography.,3.  LV gram.,4.  Right femoral arteriogram.,5.  Mynx closure device.,PROCEDURE IN DETAIL: , The patient was explained about all the risks, benefits, and alternatives of this procedure.  The patient agreed to proceed and informed consent was signed.,Both groins were prepped and draped in the usual sterile fashion.  After local anesthesia with 2% lidocaine, a 6-French sheath was inserted in the right femoral artery.  Left and right coronary angiography was performed using 6-French JL4 and 6-French 3DRC catheters.  Then, LV gram was performed using 6-French pigtail catheter.  Post LV gram, LV-to-aortic gradient was obtained.  Then, the right femoral arteriogram was performed.  Then, the Mynx closure device was used for hemostasis.  There were no complications.,HEMODYNAMICS: , LVEDP was 9.  There was no LV-to-aortic gradient.,CORONARY ANGIOGRAPHY:,1.  Left main is normal.  It bifurcates into LAD and left circumflex.,2.  Proximal LAD at the origin of big diagonal, there is 50% to 60% calcified lesion present.  Rest of the LAD free of disease.,3.  Left circumflex is a large vessel and with minor plaque.,4.  Right coronary is dominant and also has proximal 40% stenosis.,SUMMARY:,1.  Nonobstructive coronary artery disease, LAD proximal at the origin of big diagonal has 50% to 60% stenosis, which is calcified.,2.  RCA has 40% proximal stenosis.,3.  Normal LV systolic function with LV ejection fraction of 60%.,PLAN: , We will treat with medical therapy.  If the patient becomes symptomatic, we will repeat stress test.  If there is ischemic event, the patient will need surgery for the LAD lesion.  For the time being, we will continue with the medical therapy.,\",\n",
      "Entities: [('Normal stress test', 'MEDICAL PROCEDURE'), ('1', 'CARDINAL'), ('Left heart cath.', 'MEDICAL PROCEDURE'), ('2', 'CARDINAL'), ('Selective coronary angiography', 'MEDICAL PROCEDURE'), ('3', 'CARDINAL'), ('LV gram', 'MEDICAL PROCEDURE'), ('4', 'CARDINAL'), ('Right femoral arteriogram', 'MEDICAL PROCEDURE'), ('5', 'CARDINAL'), ('Mynx closure device', 'MEDICAL PROCEDURE'), ('groins', 'ANATOMICAL LOCATION'), ('2%', 'PERCENT'), ('lidocaine', 'MEDICATION'), ('6', 'CARDINAL'), ('right femoral artery', 'ANATOMICAL LOCATION'), ('Left and right coronary angiography', 'MEDICAL PROCEDURE'), ('6', 'CARDINAL'), ('6', 'CARDINAL'), ('LV gram', 'MEDICAL PROCEDURE'), ('6', 'CARDINAL'), ('LV gram', 'MEDICAL PROCEDURE'), ('right femoral arteriogram', 'MEDICAL PROCEDURE'), ('Mynx closure device', 'MEDICAL PROCEDURE'), ('hemostasis', 'MEDICAL PROCEDURE'), ('9', 'CARDINAL'), ('CORONARY ANGIOGRAPHY', 'MEDICAL PROCEDURE'), ('1', 'CARDINAL'), ('LAD', 'ANATOMICAL LOCATION'), ('left circumflex', 'ANATOMICAL LOCATION'), ('2', 'CARDINAL'), ('Proximal LAD', 'ANATOMICAL LOCATION'), ('50%', 'PERCENT'), ('60%', 'PERCENT'), ('calcified lesion', 'MEDICAL PROCEDURE'), ('LAD', 'ANATOMICAL LOCATION'), ('3', 'CARDINAL'), ('Left circumflex', 'ANATOMICAL LOCATION'), ('minor plaque', 'MEDICAL DIAGNOSIS'), ('4', 'CARDINAL'), ('Right coronary', 'ANATOMICAL LOCATION'), ('40%', 'PERCENT'), ('stenosis', 'MEDICAL DIAGNOSIS'), ('1', 'CARDINAL'), ('Nonobstructive coronary artery disease', 'MEDICAL DIAGNOSIS'), ('LAD', 'ANATOMICAL LOCATION'), ('50%', 'PERCENT'), ('60%', 'PERCENT'), ('stenosis', 'MEDICAL DIAGNOSIS'), ('2', 'CARDINAL'), ('RCA', 'ANATOMICAL LOCATION'), ('40%', 'PERCENT'), ('stenosis', 'MEDICAL DIAGNOSIS'), ('3', 'CARDINAL'), ('60%', 'PERCENT'), ('stress test.', 'MEDICAL PROCEDURE'), ('ischemic event', 'MEDICAL DIAGNOSIS'), ('surgery', 'MEDICAL PROCEDURE'), ('LAD lesion.', 'MEDICAL DIAGNOSIS')]\n",
      "\n",
      "Text:         \"FINDINGS:,Axial scans were performed from L1 to S2 and reformatted images were obtained in the sagittal and coronal planes.,Preliminary scout film demonstrates anterior end plate spondylosis at T11-12 and T12-L1.,L1-2: There is normal disc height, anterior end plate spondylosis, very minimal vacuum change with no posterior annular disc bulging or protrusion. Normal central canal, intervertebral neural foramina and facet joints (image #4).,L2-3: There is mild decreased disc height, anterior end plate spondylosis, circumferential disc protrusion measuring 4.6mm (AP) and right extraforaminal osteophyte disc complex. There is mild non-compressive right neural foraminal narrowing, minimal facet arthrosis, normal central canal and left neural foramen (image #13).,L3-4: There is normal disc height, anterior end plate spondylosis, and circumferential non-compressive annular disc bulging. The disc bulging flattens the ventral thecal sac and there is minimal non-compressive right neural foraminal narrowing, minimal to mild facet arthrosis with vacuum change on the right, normal central canal and left neural foramen (image #25).,L4-5:\",\n",
      "Entities: [('Axial scans', 'MEDICAL PROCEDURE'), ('L1', 'ANATOMICAL LOCATION'), ('S2', 'ANATOMICAL LOCATION'), ('Preliminary scout film', 'MEDICAL PROCEDURE'), ('anterior end plate spondylosis', 'MEDICAL DIAGNOSIS'), ('T11-12', 'ANATOMICAL LOCATION'), ('T12-L1', 'ANATOMICAL LOCATION'), ('L1-2', 'ANATOMICAL LOCATION'), ('anterior end plate spondylosis', 'MEDICAL DIAGNOSIS'), ('vacuum change', 'MEDICAL DIAGNOSIS'), ('posterior annular disc bulging', 'MEDICAL DIAGNOSIS'), ('protrusion', 'MEDICAL DIAGNOSIS'), ('central canal', 'ANATOMICAL LOCATION'), ('intervertebral neural foramina', 'ANATOMICAL LOCATION'), ('facet joints', 'ANATOMICAL LOCATION'), ('#4', 'CARDINAL'), ('L2-3', 'ANATOMICAL LOCATION'), ('mild decreased disc height', 'MEDICAL DIAGNOSIS'), ('anterior end plate spondylosis', 'MEDICAL DIAGNOSIS'), ('circumferential disc protrusion', 'MEDICAL DIAGNOSIS'), ('4.6mm', 'CARDINAL'), ('right extraforaminal osteophyte disc complex', 'MEDICAL DIAGNOSIS'), ('mild non-compressive right neural foraminal narrowing', 'MEDICAL DIAGNOSIS'), ('minimal facet arthrosis', 'MEDICAL DIAGNOSIS'), ('central canal', 'ANATOMICAL LOCATION'), ('neural foramen', 'ANATOMICAL LOCATION'), ('#13', 'CARDINAL'), ('L3-4', 'ANATOMICAL LOCATION'), ('anterior end plate spondylosis', 'MEDICAL DIAGNOSIS'), ('circumferential non-compressive annular disc bulging', 'MEDICAL DIAGNOSIS'), ('ventral thecal sac', 'ANATOMICAL LOCATION'), ('minimal non-compressive right neural foraminal narrowing', 'MEDICAL DIAGNOSIS'), ('minimal to mild facet arthrosis with vacuum change', 'MEDICAL DIAGNOSIS'), ('central canal', 'ANATOMICAL LOCATION'), ('neural foramen', 'ANATOMICAL LOCATION'), ('#25', 'CARDINAL'), ('L4-5', 'ANATOMICAL LOCATION')]\n",
      "\n"
     ]
    }
   ],
   "source": [
    "# Print some annotation results\n",
    "print(\"\\nSome Annotation Results:\")\n",
    "for annotation in annotations_gt[:3]:  # Show first 3 samples\n",
    "    print(f\"Text: {annotation['text']}\")\n",
    "    print(f\"Entities: {annotation['entities']}\\n\")\n"
   ]
  },
  {
   "cell_type": "code",
   "execution_count": 18,
   "id": "d1a2e060",
   "metadata": {},
   "outputs": [
    {
     "name": "stdout",
     "output_type": "stream",
     "text": [
      "\n",
      "Examples for Each NER Type in Annotations:\n",
      "MEDICAL DIAGNOSIS: ['Diverticulosis', 'polyps', 'diverticula', 'lesions', 'Iron deficiency anemia']\n",
      "MEDICAL PROCEDURE: ['Selective coronary angiography', 'colonoscopy', 'Normal stress test', 'Left heart cath.', 'Colonoscopy']\n",
      "MEDICATION: ['lidocaine', 'MAC.', 'Astramorph', 'alpha-blocker', 'Proscar']\n",
      "ANATOMICAL LOCATION: ['appendiceal orifice', 'cecum', 'rectum', 'colon', 'ileocecal valve']\n",
      "CARDINAL: ['1', '2', '3', '4', '5']\n",
      "PERSON: ['Dr. X', 'XYZ', 'Mr. ABC', 'ABC', 'Dr. XYZ']\n",
      "DATE: ['DOB:  MM/DD/YYYY', '2003', 'five years', '2 years', '2004']\n",
      "PERCENT: ['40%', '60%', '2%', '85%', '50%']\n",
      "SYMPTOM: ['irritative issues', 'irritative symptoms', 'frequency', 'nocturia', 'occasional daytime frequency']\n",
      "TIME: ['three hours', 'daily', '15 minutes', '30 and 4/7th weeks', 'three months']\n",
      "LOC: ['Terrace Independent Living Center', 'Department of Anesthesia', 'ABCD General Hospital', 'Terrace', \"UTMB Hospitals VP's office\"]\n"
     ]
    }
   ],
   "source": [
    "# Print 5 examples for each NER type\n",
    "print(\"\\nExamples for Each NER Type in Annotations:\")\n",
    "for label, examples in annotation_examples.items():\n",
    "    print(f\"{label}: {examples}\")\n"
   ]
  },
  {
   "cell_type": "markdown",
   "id": "83c9a021",
   "metadata": {},
   "source": [
    "### **C.2.3 - spaCy NER on 100 samples**"
   ]
  },
  {
   "cell_type": "code",
   "execution_count": 19,
   "id": "3ca85048",
   "metadata": {},
   "outputs": [],
   "source": [
    "# Load the spaCy model\n",
    "nlp = spacy.load(\"en_core_web_sm\")\n",
    "\n",
    "# Apply spaCy NER to subsetted dataset\n",
    "spacy_100_results = []\n",
    "for example in first_100_samples['text']:\n",
    "    entities = extract_entities(example)\n",
    "    spacy_100_results.append({'text': example, 'entities': entities})"
   ]
  },
  {
   "cell_type": "code",
   "execution_count": 20,
   "id": "5bddbd86e1303457",
   "metadata": {},
   "outputs": [
    {
     "name": "stdout",
     "output_type": "stream",
     "text": [
      "spaCy NER on 100 samples outputs saved to spacy_100_results.csv\n"
     ]
    }
   ],
   "source": [
    "# Save the results to a CSV\n",
    "output_file = \"spacy_100_results.csv\"\n",
    "df = pd.DataFrame(spacy_100_results)\n",
    "df.to_csv(output_file, index=False)\n",
    "\n",
    "print(f\"spaCy NER on 100 samples outputs saved to {output_file}\")"
   ]
  },
  {
   "cell_type": "markdown",
   "id": "d51c038b",
   "metadata": {},
   "source": [
    "### **C.2.4 - Evaluation on 100 samples (SpaCy NER vs Ground Truth)**"
   ]
  },
  {
   "cell_type": "code",
   "execution_count": 21,
   "id": "9631ac7f",
   "metadata": {},
   "outputs": [],
   "source": [
    "# Load the CSV files\n",
    "df_spacy = pd.read_csv(\"spacy_100_results.csv\")\n",
    "df_gt = pd.read_csv(\"annotations_gt.csv\")\n",
    "\n",
    "# Define the NER types to evaluate\n",
    "filter_keys = {\"CARDINAL\", \"PERSON\", \"DATE\", \"PERCENT\", \"TIME\", \"LOC\"}"
   ]
  },
  {
   "cell_type": "code",
   "execution_count": 22,
   "id": "d6a812e1",
   "metadata": {},
   "outputs": [],
   "source": [
    "# Extract and filter entities for evaluation\n",
    "def extract_filtered_entities(data, entity_column, filter_keys):\n",
    "    filtered_entities = []\n",
    "    for _, row in data.iterrows():\n",
    "        entities = eval(row[entity_column]) \n",
    "        for entity_text, entity_label in entities:\n",
    "            if entity_label in filter_keys:\n",
    "                filtered_entities.append((entity_text, entity_label))                \n",
    "    return filtered_entities\n",
    "\n",
    "# Filter the entities from SpaCy results and ground truth\n",
    "spacy_filtered = extract_filtered_entities(df_spacy, \"entities\", filter_keys)\n",
    "annotations_filtered = extract_filtered_entities(df_gt, \"entities\", filter_keys)"
   ]
  },
  {
   "cell_type": "code",
   "execution_count": 23,
   "id": "95a0a248",
   "metadata": {},
   "outputs": [],
   "source": [
    "# Count matches for precision and accuracy\n",
    "spacy_counter = Counter(spacy_filtered)\n",
    "annotations_counter = Counter(annotations_filtered)\n",
    "\n",
    "# Compute precision and accuracy\n",
    "precision_per_type = {}\n",
    "total_correct = 0\n",
    "total_predicted = 0\n",
    "total_ground_truth = len(annotations_filtered)\n",
    "\n",
    "for ner_type in filter_keys:\n",
    "    predicted = sum(1 for _, label in spacy_filtered if label == ner_type)\n",
    "    correct = sum(1 for entity in spacy_filtered if entity in annotations_filtered and entity[1] == ner_type)\n",
    "    ground_truth = sum(1 for _, label in annotations_filtered if label == ner_type)\n",
    "    \n",
    "    total_correct += correct\n",
    "    total_predicted += predicted\n",
    "    \n",
    "    precision = correct / predicted if predicted > 0 else 0\n",
    "    accuracy = correct / ground_truth if ground_truth > 0 else 0  \n",
    "    precision_per_type[ner_type] = {\"precision\": precision, \"accuracy\": accuracy}"
   ]
  },
  {
   "cell_type": "code",
   "execution_count": 24,
   "id": "c96dbb4a",
   "metadata": {},
   "outputs": [
    {
     "name": "stdout",
     "output_type": "stream",
     "text": [
      "Performance Metrics Per NER Type:\n",
      "PERCENT: Precision: 0.86, Accuracy: 0.70\n",
      "LOC: Precision: 0.00, Accuracy: 0.00\n",
      "CARDINAL: Precision: 0.74, Accuracy: 0.37\n",
      "DATE: Precision: 0.23, Accuracy: 0.68\n",
      "PERSON: Precision: 0.04, Accuracy: 0.25\n",
      "TIME: Precision: 0.54, Accuracy: 0.16\n",
      "\n",
      "Overall Precision: 0.45\n",
      "Overall Accuracy: 0.35\n"
     ]
    }
   ],
   "source": [
    "# Compute overall precision and accuracy\n",
    "overall_precision = total_correct / total_predicted if total_predicted > 0 else 0\n",
    "overall_accuracy = total_correct / total_ground_truth if total_ground_truth > 0 else 0\n",
    "\n",
    "# Output results\n",
    "print(\"Performance Metrics Per NER Type:\")\n",
    "for ner_type, metrics in precision_per_type.items():\n",
    "    print(f\"{ner_type}: Precision: {metrics['precision']:.2f}, Accuracy: {metrics['accuracy']:.2f}\")\n",
    "\n",
    "print(f\"\\nOverall Precision: {overall_precision:.2f}\")\n",
    "print(f\"Overall Accuracy: {overall_accuracy:.2f}\")\n"
   ]
  },
  {
   "cell_type": "code",
   "execution_count": 25,
   "id": "14d71724",
   "metadata": {},
   "outputs": [
    {
     "name": "stdout",
     "output_type": "stream",
     "text": [
      "Filtered SpaCy LOC Entities: [('Inpatient Operative Suite', 'LOC'), ('T2b', 'LOC'), ('Atraumatic', 'LOC'), ('Left ventricular angiogram', 'LOC'), ('Atraumatic', 'LOC'), ('Grade II', 'LOC'), ('Negative', 'LOC'), ('Calcium', 'LOC'), ('Negative', 'LOC'), ('Negative', 'LOC'), ('Mesoappendix', 'LOC'), ('Negative', 'LOC'), ('Visual', 'LOC'), ('Atraumatic', 'LOC'), ('Gait', 'LOC'), ('Gait', 'LOC')]\n",
      "Filtered Ground Truth LOC Entities: [('Terrace', 'LOC'), (\"UTMB Hospitals VP's office\", 'LOC'), ('Terrace Independent Living Center', 'LOC'), ('Terrace', 'LOC'), ('Terrace', 'LOC'), ('ABCD General Hospital', 'LOC'), ('Department of Anesthesia', 'LOC'), ('Department of Anesthesia', 'LOC'), ('PACU', 'LOC'), ('Inpatient Operative Suite, Room #1', 'LOC'), ('ABCD General Hospital', 'LOC'), ('Anesthesia Department', 'LOC'), ('PACU', 'LOC'), ('Emergency Department', 'LOC'), ('Emergency Department', 'LOC'), ('Emergency Department', 'LOC'), ('ABCD General Hospital', 'LOC'), ('ABCD Medical Center', 'LOC'), ('CNA', 'LOC'), ('ABCD Medical Center', 'LOC'), ('ABCD Med', 'LOC'), ('ABCD Medical Center', 'LOC'), ('Stanfield, North Carolina', 'LOC'), ('Atlanta, Georgia', 'LOC'), ('Massachusetts', 'LOC'), ('Medina General Hospital Occupational Health', 'LOC'), (\"Children's Hospital\", 'LOC'), (\"Children's Hospital\", 'LOC'), ('ABCD', 'LOC'), ('ABCD General Hospital Emergency Department', 'LOC'), ('Houston area', 'LOC'), ('Tampa, Florida', 'LOC'), ('Tampo', 'LOC'), ('Houston area', 'LOC'), ('Doctors Hospital at Parkway', 'LOC'), ('PM&R Spine Clinic', 'LOC'), ('XYZ Hospital', 'LOC'), ('XYZ Hospital', 'LOC'), ('XYZ Hospital', 'LOC'), ('Methodist XYZ Hospital', 'LOC'), ('XYZ Hospital', 'LOC'), ('XYZ Hospital', 'LOC'), ('Triumph Hospital', 'LOC'), ('Harleton, Texas', 'LOC'), ('Houston', 'LOC'), ('XYZ Street,City, State', 'LOC')]\n"
     ]
    }
   ],
   "source": [
    "# Why is the precision and accuracy for LOC 0?\n",
    "print(\"Filtered SpaCy LOC Entities:\", [entity for entity in spacy_filtered if entity[1] == \"LOC\"])\n",
    "print(\"Filtered Ground Truth LOC Entities:\", [entity for entity in annotations_filtered if entity[1] == \"LOC\"])\n"
   ]
  },
  {
   "cell_type": "code",
   "execution_count": 26,
   "id": "46dd8ae8",
   "metadata": {},
   "outputs": [
    {
     "name": "stderr",
     "output_type": "stream",
     "text": [
      "C:\\Users\\User\\AppData\\Local\\Temp\\ipykernel_6056\\3828514301.py:7: FutureWarning: The frame.append method is deprecated and will be removed from pandas in a future version. Use pandas.concat instead.\n",
      "  df = df.append({'NER Type': 'Overall', 'Precision': overall_precision, 'Accuracy': overall_accuracy}, ignore_index=True)\n"
     ]
    },
    {
     "data": {
      "image/png": "[encoded data removed]",
      "text/plain": [
       "<Figure size 1200x700 with 1 Axes>"
      ]
     },
     "metadata": {},
     "output_type": "display_data"
    }
   ],
   "source": [
    "# Convert the precision_per_type dictionary to a DataFrame\n",
    "df = pd.DataFrame(precision_per_type).T\n",
    "df.reset_index(inplace=True)\n",
    "df.rename(columns={'index': 'NER Type', 'precision': 'Precision', 'accuracy': 'Accuracy'}, inplace=True)\n",
    "\n",
    "# Add overall metrics\n",
    "df = df.append({'NER Type': 'Overall', 'Precision': overall_precision, 'Accuracy': overall_accuracy}, ignore_index=True)\n",
    "\n",
    "# Set the figure size\n",
    "plt.figure(figsize=(12, 7))\n",
    "\n",
    "# Set the bar width\n",
    "bar_width = 0.35\n",
    "\n",
    "# Set the positions of the bars on the x-axis\n",
    "r1 = np.arange(len(df))\n",
    "r2 = [x + bar_width for x in r1]\n",
    "\n",
    "# Create the bars\n",
    "plt.bar(r1, df['Precision'], color='#00308F', width=bar_width, edgecolor='grey', label='Precision')\n",
    "plt.bar(r2, df['Accuracy'], color='#6699CC', width=bar_width, edgecolor='grey', label='Accuracy')\n",
    "\n",
    "# Add labels to the x-axis\n",
    "plt.xlabel('NER Type', fontweight='bold')\n",
    "plt.xticks([r + bar_width/2 for r in range(len(df))], df['NER Type'])\n",
    "\n",
    "# Add the legend\n",
    "plt.legend()\n",
    "\n",
    "# Add the title\n",
    "plt.title('Precision and Accuracy per NER Type')\n",
    "\n",
    "# Add gridlines\n",
    "plt.grid(axis='y', linestyle='--', alpha=0.7)\n",
    "\n",
    "# Show the plot\n",
    "plt.tight_layout()\n",
    "plt.show()\n"
   ]
  },
  {
   "cell_type": "markdown",
   "id": "fa89d61c",
   "metadata": {},
   "source": [
    "### *Findings*\n",
    "\n",
    "- In this section, we evaluated the spaCy NER classifier against a manually annotated ground truth of 100 samples from the Argilla medical dataset. \n",
    "- We see that the model performs best in identifying percentages, followed by cardinals. This aligns with expectations, as numerical entities like percentages and cardinals are typically more straightforward to detect due to their distinct patterns. \n",
    "- However, the classifier shows reduced accuracy in recognizing entities such as locations and persons. \n",
    "- These findings support/confirm the inferences we made from the qualitative analysis."
   ]
  },
  {
   "cell_type": "markdown",
   "id": "81c346b7",
   "metadata": {},
   "source": [
    "# **PART D - Extending NER Types**  \n",
    "---\n",
    "_Extend the standard NER types usingthe NER Annotator and re-run the NER classification as well as its evaluation._\n",
    "\n",
    "In our dataset, we annotated the following custom MER types using the NER Annotator: \n",
    "1. Medical Procedures/Interventions/Examinations & Tests: Actions performed to diagnose, treat, or monitor health conditions.\n",
    "2. Medical Diagnoses & Clinical Findings: Identified diseases, disorders, or clinical observations.\n",
    "3. Anatomical Locations & Body Parts: Specific areas or structures within the human body.\n",
    "4. Medications/Therapeutic Agents: Substances used for treatment or prevention of diseases.\n",
    "5. Symptoms/Chief Complaints: Patient-reported experiences indicating potential health issues."
   ]
  },
  {
   "cell_type": "code",
   "execution_count": 27,
   "id": "e4786f72",
   "metadata": {},
   "outputs": [],
   "source": [
    "# Load the annotations.json dataset\n",
    "with open(\"annotations.json\", \"r\") as f:\n",
    "    data = json.load(f)\n",
    "\n",
    "# Extract classes and annotations from the dataset\n",
    "classes = data[\"classes\"]\n",
    "annotations = data[\"annotations\"]"
   ]
  },
  {
   "cell_type": "code",
   "execution_count": 28,
   "id": "99351738",
   "metadata": {},
   "outputs": [],
   "source": [
    "# Prepare the training data\n",
    "TRAINING_DATA = []\n",
    "for entry in annotations:\n",
    "    if isinstance(entry, list) and len(entry) == 2:\n",
    "        text = entry[0].strip()\n",
    "        entities = [(start, end, label) for start, end, label in entry[1][\"entities\"]]\n",
    "        TRAINING_DATA.append((text, {\"entities\": entities}))\n",
    "\n",
    "# Check if training data is populated\n",
    "if not TRAINING_DATA:\n",
    "    raise ValueError(\"TRAINING_DATA is empty. Please verify the annotations structure.\")\n",
    "\n",
    "# Split the data into training and testing sets\n",
    "train_data_raw, test_data_raw = train_test_split(TRAINING_DATA, test_size=0.2, random_state=42)\n",
    "\n",
    "# Load the pre-trained model\n",
    "nlp = spacy.load(\"en_core_web_sm\")\n",
    "\n",
    "# Function to clean and validate training data\n",
    "def validate_training_data(nlp, training_data):\n",
    "    valid_data = []\n",
    "    for text, annotations in training_data:\n",
    "        entities = annotations[\"entities\"]\n",
    "        cleaned_entities = []\n",
    "        for start, end, label in entities:\n",
    "            # Ensure start and end are within the valid range\n",
    "            if start < 0 or end > len(text) or start >= end:\n",
    "                continue\n",
    "            # Remove leading whitespace\n",
    "            while start < len(text) and text[start].isspace():\n",
    "                start += 1\n",
    "            # Remove trailing whitespace\n",
    "            while end > start and text[end - 1].isspace():\n",
    "                end -= 1\n",
    "            # Add the cleaned entity if valid\n",
    "            if start < end:\n",
    "                cleaned_entities.append((start, end, label))\n",
    "        # Create spans, filter out None, and remove overlaps\n",
    "        doc = nlp.make_doc(text)\n",
    "        spans = [doc.char_span(start, end, label=label) for start, end, label in cleaned_entities]\n",
    "        spans = [span for span in spans if span is not None]  # Filter out None spans\n",
    "        filtered_spans = filter_spans(spans)  # Removes overlapping spans\n",
    "        valid_entities = [(span.start_char, span.end_char, span.label_) for span in filtered_spans]\n",
    "        if valid_entities:\n",
    "            valid_data.append((text, {\"entities\": valid_entities}))\n",
    "    return valid_data\n",
    "\n",
    "# Validate the training and testing data\n",
    "train_data = validate_training_data(nlp, train_data_raw)\n",
    "test_data = validate_training_data(nlp, test_data_raw)"
   ]
  },
  {
   "cell_type": "code",
   "execution_count": 29,
   "id": "019e3fe0",
   "metadata": {},
   "outputs": [
    {
     "name": "stdout",
     "output_type": "stream",
     "text": [
      "Epoch 1, Losses: {'ner': 2714.976176604495}\n",
      "Epoch 2, Losses: {'ner': 1320.2603016170906}\n",
      "Epoch 3, Losses: {'ner': 1533.4498580907239}\n",
      "Epoch 4, Losses: {'ner': 1444.607026911246}\n",
      "Epoch 5, Losses: {'ner': 1668.4653118409915}\n",
      "Epoch 6, Losses: {'ner': 1278.2384718826506}\n",
      "Epoch 7, Losses: {'ner': 1283.504029131158}\n",
      "Epoch 8, Losses: {'ner': 1168.2420484557515}\n",
      "Epoch 9, Losses: {'ner': 1247.8149196434533}\n",
      "Epoch 10, Losses: {'ner': 1262.47586926652}\n",
      "Epoch 11, Losses: {'ner': 1319.6644658566802}\n",
      "Epoch 12, Losses: {'ner': 1168.0948333491397}\n",
      "Epoch 13, Losses: {'ner': 1095.8425552578992}\n",
      "Epoch 14, Losses: {'ner': 1153.2586308121681}\n",
      "Epoch 15, Losses: {'ner': 1078.2528759884008}\n",
      "Epoch 16, Losses: {'ner': 1302.8624592005654}\n",
      "Epoch 17, Losses: {'ner': 1338.3183155213192}\n",
      "Epoch 18, Losses: {'ner': 1194.6491986213812}\n",
      "Epoch 19, Losses: {'ner': 1387.2348235735772}\n",
      "Epoch 20, Losses: {'ner': 1127.952124813919}\n",
      "Epoch 21, Losses: {'ner': 1139.530288846995}\n",
      "Epoch 22, Losses: {'ner': 1235.2459284948418}\n",
      "Epoch 23, Losses: {'ner': 1297.6247120421249}\n",
      "Epoch 24, Losses: {'ner': 1164.5874495441421}\n",
      "Epoch 25, Losses: {'ner': 1342.3315106551854}\n",
      "Epoch 26, Losses: {'ner': 1215.7763798833846}\n",
      "Epoch 27, Losses: {'ner': 1145.8602069309645}\n",
      "Epoch 28, Losses: {'ner': 1013.4383989536077}\n",
      "Epoch 29, Losses: {'ner': 1149.0933893783367}\n",
      "Epoch 30, Losses: {'ner': 1197.6383325494512}\n",
      "Fine-tuned model saved.\n"
     ]
    }
   ],
   "source": [
    "# Get the NER component from the pipeline\n",
    "ner = nlp.get_pipe(\"ner\")\n",
    "\n",
    "# Add new entity labels to the NER component\n",
    "for label in classes:\n",
    "    if label not in ner.labels:\n",
    "        ner.add_label(label)\n",
    "\n",
    "# Convert the training data to spaCy Example objects\n",
    "train_examples = [Example.from_dict(nlp.make_doc(text), annotations) for text, annotations in train_data]\n",
    "\n",
    "# Disable other pipeline components to train only NER\n",
    "other_pipes = [pipe for pipe in nlp.pipe_names if pipe != \"ner\"]\n",
    "with nlp.disable_pipes(*other_pipes):\n",
    "    # Resume training (do not reinitialize the model)\n",
    "    optimizer = nlp.resume_training()\n",
    "\n",
    "    # Set random seed for reproducibility\n",
    "    random.seed(42)\n",
    "\n",
    "    # Training loop\n",
    "    for epoch in range(30):\n",
    "        random.shuffle(train_examples)\n",
    "        losses = {}\n",
    "        batches = minibatch(train_examples, size=8)\n",
    "        for batch in batches:\n",
    "            nlp.update(batch, drop=0.4, losses=losses, sgd=optimizer)\n",
    "        print(f\"Epoch {epoch + 1}, Losses: {losses}\")\n",
    "\n",
    "# Save the fine-tuned model\n",
    "nlp.to_disk(\"fine_tuned_model\")\n",
    "print(\"Fine-tuned model saved.\")"
   ]
  },
  {
   "cell_type": "code",
   "execution_count": 30,
   "id": "b9a386d5",
   "metadata": {},
   "outputs": [
    {
     "name": "stdout",
     "output_type": "stream",
     "text": [
      "Precision: 0.18\n",
      "Recall: 0.04\n",
      "F1-score: 0.06\n"
     ]
    }
   ],
   "source": [
    "# Evaluate the model on the test set\n",
    "test_examples = []\n",
    "for text, annotations in test_data:\n",
    "    doc = nlp.make_doc(text)\n",
    "    example = Example.from_dict(doc, annotations)\n",
    "    test_examples.append(example)\n",
    "\n",
    "# Evaluate and print the results\n",
    "scorer = nlp.evaluate(test_examples)\n",
    "print(f\"Precision: {scorer['ents_p']:.2f}\")\n",
    "print(f\"Recall: {scorer['ents_r']:.2f}\")\n",
    "print(f\"F1-score: {scorer['ents_f']:.2f}\")\n"
   ]
  },
  {
   "cell_type": "markdown",
   "id": "a244adaa",
   "metadata": {},
   "source": [
    "# **PART E - Investigating LLM-Based NER Classification**  \n",
    "---\n",
    "_Investigate using an LLM-based NER classifier._"
   ]
  },
  {
   "cell_type": "markdown",
   "id": "88cb9f0e",
   "metadata": {},
   "source": [
    "## **E.1 - Utilizing Chatbots**"
   ]
  },
  {
   "cell_type": "code",
   "execution_count": 31,
   "id": "c15d18f2",
   "metadata": {},
   "outputs": [],
   "source": [
    "# Load the dataset\n",
    "dataset = load_dataset(\"argilla/medical-domain\")\n",
    "train_data_trunc = dataset['train'].select(range(20))\n"
   ]
  },
  {
   "cell_type": "code",
   "execution_count": 32,
   "id": "8d0ab7b8",
   "metadata": {},
   "outputs": [
    {
     "name": "stdout",
     "output_type": "stream",
     "text": [
      "PREOPERATIVE DIAGNOSIS:,  Iron deficiency anemia.,POSTOPERATIVE DIAGNOSIS:,  Diverticulosis.,PROCEDURE:,  Colonoscopy.,MEDICATIONS: , MAC.,PROCEDURE: , The Olympus pediatric variable colonoscope was i\n"
     ]
    },
    {
     "name": "stderr",
     "output_type": "stream",
     "text": [
      "Exception in thread Thread-7 (_readerthread):\n",
      "Traceback (most recent call last):\n",
      "  File \"C:\\Program Files\\WindowsApps\\PythonSoftwareFoundation.Python.3.10_3.10.3056.0_x64__qbz5n2kfra8p0\\lib\\threading.py\", line 1016, in _bootstrap_inner\n",
      "    self.run()\n",
      "  File \"C:\\Program Files\\WindowsApps\\PythonSoftwareFoundation.Python.3.10_3.10.3056.0_x64__qbz5n2kfra8p0\\lib\\threading.py\", line 953, in run\n",
      "    self._target(*self._args, **self._kwargs)\n",
      "  File \"C:\\Program Files\\WindowsApps\\PythonSoftwareFoundation.Python.3.10_3.10.3056.0_x64__qbz5n2kfra8p0\\lib\\subprocess.py\", line 1515, in _readerthread\n",
      "    buffer.append(fh.read())\n",
      "  File \"C:\\Program Files\\WindowsApps\\PythonSoftwareFoundation.Python.3.10_3.10.3056.0_x64__qbz5n2kfra8p0\\lib\\encodings\\cp1252.py\", line 23, in decode\n",
      "    return codecs.charmap_decode(input,self.errors,decoding_table)[0]\n",
      "UnicodeDecodeError: 'charmap' codec can't decode byte 0x8f in position 440: character maps to <undefined>\n"
     ]
    },
    {
     "name": "stdout",
     "output_type": "stream",
     "text": [
      "Response for entry 0 using llama3.2 3b:\n",
      "Here is the list of extracted named entities along with their types:\n",
      "\n",
      "1. Diverticulosis (DISEASE)\n",
      "2. Iron deficiency anemia (DISEASE)\n",
      "3. MAC (MEDICATION/DRUG)\n",
      "4. Olympus pediatric variable colonoscope (DEVICE/EQUIPMENT)\n",
      "5. Cecum (ANATOMY/STRUCTURE)\n",
      "6. Ileocecal valve (ANATOMY/STRUCTURE)\n",
      "7. Appendiceal orifice (ANATOMY/STRUCTURE)\n",
      "8. Sigmoid colon (ANATOMY/STRUCTURE)\n",
      "9. Polyps (DISEASE)\n",
      "10. Lesions (DISEASE)\n",
      "11. Blood (SUBSTANCE)\n",
      "12. Hemorrhoids (DISEASE)\n",
      "13. Dr. X (PERSON)\n",
      "\n",
      "Note: Some entities could potentially be classified under more specific categories, but I have provided the most general and relevant classification for each entity based on the context of the text.\n",
      "\n",
      "\n",
      "\n",
      "CLINICAL INDICATION:  ,Normal stress test.,PROCEDURES PERFORMED:,1.  Left heart cath.,2.  Selective coronary angiography.,3.  LV gram.,4.  Right femoral arteriogram.,5.  Mynx closure device.,PROCEDURE\n",
      "Response for entry 1 using llama3.2 3b:\n",
      "Here is the list of named entities extracted from the text:\n",
      "\n",
      "1. Patient (PERSON)\n",
      "2. Stress test (PROCEDURE)\n",
      "3. Left heart cath (PROCEDURE)\n",
      "4. Selective coronary angiography (PROCEDURE)\n",
      "5. LV gram (PROCEDURE)\n",
      "6. Right femoral arteriogram (PROCEDURE)\n",
      "7. Mynx closure device (MEDICAL DEVICE)\n",
      "8. Lidocaine (DRUG)\n",
      "9. LVEDP (MEASUREMENT)\n",
      "10. LV-to-aortic gradient (MEASUREMENT)\n",
      "11. Left main (ANATOMY)\n",
      "12. Left anterior descending artery (LAD) (ANATOMY)\n",
      "13. Left circumflex (ANATOMY)\n",
      "14. Right coronary artery (RCA) (ANATOMY)\n",
      "15. Coronary angiography (PROCEDURE)\n",
      "16. Nonobstructive coronary artery disease (DISEASE)\n",
      "17. Medical therapy (TREATMENT PLAN)\n",
      "18. Surgery (TREATMENT PLAN)\n",
      "\n",
      "Note: Some of these entities may be mentioned multiple times in the text, but they are listed here only once.\n",
      "\n",
      "\n",
      "\n",
      "FINDINGS:,Axial scans were performed from L1 to S2 and reformatted images were obtained in the sagittal and coronal planes.,Preliminary scout film demonstrates anterior end plate spondylosis at T11-12\n",
      "Response for entry 2 using llama3.2 3b:\n",
      "Here is the list of extracted named entities:\n",
      "\n",
      "1. T11-12 - LOCATION\n",
      "2. L1-L2 - LOCATION\n",
      "3. L1-2 - LOCATION\n",
      "4. L2-3 - LOCATION\n",
      "5. L3-4 - LOCATION\n",
      "6. L4-5 - LOCATION\n",
      "7. T12-L1 - LOCATION\n",
      "8. AP (Anterior Posterior) - Unit/Measurement\n",
      "9. #4, #13, #25 - Unit/Measurement (image numbers)\n",
      "10. disc height - UNIT\n",
      "11. spondylosis - CONDITION/DISEASE\n",
      "\n",
      "Note: Some of the entities may be related to medical conditions or treatments, but I have categorized them based on their most relevant classification.\n",
      "\n",
      "\n",
      "\n",
      "PREOPERATIVE DIAGNOSIS: , Blood loss anemia.,POSTOPERATIVE DIAGNOSES:,1.  Diverticulosis coli.,2.  Internal hemorrhoids.,3.  Poor prep.,PROCEDURE PERFORMED:,  Colonoscopy with photos.,ANESTHESIA: , Co\n",
      "Response for entry 3 using llama3.2 3b:\n",
      "Here is the list of named entities extracted from the text along with their types:\n",
      "\n",
      "1. Diverticulosis coli - ORGANIZATION (Note: This seems to be a medical diagnosis, but it's not an organization in the classical sense. However, I've categorized it as such based on the context)\n",
      "2. Internal hemorrhoids - ORGANIZATION (Similar to diverticulosis coli, this is a medical diagnosis and has been categorized as an organization)\n",
      "3. Colace - PRODUCT (Note: This is a brand name for a medication, which can be considered an organization in the context of product names)\n",
      "4. Anesthesia Department - ORGANIZATION (A department within a hospital or medical facility)\n",
      "5. Endoscopy Suite - LOCATION (A room or area where endoscopic procedures are performed)\n",
      "\n",
      "No specific dates, locations, or other named entities were mentioned in the text.\n",
      "\n",
      "It's worth noting that some of these entities could be categorized differently based on their specific context and meaning. For example, \"Colonoscopy\" is a medical procedure, but I didn't include it as an entity since it was not explicitly mentioned by name in the text.\n",
      "\n",
      "\n",
      "\n",
      "REASON FOR VISIT:  ,Elevated PSA with nocturia and occasional daytime frequency.,HISTORY: , A 68-year-old male with a history of frequency and some outlet obstructive issues along with irritative issu\n",
      "Response for entry 4 using llama3.2 3b:\n",
      "Here is the list of named entities extracted from the text:\n",
      "\n",
      "1. PSA (SUBSTANCE)\n",
      "2. Dr. X (PERSON)\n",
      "3. Proscar (MEDICATION)\n",
      "4. Adenocarcinoma (DISEASE)\n",
      "5. Alpha-blocker (MEDICATION)\n",
      "\n",
      "Note: PSA stands for prostate-specific antigen, which is a substance used as a marker for prostate cancer and other conditions.\n",
      "\n",
      "The list only includes the explicitly named entities mentioned in the text.\n",
      "\n",
      "\n",
      "\n",
      "XYZ, O.D.,RE:  ABC,DOB:  MM/DD/YYYY,Dear Dr. XYZ:,Thank you for your kind referral for patient ABC.  Mr. ABC is being referred for evaluation of glaucoma.  The patient states he has no visual complain\n",
      "Response for entry 5 using llama3.2 3b:\n",
      "Here is the list of extracted named entities:\n",
      "\n",
      "1. Dr. XYZ (PERSON)\n",
      "2. ABC (PERSON) - note: this appears to be a patient's name, but it may also be a reference to an organization (e.g., an insurance company or medical referral service)\n",
      "3. MM/DD/YYYY (DATE)\n",
      "\n",
      "No locations were mentioned in the text.\n",
      "\n",
      "The following entities appear to be part of a medical notation system:\n",
      "\n",
      "1. O.D. (EYE - likely referring to \"OD\", which stands for \"Oculus Dexter\", meaning \"right eye\")\n",
      "2. RE: (MEDICAL REFERENCE - likely referring to a specific medical reference or coding system)\n",
      "3. XYZ, O.D. (EYE - as mentioned above)\n",
      "\n",
      "The following entities appear to be part of a medical report notation system:\n",
      "\n",
      "1. DOB: (DATE OF BIRTH)\n",
      "\n",
      "\n",
      "\n",
      "PREOPERATIVE DIAGNOSES:,1.  Intrauterine pregnancy at 30 and 4/7th weeks.,2.  Previous cesarean section x2.,3.  Multiparity.,4.  Request for permanent sterilization.,POSTOPERATIVE DIAGNOSIS:,1.  Intra\n"
     ]
    },
    {
     "name": "stderr",
     "output_type": "stream",
     "text": [
      "Exception in thread Thread-19 (_readerthread):\n",
      "Traceback (most recent call last):\n",
      "  File \"C:\\Program Files\\WindowsApps\\PythonSoftwareFoundation.Python.3.10_3.10.3056.0_x64__qbz5n2kfra8p0\\lib\\threading.py\", line 1016, in _bootstrap_inner\n",
      "    self.run()\n",
      "  File \"C:\\Program Files\\WindowsApps\\PythonSoftwareFoundation.Python.3.10_3.10.3056.0_x64__qbz5n2kfra8p0\\lib\\threading.py\", line 953, in run\n",
      "    self._target(*self._args, **self._kwargs)\n",
      "  File \"C:\\Program Files\\WindowsApps\\PythonSoftwareFoundation.Python.3.10_3.10.3056.0_x64__qbz5n2kfra8p0\\lib\\subprocess.py\", line 1515, in _readerthread\n",
      "    buffer.append(fh.read())\n",
      "  File \"C:\\Program Files\\WindowsApps\\PythonSoftwareFoundation.Python.3.10_3.10.3056.0_x64__qbz5n2kfra8p0\\lib\\encodings\\cp1252.py\", line 23, in decode\n",
      "    return codecs.charmap_decode(input,self.errors,decoding_table)[0]\n",
      "UnicodeDecodeError: 'charmap' codec can't decode byte 0x8f in position 200: character maps to <undefined>\n"
     ]
    },
    {
     "name": "stdout",
     "output_type": "stream",
     "text": [
      "Response for entry 6 using llama3.2 3b:\n",
      "Here is the list of named entities extracted from the text along with their types:\n",
      "\n",
      "1. **Intrauterine pregnancy** (LOCATION/ EVENT)\n",
      "2. **Previous cesarean section** (EVENT)\n",
      "3. **Multiparity** (CONDITION)\n",
      "4. **Request for permanent sterilization** (REQUEST)\n",
      "5. **Breach presentation** (EVENT)\n",
      "6. **Female neonate** (ORGANISM)\n",
      "7. **Baby** (ORGANISM)\n",
      "8. **Patient** (PERSON)\n",
      "9. **Congenital hip problems** (CONDITION)\n",
      "10. **Third C-section** (PROCEDURE)\n",
      "11. **Tubal ligation** (PROCEDURE)\n",
      "12. **Foley to gravity** (DRAINS)\n",
      "13. **AstraMorph anesthesia** (MEDICATION)\n",
      "14. **Pfannenstiel skin incision** (PROCEDURE)\n",
      "15. **Mayo scissors** (INSTRUMENT)\n",
      "16. **Ochsner clamps** (INSTRUMENT)\n",
      "17. **Metzenbaum scissors** (INSTRUMENT)\n",
      "18. **Bladder flap** (ORGAN)\n",
      "19. **Uterus** (ORGAN)\n",
      "20. **Amniotic fluid** (SUBSTANCE)\n",
      "21. **Placenta cord gases** (SUBSTANCE)\n",
      "22. **Pediatricians** (PROFESSIONAL ORGANIZATION)\n",
      "23. **Vicryl suture** (MEDICATION)\n",
      "24. **Cautery** (INSTRUMENT)\n",
      "25. **Babcock clamp** (INSTRUMENT)\n",
      "\n",
      "Note: Some entities may belong to multiple categories, but I have listed them according to the most relevant or primary category.\n",
      "\n",
      "\n",
      "\n",
      "REASON FOR CT SCAN: , The patient is a 79-year-old man with adult hydrocephalus who was found to have large bilateral effusions on a CT scan performed on January 16, 2008.  I changed the shunt setting\n",
      "Response for entry 7 using llama3.2 3b:\n",
      "Here is the list of named entities extracted from the text along with their types:\n",
      "\n",
      "1. Patient - PERSON\n",
      "2. Adult hydrocephalus - CONDITION (specifically, a medical condition)\n",
      "3. Shunt - ORGAN (a device)\n",
      "4. January 16, 2008 - DATE\n",
      "5. February 12, 2008 - DATE\n",
      "6. March 11, 2008 - DATE\n",
      "7. Foramen of Munro - LOCATION (an anatomical location)\n",
      "8. 2.6 cm - MEASUREMENT (a numerical value representing a physical quantity)\n",
      "9. 10 mm - MEASUREMENT (a numerical value representing a physical quantity)\n",
      "10. Single shunt - OBJECT (a specific device or object)\n",
      "11. Right occipital side - LOCATION (an anatomical location)\n",
      "12. Left lateral ventricle - LOCATION (an anatomical location)\n",
      "13. Bilateral subdurals - CONDITION (specifically, a medical condition affecting the brain)\n",
      "14. Subdural hygroma - CONDITION (specifically, a type of subdural effusion)\n",
      "15. 1.3 cm - MEASUREMENT (a numerical value representing a physical quantity)\n",
      "16. 1.1 cm - MEASUREMENT (a numerical value representing a physical quantity)\n",
      "\n",
      "Note: Some entities could be classified under more specific categories (e.g., \"subdural hygroma\" as both a CONDITION and an OBJECT), but I have listed the most general classification for each entity.\n",
      "\n",
      "\n",
      "\n",
      "CLINICAL HISTORY: , Patient is a 37-year-old female with a history of colectomy for adenoma.  During her preop evaluation it was noted that she had a lesion on her chest x-ray.  CT scan of the chest c\n",
      "Response for entry 8 using llama3.2 3b:\n",
      "Here is the list of named entities extracted from the text:\n",
      "\n",
      "1. Patient (PERSON)\n",
      "2. Colectomy (PROCEDURE)\n",
      "3. Adenoma (DISEASE)\n",
      "4. Chest X-ray (IMAGING TECHNIQUE)\n",
      "5. CT scan (IMAGING TECHNOLOGY)\n",
      "6. Lung (ORGAN)\n",
      "7. Left lower lobe resection (PROCEDURE)\n",
      "8. Cytokeratin AE1/AE3 (PROTEIN)\n",
      "9. CAM5.2 (PROTEIN)\n",
      "10. Cytokeratin-20 (PROTEIN)\n",
      "11. Cytokeratin-7 (PROTEIN)\n",
      "12. PAS with diastase (CHEMICAL REAGENT)\n",
      "13. Synaptophysin (PROTEIN)\n",
      "14. Chromogranin (PROTEIN)\n",
      "15. S100 antibody (PROTEIN)\n",
      "16. HMB-45 (PROTEIN)\n",
      "17. Melan-A (PROTEIN)\n",
      "18. Thyroid transcription factor marker (TTF-1) (PROTEIN)\n",
      "19. Sarcomatoid carcinoma (DISEASE)\n",
      "20. Pleomorphic/giant cell carcinoma (SUBTYPE OF DISEASE)\n",
      "21. Spindle cell carcinoma (SUBTYPE OF DISEASE)\n",
      "22. Bronchial resection margins (LOCATION)\n",
      "23. Vascular margins (LOCATION)\n",
      "24. Hilar lymph nodes (LOCATION)\n",
      "\n",
      "Note that some of these entities may be subcategories or subtypes, but I have listed them according to their most specific classification.\n",
      "\n",
      "\n",
      "\n",
      "INDICATION: , Iron deficiency anemia.,PROCEDURE:  ,Colonoscopy with terminal ileum examination.,POSTOPERATIVE DIAGNOSIS:,  Normal examination.,WITHDRAWAL TIME: , 15 minutes.,SCOPE: , CF-H180AL.,MEDICA\n",
      "Response for entry 9 using llama3.2 3b:\n",
      "Here is the list of named entities extracted from the text, along with their respective types:\n",
      "\n",
      "1. Iron deficiency anemia - DISEASE\n",
      "2. Colonoscopy with terminal ileum examination - PROCEDURE\n",
      "3. CF-H180AL - MEDICAL DEVICE (SCOPE)\n",
      "4. Fentanyl 100 mcg and versed 10 mg - MEDICATIONS\n",
      "\n",
      "Note: There are no named entities that correspond to PERSON, LOCATION, DATE, or ORGANIZATION in the provided text.\n",
      "\n",
      "However, if we consider \"primary care physician\" as a entity, it could be classified under:\n",
      "\n",
      "5. Primary care physician - PERSON\n",
      "\n",
      "\n",
      "\n",
      "PREOPERATIVE DIAGNOSIS: , Vitreous hemorrhage and retinal detachment, right eye.,POSTOPERATIVE DIAGNOSIS:,  Vitreous hemorrhage and retinal detachment, right eye.,NAME OF PROCEDURE: , Combined closed \n",
      "Response for entry 10 using llama3.2 3b:\n",
      "Here is the list of extracted named entities along with their types:\n",
      "\n",
      "1. Vitreous hemorrhage - (CONDITION)\n",
      "2. Retinal detachment - (CONDITION)\n",
      "3. Combined closed vitrectomy - (PROCEDURE)\n",
      "4. Membrane peeling - (PROCEDURE)\n",
      "5. Fluid-air exchange - (PROCEDURE)\n",
      "6. Endolaser - (PROCEDURE)\n",
      "7. Marcaine 0.5% - (MEDICATION)\n",
      "8. Lidocaine 2% - (MEDICATION)\n",
      "9. Accurus infusion line - (EQUIPMENT)\n",
      "10. Wire lid speculum - (EQUIPMENT)\n",
      "11. Modified sclerotomies - (TECHNIQUE)\n",
      "12. #7-0 Vicryl suture - ( MATERIAL)\n",
      "13. Operating microscope - (EQUIPMENT)\n",
      "14. Optical illuminating system - (EQUIPMENT)\n",
      "15. Tenon's - (ANATOMICAL STRUCTURE)\n",
      "16. Conjunctivae - (ANATOMICAL STRUCTURE)\n",
      "17. Collagen shield - (MEDICATION/SURGICAL TOOL)\n",
      "18. Tobrex - (MEDICATION)\n",
      "\n",
      "Note that some entities may have multiple types, but I've only listed the most relevant one for each case.\n",
      "\n",
      "Also, it's worth noting that there are no named PERSONs mentioned in the text.\n",
      "\n",
      "\n",
      "\n",
      "REASON FOR CONSULT:,  Depression.,HPI:,  The patient is an 87-year-old white female admitted for low back pain status post hip fracture sustained a few days before Thanksgiving in 2006.  The patient w\n"
     ]
    },
    {
     "name": "stderr",
     "output_type": "stream",
     "text": [
      "Exception in thread Thread-29 (_readerthread):\n",
      "Traceback (most recent call last):\n",
      "  File \"C:\\Program Files\\WindowsApps\\PythonSoftwareFoundation.Python.3.10_3.10.3056.0_x64__qbz5n2kfra8p0\\lib\\threading.py\", line 1016, in _bootstrap_inner\n",
      "    self.run()\n",
      "  File \"C:\\Program Files\\WindowsApps\\PythonSoftwareFoundation.Python.3.10_3.10.3056.0_x64__qbz5n2kfra8p0\\lib\\threading.py\", line 953, in run\n",
      "    self._target(*self._args, **self._kwargs)\n",
      "  File \"C:\\Program Files\\WindowsApps\\PythonSoftwareFoundation.Python.3.10_3.10.3056.0_x64__qbz5n2kfra8p0\\lib\\subprocess.py\", line 1515, in _readerthread\n",
      "    buffer.append(fh.read())\n",
      "  File \"C:\\Program Files\\WindowsApps\\PythonSoftwareFoundation.Python.3.10_3.10.3056.0_x64__qbz5n2kfra8p0\\lib\\encodings\\cp1252.py\", line 23, in decode\n",
      "    return codecs.charmap_decode(input,self.errors,decoding_table)[0]\n",
      "UnicodeDecodeError: 'charmap' codec can't decode byte 0x8f in position 200: character maps to <undefined>\n"
     ]
    },
    {
     "name": "stdout",
     "output_type": "stream",
     "text": [
      "Response for entry 11 using llama3.2 3b:\n",
      "Here is the list of extracted named entities along with their types:\n",
      "\n",
      "1. Person:\n",
      "\t* The patient (87-year-old white female)\n",
      "2. Organization:\n",
      "\t* UTMB Hospitals\n",
      "3. Location:\n",
      "\t* Terrace Independent Living Center\n",
      "\t* Terrace\n",
      "4. Date:\n",
      "\t* January 29, 2007\n",
      "\t* April 2004\n",
      "\t* 1981\n",
      "5. Event:\n",
      "\t* Thanksgiving (2006)\n",
      "6. Condition/Disease:\n",
      "\t* Depression\n",
      "\t* Hypertension\n",
      "\t* Cataracts\n",
      "\t* Hysterectomy\n",
      "\t* MI (Myocardial Infarction)\n",
      "\t* Osteoporosis\n",
      "\t* Right total knee replacement\n",
      "\t* Diabetes\n",
      "\t* Meningioma\n",
      "7. Medication:\n",
      "\t* Norvasc\n",
      "\t* Aspirin\n",
      "\t* Lipitor\n",
      "\t* Klonopin\n",
      "\t* Digoxin\n",
      "\t* Lexapro\n",
      "\t* TriCor\n",
      "\t* Lasix\n",
      "\t* Ismo\n",
      "\t* Lidocaine patch\n",
      "\t* Zestril\n",
      "\t* Prinivil\n",
      "\t* Lopressor\n",
      "\t* Starlix\n",
      "\t* Pamelor\n",
      "\t* Polyethylene glycol\n",
      "\t* Potassium chloride\n",
      "\t* Norco\n",
      "\t* Zofran\n",
      "8. Allergy:\n",
      "\t* Codeine (hallucinations)\n",
      "9. Family History:\n",
      "\t* None mentioned\n",
      "10. Social/Developmental History:\n",
      "\t* Married for 40+ years\n",
      "\t* Widowed in 1981\n",
      "\t* Administrative assistant in UTMB Hospitals VP's office\n",
      "11. Mental Status Exam Results:\n",
      "\t* Axis I: Major depression disorder\n",
      "\t* Axis II: Deferred\n",
      "\t* Axis III: Osteoporosis, hypertension, hip fracture, possible diabetes, meningioma, MI, and right total knee replacement\n",
      "\t* Axis IV: Lives independently at Terrace, difficulty walking, hospitalization\n",
      "\t* Axis V: 45\n",
      "\n",
      "\n",
      "\n",
      "PREOPERATIVE DIAGNOSIS: , Bunion, left foot.,POSTOPERATIVE DIAGNOSIS: ,Bunion, left foot.,PROCEDURE PERFORMED:,1.  Bunionectomy with first metatarsal osteotomy base wedge type with internal screw fixa\n"
     ]
    },
    {
     "name": "stderr",
     "output_type": "stream",
     "text": [
      "Exception in thread Thread-31 (_readerthread):\n",
      "Traceback (most recent call last):\n",
      "  File \"C:\\Program Files\\WindowsApps\\PythonSoftwareFoundation.Python.3.10_3.10.3056.0_x64__qbz5n2kfra8p0\\lib\\threading.py\", line 1016, in _bootstrap_inner\n",
      "    self.run()\n",
      "  File \"C:\\Program Files\\WindowsApps\\PythonSoftwareFoundation.Python.3.10_3.10.3056.0_x64__qbz5n2kfra8p0\\lib\\threading.py\", line 953, in run\n",
      "    self._target(*self._args, **self._kwargs)\n",
      "  File \"C:\\Program Files\\WindowsApps\\PythonSoftwareFoundation.Python.3.10_3.10.3056.0_x64__qbz5n2kfra8p0\\lib\\subprocess.py\", line 1515, in _readerthread\n",
      "    buffer.append(fh.read())\n",
      "  File \"C:\\Program Files\\WindowsApps\\PythonSoftwareFoundation.Python.3.10_3.10.3056.0_x64__qbz5n2kfra8p0\\lib\\encodings\\cp1252.py\", line 23, in decode\n",
      "    return codecs.charmap_decode(input,self.errors,decoding_table)[0]\n",
      "UnicodeDecodeError: 'charmap' codec can't decode byte 0x8f in position 224: character maps to <undefined>\n"
     ]
    },
    {
     "name": "stdout",
     "output_type": "stream",
     "text": [
      "Response for entry 12 using llama3.2 3b:\n",
      "Here is the list of named entities extracted from the text, along with their types:\n",
      "\n",
      "1. Bunion - ORGANIZATION (in this context, referring to a foot deformity)\n",
      "2. Charcot-Marie tooth disease - DISEASE\n",
      "3. ABCD General Hospital - ORGANIZATION (hospital)\n",
      "4. Department of Anesthesia - ORGANIZATION (department within the hospital)\n",
      "5. Webril - PRODUCT (medical supply)\n",
      "6. Lidocaine - PRODUCT (medication)\n",
      "7. Marcaine - PRODUCT (medication)\n",
      "8. Mayo block type fashion - TECHNIQUE (surgical method)\n",
      "9. Esmarch bandage - PRODUCT (medical supply)\n",
      "10. Pneumatic ankle tourniquet - PRODUCT (medical device)\n",
      "11. Stockinette - PRODUCT (medical supply)\n",
      "12. Wet and dry sponge - PRODUCT (medical supply)\n",
      "13. #15 blade - TOOL (surgical instrument)\n",
      "14. Extensor digitorum longus tendon - ORGAN\n",
      "15. Capsule - ORGAN (in this context, referring to the fibrous tissue surrounding a joint)\n",
      "16. First metatarsal phalangeal - LOCATION (specifically, the first bone in the foot's toes)\n",
      "17. Abductor tendon attachments - LOCATION (specifically, the tendons attached to the abductors of the big toe)\n",
      "18. Extensor digitorum brevis tendon - ORGAN\n",
      "19. Juvaro type oblique base wedge osteotomy - TECHNIQUE (surgical method)\n",
      "20. K-wire - TOOL (surgical instrument)\n",
      "21. AO - ACRONYM (a standard in orthopedic surgery)\n",
      "22. Cortical hinge - LOCATION (specifically, the area where the bone meets the skin)\n",
      "23. Reciprocating rasp - TOOL (surgical instrument)\n",
      "24. Akin osteotomy - TECHNIQUE (surgical method)\n",
      "25. Vicryl - PRODUCT (suture material)\n",
      "26. Dexamethasone phosphate - PRODUCT (medication)\n",
      "27. Owen silk - PRODUCT (dressing material)\n",
      "28. Kling - PRODUCT (dressing material)\n",
      "29. Kerlix - PRODUCT (dressing material)\n",
      "30. Dr. X - PERSON (physician)\n",
      "\n",
      "Note that some of these entities may have been mentioned multiple times in the text, but they are listed here only once per type.\n",
      "\n",
      "\n",
      "\n",
      "PREOPERATIVE DIAGNOSES:,1.  Partial rotator cuff tear with impingement syndrome.,2.  Degenerative osteoarthritis of acromioclavicular joint, left shoulder, rule out slap lesion.,POSTOPERATIVE DIAGNOSE\n",
      "Response for entry 13 using llama3.2 3b:\n",
      "Here is the list of extracted named entities along with their corresponding types:\n",
      "\n",
      "1. Organization: ABCD General Hospital\n",
      "Type: ORGANIZATION\n",
      "\n",
      "2. Procedure:\n",
      " - Arthroscopy with arthroscopic rotator cuff debridement\n",
      " - Anterior acromioplasty\n",
      " - Mumford procedure\n",
      " Type: PROCEDURE\n",
      "\n",
      "3. Anesthetic:\n",
      " - Interscalene block anesthetic\n",
      " - General anesthetic\n",
      " Type: MEDICATION (ANESTHETIC)\n",
      "\n",
      "4. Medical Condition:\n",
      " - Partial rotator cuff tear with impingement syndrome\n",
      " - Degenerative osteoarthritis of acromioclavicular joint\n",
      " - Slap lesion\n",
      " Type: MEDICAL CONDITION\n",
      "\n",
      "5. Patient:\n",
      " - 38-year-old morbidly obese white male\n",
      " Type: PERSON\n",
      "\n",
      "6. Equipment:\n",
      " - Meniscal shaver\n",
      " - #18-gauge spinal needles\n",
      " - Micro-Aire saw\n",
      " - Beaver-tail rasp\n",
      " - Vicryl suture\n",
      " - Elastoplast tape\n",
      " - ABDs (Absorbable Dissolvable Bands)\n",
      " - Adaptic\n",
      " - Pain buster catheter\n",
      " Type: EQUIPMENT\n",
      "\n",
      "7. Location:\n",
      " - Inpatient Operative Suite, Room #1\n",
      " - Langer's line\n",
      " - Cross outlet of the shoulder\n",
      " Type: LOCATION\n",
      "\n",
      "\n",
      "\n",
      "SUBJECTIVE:,\n",
      "Response for entry 14 using llama3.2 3b:\n",
      "I'm ready to help. Please provide the text you'd like me to extract named entities from.\n",
      "\n",
      "\n",
      "\n",
      "S -, A 44-year-old, 250-pound male presents with extreme pain in his left heel.  This is his chief complaint.  He says that he has had this pain for about two weeks.  He works on concrete floors.  He \n",
      "Response for entry 15 using llama3.2 3b:\n",
      "Here is the list of named entities extracted from the text:\n",
      "\n",
      "1. Person (subject of the medical case) - PERSON\n",
      "2. Left heel - LOCATION\n",
      "3. Mornings - EVENT/TIME PERIOD\n",
      "4. After sitting - EVENT/ TIME PERIOD\n",
      "5. Macular blotching - CONDITION/DISEASE\n",
      "6. Pigment disorder - CONDITION/DISEASE\n",
      "7. Arms - LOCATION\n",
      "8. Face - LOCATION\n",
      "9. Legs - LOCATION\n",
      "10. Feet - LOCATION\n",
      "11. Body - LOCATION\n",
      "12. Right toes - LOCATION\n",
      "13. Tinea pedis - CONDITION/DISEASE\n",
      "14. Plantar aspect of both feet - LOCATION\n",
      "15. Redness of the right toes 2, 3 and 4 - EVENT/ TIME PERIOD (note: this seems to be a description of a specific location on the body, but it's not clear if it's a fixed point in time)\n",
      "16. Direct pressure on the plantar aspect of his left heel - EVENT/ ACTION\n",
      "17. Plantar fasciitis - CONDITION/DISEASE\n",
      "\n",
      "Note that some of these entities could potentially fit into more than one category (e.g., \"mornings\" could also be classified as a TIME PERIOD), but I've listed them according to what seems to be their most relevant or primary classification.\n",
      "\n",
      "\n",
      "\n",
      "IDENTIFICATION OF PATIENT: , The patient is a 34-year-old Caucasian female.,CHIEF COMPLAINT:,  Depression.,HISTORY OF PRESENT ILLNESS:,  The patient's depression began in her teenage years.  Sleep has\n",
      "Response for entry 16 using llama3.2 3b:\n",
      "Here is the list of named entities extracted from the text:\n",
      "\n",
      "1. Age (DATE)\n",
      "2. Cymbalta (MEDICATION)\n",
      "3. Wellbutrin (MEDICATION)\n",
      "4. Stephanie Kitchen (PERSON)\n",
      "5. Patient's name (not specified, assume it's a fictional patient) \n",
      "6. School nurse (PERSON)\n",
      "7. Diet Pepsi (PRODUCT)\n",
      "8. Tea (PRODUCT)\n",
      "\n",
      "Note that some of these entities may not be explicitly named in the text, but they can be inferred based on context.\n",
      "\n",
      "\n",
      "\n",
      "DUPLEX ULTRASOUND OF LEGS,RIGHT LEG:,  Duplex imaging was carried out according to normal protocol with a 7.5 Mhz imaging probe using B-mode ultrasound.  Deep veins were imaged at the level of the com\n",
      "Response for entry 17 using llama3.2 3b:\n",
      "Here is the list of named entities extracted from the text:\n",
      "\n",
      "1. DUPLEX ULTRASOUND OF LEGS (EVENT)\n",
      "2. RIGHT LEG (LOCATION)\n",
      "3. LEFT LEG (LOCATION)\n",
      "\n",
      "No specific PERSON, ORGANIZATION, LOCATION, DATE, or other entity types were mentioned in the text.\n",
      "\n",
      "Note: The asterisks (*) used to fill in measurement values in the text are not considered named entities, as they are placeholders for numerical data rather than actual names or references.\n",
      "\n",
      "\n",
      "\n",
      "CHIEF COMPLAINT: , \"Bloody bump on penis.\",HISTORY OF PRESENT ILLNESS: , This is a 29-year-old African-American male who presents to the Emergency Department today with complaint of a bleeding bump on\n"
     ]
    },
    {
     "name": "stderr",
     "output_type": "stream",
     "text": [
      "Exception in thread Thread-43 (_readerthread):\n",
      "Traceback (most recent call last):\n",
      "  File \"C:\\Program Files\\WindowsApps\\PythonSoftwareFoundation.Python.3.10_3.10.3056.0_x64__qbz5n2kfra8p0\\lib\\threading.py\", line 1016, in _bootstrap_inner\n",
      "    self.run()\n",
      "  File \"C:\\Program Files\\WindowsApps\\PythonSoftwareFoundation.Python.3.10_3.10.3056.0_x64__qbz5n2kfra8p0\\lib\\threading.py\", line 953, in run\n",
      "    self._target(*self._args, **self._kwargs)\n",
      "  File \"C:\\Program Files\\WindowsApps\\PythonSoftwareFoundation.Python.3.10_3.10.3056.0_x64__qbz5n2kfra8p0\\lib\\subprocess.py\", line 1515, in _readerthread\n",
      "    buffer.append(fh.read())\n",
      "  File \"C:\\Program Files\\WindowsApps\\PythonSoftwareFoundation.Python.3.10_3.10.3056.0_x64__qbz5n2kfra8p0\\lib\\encodings\\cp1252.py\", line 23, in decode\n",
      "    return codecs.charmap_decode(input,self.errors,decoding_table)[0]\n",
      "UnicodeDecodeError: 'charmap' codec can't decode byte 0x8f in position 200: character maps to <undefined>\n"
     ]
    },
    {
     "name": "stdout",
     "output_type": "stream",
     "text": [
      "Response for entry 18 using llama3.2 3b:\n",
      "Here is the list of named entities extracted from the text along with their types:\n",
      "\n",
      "1. Person - \"This is a 29-year-old African-American male\"\n",
      "2. Location - None\n",
      "3. Organization - None\n",
      "4. Date - Not specified, but implied as \"today\" and \"last night\"\n",
      "5. Event - \"being shot in the back\" (past event)\n",
      "6. Substance - Blood\n",
      "7. Condition - \"bloody bump on penis\", \"penile mass\"\n",
      "8. Medical Procedure - Excision of a bullet after being shot in the back, surgery for excision of a penile mass\n",
      "9. Medication - None\n",
      "10. Allergen - None\n",
      "11. Behavior/Habit - \"trying to get some\" (referring to engaging in sexual intercourse)\n",
      "12. Substance/Drug - Tobacco, alcohol\n",
      "13. Organ/Body Part - Penis\n",
      "14. System - Genitourinary system\n",
      "15. Diagnosis - Penile mass\n",
      "\n",
      "Note that some of these entities may be implicit or inferred from the text rather than being explicitly stated.\n",
      "\n",
      "\n",
      "\n",
      "PROCEDURE IN DETAIL:,  After appropriate operative consent was obtained, the patient was brought supine to the operating room and placed on the operating room table.  After intravenous sedation was ad\n",
      "Response for entry 19 using llama3.2 3b:\n",
      "Here is the list of extracted named entities along with their types:\n",
      "\n",
      "1. Xylocaine (DRUG)\n",
      "2. Marcaine (DRUG)\n",
      "3. Wydase (DRUG)\n",
      "4. Operating Room Table (LOCATION)\n",
      "5. Eye (ANATOMY/ORGAN)\n",
      "6. Limbus (ANATOMY/STRUCTURE)\n",
      "7. Rectus muscles (ANATOMY/STRUCTURE)\n",
      "8. Indirect Ophthalmoscopy (TECHNIQUE/METHOD)\n",
      "\n",
      "Note: Some entities, such as \"patient\" and \"operating room\", are not explicitly named in the text, but can be inferred to be related to people and places respectively.\n",
      "\n",
      "Additionally, the following events/persons are mentioned:\n",
      "\n",
      "1. A person (implied by the phrase \"the patient\")\n",
      "2. Surgeon/Doctor (implied by the phrase \"operative consent was obtained\")\n",
      "\n",
      "\n",
      "\n",
      "Responses have been saved to model_responses.csv\n"
     ]
    }
   ],
   "source": [
    "def query_model(prompt, model, size):\n",
    "    # Run the Ollama command in the terminal\n",
    "    result = subprocess.run(\n",
    "        [\"ollama\", \"run\", f\"{model}:{size}\"],\n",
    "        input=prompt,\n",
    "        text=True,\n",
    "        capture_output=True\n",
    "    )\n",
    "    return result.stdout\n",
    "\n",
    "def process_all_text_entries(data, model, size, csv_writer):\n",
    "    for idx, item in enumerate(data):\n",
    "        document_text = item['text']  # Extract the 'text' field from each entry\n",
    "        print(document_text[:200])\n",
    "        \n",
    "        # Updated prompt to extract all NER types\n",
    "        prompt = f\"Please extract all named entities from the following text. For each entity, specify the type (e.g., PERSON, ORGANIZATION, LOCATION, DATE, etc.): {document_text}. Respond with a list of entities and their types.\"\n",
    "        response = query_model(prompt=prompt, model=model, size=size)\n",
    "        \n",
    "        # Print response for each entry (optional)\n",
    "        print(f\"Response for entry {idx} using {model} {size}:\\n{response}\\n\")\n",
    "        \n",
    "        # Write the response to the CSV file\n",
    "        csv_writer.writerow([model, size, document_text[:200] + '...', response])  # Include only part of the text for brevity\n",
    "\n",
    "\n",
    "# Create the CSV file and add headers\n",
    "output_csv_path = \"model_responses.csv\"\n",
    "with open(output_csv_path, mode=\"w\", newline=\"\") as csv_file:\n",
    "    csv_writer = csv.writer(csv_file)\n",
    "    # Write the header\n",
    "    csv_writer.writerow([\"Model Name\", \"Model Size\", \"Text Sample\", \"Response to Prompt\"])\n",
    "\n",
    "    # Call the function for each model and size configuration\n",
    "    process_all_text_entries(train_data_trunc, \"llama3.2\", \"3b\", csv_writer)\n",
    "    #process_all_text_entries(train_data, \"llama3.1\", \"8b\", csv_writer)\n",
    "\n",
    "print(f\"Responses have been saved to {output_csv_path}\")"
   ]
  },
  {
   "cell_type": "markdown",
   "id": "9b02fd31",
   "metadata": {},
   "source": [
    "### *Findings*\n",
    "- It was relatively simple to run LLama3.2 locally\n",
    "- Because Llama is designed to take an input prompt and generate text in response, it is suitable for conversational AI, interactive querying, and generating outputs based on a range of instructions\n",
    "- This allowed the model to identify NER that goes beyond SpaCy's capabilities, identifying medicines, body parts, medical procedures, etc.\n",
    "- However, each output was in different formats. For ideal results, careful prompt engineering and post processing would be necessary."
   ]
  },
  {
   "cell_type": "markdown",
   "id": "47fa3a81",
   "metadata": {},
   "source": [
    "## **E.2 - Applying NER Models**"
   ]
  },
  {
   "cell_type": "code",
   "execution_count": 33,
   "metadata": {},
   "outputs": [
    {
     "name": "stderr",
     "output_type": "stream",
     "text": [
      "Some weights of BertForTokenClassification were not initialized from the model checkpoint at emilyalsentzer/Bio_ClinicalBERT and are newly initialized: ['classifier.bias', 'classifier.weight']\n",
      "You should probably TRAIN this model on a down-stream task to be able to use it for predictions and inference.\n"
     ]
    }
   ],
   "source": [
    "# Load the model and tokenizer\n",
    "model_name = \"emilyalsentzer/Bio_ClinicalBERT\"\n",
    "tokenizer = AutoTokenizer.from_pretrained(model_name)\n",
    "model = AutoModelForTokenClassification.from_pretrained(model_name)\n",
    "\n",
    "### Possible models to choose from\n",
    "### Universal-NER/UniNER-7B-type-sup\n",
    "### emilyalsentzer/Bio_ClinicalBERT\n",
    "### bionlp/bluebert_pubmed_mimic_uncased_L-12_H-768_A-12"
   ]
  },
  {
   "cell_type": "code",
   "execution_count": 34,
   "id": "4041f572",
   "metadata": {},
   "outputs": [
    {
     "name": "stderr",
     "output_type": "stream",
     "text": [
      "Hardware accelerator e.g. GPU is available in the environment, but no `device` argument is passed to the `Pipeline` object. Model will be on CPU.\n",
      "Asking to truncate to max_length but no maximum length is provided and the model has no predefined maximum length. Default to no truncation.\n"
     ]
    },
    {
     "name": "stdout",
     "output_type": "stream",
     "text": [
      "Entity: j, Label: LABEL_0, Score: 0.5789\n",
      "Entity: ##oh, Label: LABEL_0, Score: 0.5478\n",
      "Entity: ##n, Label: LABEL_0, Score: 0.6181\n",
      "Entity: do, Label: LABEL_0, Score: 0.6490\n",
      "Entity: ##e, Label: LABEL_0, Score: 0.5899\n",
      "Entity: was, Label: LABEL_0, Score: 0.5218\n",
      "Entity: diagnosed, Label: LABEL_0, Score: 0.5584\n",
      "Entity: with, Label: LABEL_0, Score: 0.5795\n",
      "Entity: type, Label: LABEL_0, Score: 0.6191\n",
      "Entity: 2, Label: LABEL_0, Score: 0.6182\n",
      "Entity: diabetes, Label: LABEL_0, Score: 0.6068\n",
      "Entity: on, Label: LABEL_0, Score: 0.5671\n",
      "Entity: 202, Label: LABEL_0, Score: 0.6095\n",
      "Entity: ##4, Label: LABEL_0, Score: 0.5017\n",
      "Entity: -, Label: LABEL_0, Score: 0.5182\n",
      "Entity: 11, Label: LABEL_0, Score: 0.5618\n",
      "Entity: -, Label: LABEL_0, Score: 0.5305\n",
      "Entity: 10, Label: LABEL_0, Score: 0.5519\n",
      "Entity: ., Label: LABEL_0, Score: 0.5661\n"
     ]
    }
   ],
   "source": [
    "# Create the NER pipeline\n",
    "nlp_ner = pipeline(\"ner\", model=model, tokenizer=tokenizer) # runs the specific model in NER mode\n",
    "\n",
    "# Example text\n",
    "text = \"John Doe was diagnosed with Type 2 Diabetes on 2024-11-10.\"\n",
    "\n",
    "# Perform NER\n",
    "entities = nlp_ner(text)\n",
    "\n",
    "# Print out the recognized entities\n",
    "for ent in entities:\n",
    "    print(f\"Entity: {ent['word']}, Label: {ent['entity']}, Score: {ent['score']:.4f}\")"
   ]
  },
  {
   "cell_type": "markdown",
   "id": "f585c2ee",
   "metadata": {},
   "source": [
    "### *Findings*\n",
    "\n",
    "- Loading the model took the longest in this process\n",
    "- This model was trained for the task of extracting NER from text, and was on the clinical NER leaderboard on Hugging Face\n",
    "- The outputs on this test statement show that the entities that were extracted are not specific to the medical field, meaning that fine tuning would be needed to use this on our data\n",
    "\n",
    "_Advantages of LLMs for NER_\n",
    "\n",
    "- LLMs, such as BERT or GPT, excel at understanding medical context, enabling them to accurately identify rare diseases, uncommon symptoms, or jargon that traditional NER models might miss. \n",
    "- Their ability to capture complex relationships, like drug-disease interactions or symptom-disease links, makes them particularly effective for medical applications. \n",
    "- They also benefit from transfer learning, as they are pre-trained on large datasets, and can be fine-tuned with smaller domain-specific datasets to improve performance in specific medical fields. \n",
    "- They are scalable and versatile, capable of adapting to various medical domains (e.g., oncology, psychiatry) and handling multilingual medical texts. \n",
    "- Additionally, they manage ambiguous or variable terminology well, disambiguating terms with multiple meanings (e.g., \"stroke\") and recognizing synonyms or different phrasings (e.g., \"heart attack\" vs. \"myocardial infarction\").\n",
    "\n",
    "_Disadvantages of LLMs for NER_\n",
    "- Despite their strengths, LLMs are resource-intensive, requiring substantial computational power, memory, and storage for training and inference, which may limit their practicality in low-resource settings. \n",
    "- Fine-tuning on medical data demands high-quality, annotated datasets that are expensive and time-consuming to create, and insufficiently diverse training data can lead to biases and poor generalization. \n",
    "- LLMs also lack transparency, making it difficult to understand or fix errors, and they are sensitive to noisy data, such as misspellings or informal notes in medical records. \n",
    "- Ethical and privacy concerns are significant, as improper handling of medical data could compromise patient confidentiality. \n",
    "- Errors in entity recognition, such as misclassifying a diagnosis or treatment, could have serious consequences in clinical contexts."
   ]
  },
  {
   "cell_type": "markdown",
   "id": "e38b8146",
   "metadata": {},
   "source": [
    "# **PART F - Use Cases of NER**  \n",
    "---\n",
    "_Describe how NER type information could help in other NLP use cases._\n",
    "\n",
    "NER type information can help with enhancing downstream tasks, for example:\n",
    "\n",
    "1. Document Classification:  \n",
    "    -  Identifying medical entities (e.g., diseases, drugs, procedures) allows the system to understand document themes and assign categories more accurately.\n",
    "    - For example, we could use this to classify medical records into categories such as diagnosis, treatment, or follow-up notes.\n",
    "\n",
    "2. Information Retrieval:\n",
    "    - Extracting entities like drug names or disease names can improve the precision of search queries, ensuring more relevant results.\n",
    "    - For example, this could be used for retrieving research papers or patient cases related to specific diseases or treatments.\n",
    "\n",
    "3. Question Answering:\n",
    "    - Recognizing entities like drug names and symptoms helps the system match the query to appropriate answers in medical literature.\n",
    "    - For example, such an arrangement could answer medical queries, like \"What are the side effects of Drug X?\"\n",
    "\n",
    "4. Summarization:\n",
    "    - Extracting key entities such as diagnoses and treatments can help to create more concise, entity-rich summaries.\n",
    "    - For example, upon a patient's visit to the Emergency Department, this approach could be used to generate summaries of the patient's visit to help with their understanding.\n",
    "\n"
   ]
  },
  {
   "cell_type": "code",
   "execution_count": null,
   "id": "d436cc65",
   "metadata": {},
   "outputs": [],
   "source": []
  }
 ],
 "metadata": {
  "kernelspec": {
   "display_name": "Python 3",
   "language": "python",
   "name": "python3"
  },
  "language_info": {
   "codemirror_mode": {
    "name": "ipython",
    "version": 3
   },
   "file_extension": ".py",
   "mimetype": "text/x-python",
   "name": "python",
   "nbconvert_exporter": "python",
   "pygments_lexer": "ipython3",
   "version": "3.10.11"
  }
 },
 "nbformat": 4,
 "nbformat_minor": 5
}
