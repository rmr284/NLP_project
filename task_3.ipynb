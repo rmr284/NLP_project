{
 "cells": [
  {
   "cell_type": "code",
   "execution_count": 7,
   "id": "541c099c767541b7",
   "metadata": {
    "ExecuteTime": {
     "end_time": "2024-10-30T16:45:12.002589Z",
     "start_time": "2024-10-30T16:45:04.053325Z"
    }
   },
   "outputs": [],
   "source": [
    "from datasets import load_dataset"
   ]
  },
  {
   "cell_type": "code",
   "execution_count": 8,
   "id": "e42040a1d7b0dbee",
   "metadata": {
    "ExecuteTime": {
     "end_time": "2024-10-30T16:45:28.680854Z",
     "start_time": "2024-10-30T16:45:12.016887Z"
    }
   },
   "outputs": [],
   "source": [
    "import spacy"
   ]
  },
  {
   "cell_type": "code",
   "execution_count": 9,
   "id": "4882f846414121f5",
   "metadata": {
    "ExecuteTime": {
     "end_time": "2024-10-30T16:45:43.307340Z",
     "start_time": "2024-10-30T16:45:28.691577Z"
    }
   },
   "outputs": [],
   "source": [
    "ds = load_dataset(\"argilla/medical-domain\")\n",
    "train_data = ds['train']"
   ]
  },
  {
   "cell_type": "code",
   "execution_count": 10,
   "id": "3453202f983ff0c",
   "metadata": {
    "ExecuteTime": {
     "end_time": "2024-10-29T15:26:40.200182Z",
     "start_time": "2024-10-29T15:26:40.183294Z"
    }
   },
   "outputs": [
    {
     "name": "stdout",
     "output_type": "stream",
     "text": [
      "Features 1: text\n",
      "\n",
      "Features 2: inputs\n",
      "\n",
      "Features 3: prediction\n",
      "\n",
      "Features 4: prediction_agent\n",
      "\n",
      "Features 5: annotation\n",
      "\n",
      "Features 6: annotation_agent\n",
      "\n",
      "Features 7: multi_label\n",
      "\n",
      "Features 8: explanation\n",
      "\n",
      "Features 9: id\n",
      "\n",
      "Features 10: metadata\n",
      "\n",
      "Features 11: status\n",
      "\n",
      "Features 12: event_timestamp\n",
      "\n",
      "Features 13: metrics\n",
      "\n",
      "Sample 1: {'text': 'PREOPERATIVE DIAGNOSIS:,  Iron deficiency anemia.,POSTOPERATIVE DIAGNOSIS:,  Diverticulosis.,PROCEDURE:,  Colonoscopy.,MEDICATIONS: , MAC.,PROCEDURE: , The Olympus pediatric variable colonoscope was introduced into the rectum and advanced carefully through the colon to the cecum identified by the ileocecal valve and the appendiceal orifice.  Preparation was good, although there was some residual material in the cecum that was difficult to clear completely.  The mucosa was normal throughout the colon.  No polyps or other lesions were identified, and no blood was noted.  Some diverticula were seen of the sigmoid colon with no luminal narrowing or evidence of inflammation.  A retroflex view of the anorectal junction showed no hemorrhoids.  The patient tolerated the procedure well and was sent to the recovery room.,FINAL DIAGNOSES:,1.  Diverticulosis in the sigmoid.,2.  Otherwise normal colonoscopy to the cecum.,RECOMMENDATIONS:,1.  Follow up with Dr. X as needed.,2.  Screening colonoscopy in 2 years.,3.  Additional evaluation for other causes of anemia may be appropriate.', 'inputs': {'text': 'PREOPERATIVE DIAGNOSIS:,  Iron deficiency anemia.,POSTOPERATIVE DIAGNOSIS:,  Diverticulosis.,PROCEDURE:,  Colonoscopy.,MEDICATIONS: , MAC.,PROCEDURE: , The Olympus pediatric variable colonoscope was introduced into the rectum and advanced carefully through the colon to the cecum identified by the ileocecal valve and the appendiceal orifice.  Preparation was good, although there was some residual material in the cecum that was difficult to clear completely.  The mucosa was normal throughout the colon.  No polyps or other lesions were identified, and no blood was noted.  Some diverticula were seen of the sigmoid colon with no luminal narrowing or evidence of inflammation.  A retroflex view of the anorectal junction showed no hemorrhoids.  The patient tolerated the procedure well and was sent to the recovery room.,FINAL DIAGNOSES:,1.  Diverticulosis in the sigmoid.,2.  Otherwise normal colonoscopy to the cecum.,RECOMMENDATIONS:,1.  Follow up with Dr. X as needed.,2.  Screening colonoscopy in 2 years.,3.  Additional evaluation for other causes of anemia may be appropriate.'}, 'prediction': [{'label': ' Gastroenterology', 'score': 1.0}], 'prediction_agent': 'Argilla', 'annotation': None, 'annotation_agent': None, 'multi_label': False, 'explanation': None, 'id': '00001265-03e2-47b2-b6cf-bed32dad2fa9', 'metadata': None, 'status': 'Default', 'event_timestamp': datetime.datetime(2022, 12, 7, 9, 38, 43, 3878), 'metrics': {'text_length': 1085}}\n",
      "\n",
      "Sample 2: {'text': 'CLINICAL INDICATION:  ,Normal stress test.,PROCEDURES PERFORMED:,1.  Left heart cath.,2.  Selective coronary angiography.,3.  LV gram.,4.  Right femoral arteriogram.,5.  Mynx closure device.,PROCEDURE IN DETAIL: , The patient was explained about all the risks, benefits, and alternatives of this procedure.  The patient agreed to proceed and informed consent was signed.,Both groins were prepped and draped in the usual sterile fashion.  After local anesthesia with 2% lidocaine, a 6-French sheath was inserted in the right femoral artery.  Left and right coronary angiography was performed using 6-French JL4 and 6-French 3DRC catheters.  Then, LV gram was performed using 6-French pigtail catheter.  Post LV gram, LV-to-aortic gradient was obtained.  Then, the right femoral arteriogram was performed.  Then, the Mynx closure device was used for hemostasis.  There were no complications.,HEMODYNAMICS: , LVEDP was 9.  There was no LV-to-aortic gradient.,CORONARY ANGIOGRAPHY:,1.  Left main is normal.  It bifurcates into LAD and left circumflex.,2.  Proximal LAD at the origin of big diagonal, there is 50% to 60% calcified lesion present.  Rest of the LAD free of disease.,3.  Left circumflex is a large vessel and with minor plaque.,4.  Right coronary is dominant and also has proximal 40% stenosis.,SUMMARY:,1.  Nonobstructive coronary artery disease, LAD proximal at the origin of big diagonal has 50% to 60% stenosis, which is calcified.,2.  RCA has 40% proximal stenosis.,3.  Normal LV systolic function with LV ejection fraction of 60%.,PLAN: , We will treat with medical therapy.  If the patient becomes symptomatic, we will repeat stress test.  If there is ischemic event, the patient will need surgery for the LAD lesion.  For the time being, we will continue with the medical therapy.,', 'inputs': {'text': 'CLINICAL INDICATION:  ,Normal stress test.,PROCEDURES PERFORMED:,1.  Left heart cath.,2.  Selective coronary angiography.,3.  LV gram.,4.  Right femoral arteriogram.,5.  Mynx closure device.,PROCEDURE IN DETAIL: , The patient was explained about all the risks, benefits, and alternatives of this procedure.  The patient agreed to proceed and informed consent was signed.,Both groins were prepped and draped in the usual sterile fashion.  After local anesthesia with 2% lidocaine, a 6-French sheath was inserted in the right femoral artery.  Left and right coronary angiography was performed using 6-French JL4 and 6-French 3DRC catheters.  Then, LV gram was performed using 6-French pigtail catheter.  Post LV gram, LV-to-aortic gradient was obtained.  Then, the right femoral arteriogram was performed.  Then, the Mynx closure device was used for hemostasis.  There were no complications.,HEMODYNAMICS: , LVEDP was 9.  There was no LV-to-aortic gradient.,CORONARY ANGIOGRAPHY:,1.  Left main is normal.  It bifurcates into LAD and left circumflex.,2.  Proximal LAD at the origin of big diagonal, there is 50% to 60% calcified lesion present.  Rest of the LAD free of disease.,3.  Left circumflex is a large vessel and with minor plaque.,4.  Right coronary is dominant and also has proximal 40% stenosis.,SUMMARY:,1.  Nonobstructive coronary artery disease, LAD proximal at the origin of big diagonal has 50% to 60% stenosis, which is calcified.,2.  RCA has 40% proximal stenosis.,3.  Normal LV systolic function with LV ejection fraction of 60%.,PLAN: , We will treat with medical therapy.  If the patient becomes symptomatic, we will repeat stress test.  If there is ischemic event, the patient will need surgery for the LAD lesion.  For the time being, we will continue with the medical therapy.,'}, 'prediction': [{'label': ' Surgery', 'score': 1.0}], 'prediction_agent': 'Argilla', 'annotation': None, 'annotation_agent': None, 'multi_label': False, 'explanation': None, 'id': '0007edf0-1413-4b16-8212-3a13c2ab4e43', 'metadata': None, 'status': 'Default', 'event_timestamp': datetime.datetime(2022, 12, 7, 9, 33, 53, 387245), 'metrics': {'text_length': 1798}}\n",
      "\n",
      "Sample 3: {'text': 'FINDINGS:,Axial scans were performed from L1 to S2 and reformatted images were obtained in the sagittal and coronal planes.,Preliminary scout film demonstrates anterior end plate spondylosis at T11-12 and T12-L1.,L1-2: There is normal disc height, anterior end plate spondylosis, very minimal vacuum change with no posterior annular disc bulging or protrusion. Normal central canal, intervertebral neural foramina and facet joints (image #4).,L2-3: There is mild decreased disc height, anterior end plate spondylosis, circumferential disc protrusion measuring 4.6mm (AP) and right extraforaminal osteophyte disc complex. There is mild non-compressive right neural foraminal narrowing, minimal facet arthrosis, normal central canal and left neural foramen (image #13).,L3-4: There is normal disc height, anterior end plate spondylosis, and circumferential non-compressive annular disc bulging. The disc bulging flattens the ventral thecal sac and there is minimal non-compressive right neural foraminal narrowing, minimal to mild facet arthrosis with vacuum change on the right, normal central canal and left neural foramen (image #25).,L4-5:', 'inputs': {'text': 'FINDINGS:,Axial scans were performed from L1 to S2 and reformatted images were obtained in the sagittal and coronal planes.,Preliminary scout film demonstrates anterior end plate spondylosis at T11-12 and T12-L1.,L1-2: There is normal disc height, anterior end plate spondylosis, very minimal vacuum change with no posterior annular disc bulging or protrusion. Normal central canal, intervertebral neural foramina and facet joints (image #4).,L2-3: There is mild decreased disc height, anterior end plate spondylosis, circumferential disc protrusion measuring 4.6mm (AP) and right extraforaminal osteophyte disc complex. There is mild non-compressive right neural foraminal narrowing, minimal facet arthrosis, normal central canal and left neural foramen (image #13).,L3-4: There is normal disc height, anterior end plate spondylosis, and circumferential non-compressive annular disc bulging. The disc bulging flattens the ventral thecal sac and there is minimal non-compressive right neural foraminal narrowing, minimal to mild facet arthrosis with vacuum change on the right, normal central canal and left neural foramen (image #25).,L4-5:'}, 'prediction': [{'label': ' Radiology', 'score': 1.0}], 'prediction_agent': 'Argilla', 'annotation': None, 'annotation_agent': None, 'multi_label': False, 'explanation': None, 'id': '00097d1e-1357-4447-a39a-fe8f8b7c36ae', 'metadata': None, 'status': 'Default', 'event_timestamp': datetime.datetime(2022, 12, 7, 9, 35, 25, 277951), 'metrics': {'text_length': 1141}}\n",
      "\n",
      "Sample 4: {'text': 'PREOPERATIVE DIAGNOSIS: , Blood loss anemia.,POSTOPERATIVE DIAGNOSES:,1.  Diverticulosis coli.,2.  Internal hemorrhoids.,3.  Poor prep.,PROCEDURE PERFORMED:,  Colonoscopy with photos.,ANESTHESIA: , Conscious sedation per Anesthesia.,SPECIMENS:,  None.,HISTORY:,  The patient is an 85-year-old female who was admitted to the hospital with a markedly decreased hemoglobin and blood loss anemia.  She underwent an EGD and attempted colonoscopy; however, due to a very poor prep, only a flexible sigmoidoscopy was performed at that time.  A coloscopy is now being performed for completion.,PROCEDURE:,  After proper informed consent was obtained, the patient was brought to the Endoscopy Suite.  She was placed in the left lateral position and was given sedation by the Anesthesia Department.  A digital rectal exam was performed and there was no evidence of mass.  The colonoscope was then inserted into the rectum.  There was some solid stool encountered.  The scope was maneuvered around this.  There was relatively poor prep as the scope was advanced through the sigmoid colon and portions of the descending colon.  The scope was then passed through the transverse colon and ascending colon to the cecum.  No masses or polyps were noted.  Visualization of the portions of the colon was however somewhat limited.  There were scattered diverticuli noted in the sigmoid.,The scope was slowly withdrawn carefully examining all walls.  Once in the rectum, the scope was retroflexed and nonsurgical internal hemorrhoids were noted.  The scope was then completely withdrawn.  The patient tolerated the procedure well and was transferred to recovery room in stable condition.  She will be placed on a high-fiber diet and Colace and we will continue to monitor her hemoglobin.', 'inputs': {'text': 'PREOPERATIVE DIAGNOSIS: , Blood loss anemia.,POSTOPERATIVE DIAGNOSES:,1.  Diverticulosis coli.,2.  Internal hemorrhoids.,3.  Poor prep.,PROCEDURE PERFORMED:,  Colonoscopy with photos.,ANESTHESIA: , Conscious sedation per Anesthesia.,SPECIMENS:,  None.,HISTORY:,  The patient is an 85-year-old female who was admitted to the hospital with a markedly decreased hemoglobin and blood loss anemia.  She underwent an EGD and attempted colonoscopy; however, due to a very poor prep, only a flexible sigmoidoscopy was performed at that time.  A coloscopy is now being performed for completion.,PROCEDURE:,  After proper informed consent was obtained, the patient was brought to the Endoscopy Suite.  She was placed in the left lateral position and was given sedation by the Anesthesia Department.  A digital rectal exam was performed and there was no evidence of mass.  The colonoscope was then inserted into the rectum.  There was some solid stool encountered.  The scope was maneuvered around this.  There was relatively poor prep as the scope was advanced through the sigmoid colon and portions of the descending colon.  The scope was then passed through the transverse colon and ascending colon to the cecum.  No masses or polyps were noted.  Visualization of the portions of the colon was however somewhat limited.  There were scattered diverticuli noted in the sigmoid.,The scope was slowly withdrawn carefully examining all walls.  Once in the rectum, the scope was retroflexed and nonsurgical internal hemorrhoids were noted.  The scope was then completely withdrawn.  The patient tolerated the procedure well and was transferred to recovery room in stable condition.  She will be placed on a high-fiber diet and Colace and we will continue to monitor her hemoglobin.'}, 'prediction': [{'label': ' Surgery', 'score': 1.0}], 'prediction_agent': 'Argilla', 'annotation': None, 'annotation_agent': None, 'multi_label': False, 'explanation': None, 'id': '001622b6-0182-4fee-9881-ae15e81ce836', 'metadata': None, 'status': 'Default', 'event_timestamp': datetime.datetime(2022, 12, 7, 9, 34, 15, 982054), 'metrics': {'text_length': 1767}}\n",
      "\n",
      "Sample 5: {'text': 'REASON FOR VISIT:  ,Elevated PSA with nocturia and occasional daytime frequency.,HISTORY: , A 68-year-old male with a history of frequency and some outlet obstructive issues along with irritative issues.  The patient has had history of an elevated PSA and PSA in 2004 was 5.5.  In 2003, he had undergone a biopsy by Dr. X, which was negative for adenocarcinoma of the prostate.  The patient has had PSAs as high as noted above.  His PSAs have been as low as 1.6, but those were on Proscar.  He otherwise appears to be doing reasonably well, off the Proscar, otherwise does have some irritative symptoms.  This has been ongoing for greater than five years.  No other associated symptoms or modifying factors.  Severity is moderate.  PSA relatively stable over time.,IMPRESSION: , Stable PSA over time, although he does have some irritative symptoms.  After our discussion, it does appear that if he is not drinking close to going to bed, he notes that his nocturia has significantly decreased.  At this juncture what I would like to do is to start with behavior modification.  There were no other associated symptoms or modifying factors.,PLAN: , The patient will discontinue all caffeinated and carbonated beverages and any fluids three hours prior to going to bed.  He already knows that this does decrease his nocturia.  He will do this without medications to see how well he does and hopefully he may need no other additional medications other than may be changing his alpha-blocker to something of more efficacious.', 'inputs': {'text': 'REASON FOR VISIT:  ,Elevated PSA with nocturia and occasional daytime frequency.,HISTORY: , A 68-year-old male with a history of frequency and some outlet obstructive issues along with irritative issues.  The patient has had history of an elevated PSA and PSA in 2004 was 5.5.  In 2003, he had undergone a biopsy by Dr. X, which was negative for adenocarcinoma of the prostate.  The patient has had PSAs as high as noted above.  His PSAs have been as low as 1.6, but those were on Proscar.  He otherwise appears to be doing reasonably well, off the Proscar, otherwise does have some irritative symptoms.  This has been ongoing for greater than five years.  No other associated symptoms or modifying factors.  Severity is moderate.  PSA relatively stable over time.,IMPRESSION: , Stable PSA over time, although he does have some irritative symptoms.  After our discussion, it does appear that if he is not drinking close to going to bed, he notes that his nocturia has significantly decreased.  At this juncture what I would like to do is to start with behavior modification.  There were no other associated symptoms or modifying factors.,PLAN: , The patient will discontinue all caffeinated and carbonated beverages and any fluids three hours prior to going to bed.  He already knows that this does decrease his nocturia.  He will do this without medications to see how well he does and hopefully he may need no other additional medications other than may be changing his alpha-blocker to something of more efficacious.'}, 'prediction': [{'label': ' SOAP / Chart / Progress Notes', 'score': 1.0}], 'prediction_agent': 'Argilla', 'annotation': None, 'annotation_agent': None, 'multi_label': False, 'explanation': None, 'id': '0029245f-8b45-4796-ba09-7760612289c6', 'metadata': None, 'status': 'Default', 'event_timestamp': datetime.datetime(2022, 12, 7, 9, 34, 59, 528244), 'metrics': {'text_length': 1519}}\n",
      "\n"
     ]
    }
   ],
   "source": [
    "def inspect_data(data, num_samples=5):\n",
    "    # Print out the full structure of dataset\n",
    "    for i, item in enumerate(data[:num_samples], 1):\n",
    "        print(f\"Features {i}: {item}\\n\")\n",
    "\n",
    "    # Print out the structure and content of the first few data entries\n",
    "    for i in range(num_samples):\n",
    "        sample = data[i]\n",
    "        print(f\"Sample {i+1}: {sample}\\n\")\n",
    "\n",
    "# Run the inspection of data\n",
    "inspect_data(train_data)"
   ]
  },
  {
   "cell_type": "markdown",
   "id": "58bbb6707f6db455",
   "metadata": {},
   "source": [
    "## Standard and potential new NER types\n",
    "- Standard NER types that are prominent in our data are Persons, dates, times, locations, organizations (ex. department)\n",
    "- Potential new NER types that are prominent in our data are diagnosis, symptoms, treatment, and lab values. "
   ]
  },
  {
   "cell_type": "markdown",
   "id": "e7202c7a",
   "metadata": {},
   "source": [
    "## Investigate LLM-based NER\n",
    "### Utilizing Chatbots"
   ]
  },
  {
   "cell_type": "code",
   "execution_count": 13,
   "id": "5d9af215",
   "metadata": {},
   "outputs": [],
   "source": [
    "train_data_trunc = train_data.select(range(10))"
   ]
  },
  {
   "cell_type": "code",
   "execution_count": 16,
   "id": "9b1b4364",
   "metadata": {},
   "outputs": [
    {
     "name": "stdout",
     "output_type": "stream",
     "text": [
      "PREOPERATIVE DIAGNOSIS:,  Iron deficiency anemia.,POSTOPERATIVE DIAGNOSIS:,  Diverticulosis.,PROCEDURE:,  Colonoscopy.,MEDICATIONS: , MAC.,PROCEDURE: , The Olympus pediatric variable colonoscope was i\n",
      "Response for entry 0 using llama3.2 3b:\n",
      "1. Iron deficiency anemia - DIAGNOSIS\n",
      "2. Diverticulosis - DIAGNOSIS\n",
      "3. MAC - MEDICATIONS\n",
      "4. Olympus pediatric variable colonoscope - ORGANIZATION\n",
      "5. Dr. X - PERSON\n",
      "\n",
      "\n",
      "\n",
      "CLINICAL INDICATION:  ,Normal stress test.,PROCEDURES PERFORMED:,1.  Left heart cath.,2.  Selective coronary angiography.,3.  LV gram.,4.  Right femoral arteriogram.,5.  Mynx closure device.,PROCEDURE\n",
      "Response for entry 1 using llama3.2 3b:\n",
      "1. Left heart cath (PROCEDURE)\n",
      "2. Selective coronary angiography (PROCEDURE)\n",
      "3. LV gram (PROCEDURE)\n",
      "4. Right femoral arteriogram (PROCEDURE)\n",
      "5. Mynx closure device (PROCEDURE)\n",
      "6. Lidocaine (SUBSTANCE)\n",
      "7. 2% lidocaine (SUBSTANCE)\n",
      "8. LVEDP (MEASUREMENT)\n",
      "9. Left main (ANATOMY)\n",
      "10. LAD (ANATOMY)\n",
      "11. Left circumflex (ANATOMY)\n",
      "12. Right coronary artery (ANATOMY)\n",
      "13. Big diagonal (ANATOMY)\n",
      "14. RCA (ANATOMY)\n",
      "15. Nonobstructive coronary artery disease (DIAGNOSIS)\n",
      "16. Calcified lesion (DIAGNOSIS)\n",
      "17. Proximal LAD stenosis (DIAGNOSIS)\n",
      "18. Left circumflex stenosis (DIAGNOSIS)\n",
      "19. Right coronary artery stenosis (DIAGNOSIS)\n",
      "20. LV ejection fraction (MEASUREMENT)\n",
      "21. Ischemic event (EVENT)\n",
      "22. Surgery (TREATMENT)\n",
      "\n",
      "\n",
      "\n",
      "FINDINGS:,Axial scans were performed from L1 to S2 and reformatted images were obtained in the sagittal and coronal planes.,Preliminary scout film demonstrates anterior end plate spondylosis at T11-12\n",
      "Response for entry 2 using llama3.2 3b:\n",
      "1. L1 - LOCATION\n",
      "2. T11-12 - LOCATION\n",
      "3. T12-L1 - LOCATION\n",
      "4. L1-2 - LOCATION\n",
      "5. L2-3 - LOCATION\n",
      "6. L3-4 - LOCATION\n",
      "7. L4-5 - LOCATION\n",
      "\n",
      "\n",
      "\n",
      "PREOPERATIVE DIAGNOSIS: , Blood loss anemia.,POSTOPERATIVE DIAGNOSES:,1.  Diverticulosis coli.,2.  Internal hemorrhoids.,3.  Poor prep.,PROCEDURE PERFORMED:,  Colonoscopy with photos.,ANESTHESIA: , Co\n",
      "Response for entry 3 using llama3.2 3b:\n",
      "1. Blood loss anemia - DIAGNOSIS\n",
      "2. Diverticulosis coli - DIAGNOSIS\n",
      "3. Internal hemorrhoids - DIAGNOSIS\n",
      "4. Poor prep - PROCEDURE\n",
      "5. Colonoscopy - PROCEDURE\n",
      "6. Photos - SPECIMENS\n",
      "7. Conscious sedation per Anesthesia - ANESTHESIA\n",
      "8. EGD (Endoscopic Gastroduodenoscopy) - HISTORY\n",
      "9. Flexible sigmoidoscopy - PROCEDURE\n",
      "10. Coloscopy - PROCEDURE\n",
      "11. Digital rectal exam - PROCEDURE\n",
      "12. Left lateral position - POSITION\n",
      "13. Sedation by Anesthesia Department - ANESTHESIA\n",
      "14. High-fiber diet - TREATMENT\n",
      "15. Colace - TREATMENT\n",
      "\n",
      "\n",
      "\n",
      "REASON FOR VISIT:  ,Elevated PSA with nocturia and occasional daytime frequency.,HISTORY: , A 68-year-old male with a history of frequency and some outlet obstructive issues along with irritative issu\n",
      "Response for entry 4 using llama3.2 3b:\n",
      "1. PSA - DIAGNOSIS\n",
      "2. Nocturia - DIAGNOSIS\n",
      "3. Proscar - MEDICATION\n",
      "4. Dr. X - PERSON\n",
      "5. Adenocarcinoma - DIAGNOSIS\n",
      "6. Five years - TIMEFRAME\n",
      "7. 2004 - DATE\n",
      "8. 2003 - DATE\n",
      "\n",
      "\n",
      "\n",
      "XYZ, O.D.,RE:  ABC,DOB:  MM/DD/YYYY,Dear Dr. XYZ:,Thank you for your kind referral for patient ABC.  Mr. ABC is being referred for evaluation of glaucoma.  The patient states he has no visual complain\n",
      "Response for entry 5 using llama3.2 3b:\n",
      "1. Dr. XYZ - PERSON\n",
      "2. Mr. ABC - PERSON\n",
      "3. O.D. - ORGANIZATION\n",
      "4. XYZ - ORGANIZATION\n",
      "5. MM/DD/YYYY - DATE \n",
      "6. Glaucoma - DIAGNOSIS\n",
      "\n",
      "\n",
      "\n",
      "PREOPERATIVE DIAGNOSES:,1.  Intrauterine pregnancy at 30 and 4/7th weeks.,2.  Previous cesarean section x2.,3.  Multiparity.,4.  Request for permanent sterilization.,POSTOPERATIVE DIAGNOSIS:,1.  Intra\n",
      "Response for entry 6 using llama3.2 3b:\n",
      "1. Intrauterine pregnancy - LOCATION\n",
      "2. Cesarean section - PROCEDURE\n",
      "3. Multiparity - CONDITION\n",
      "4. Permanent sterilization - INDICATION\n",
      "5. Breach presentation - FINDING\n",
      "6. Liveborn female neonate - FINDING\n",
      "7. Baby - FINDING\n",
      "8. Congenital hip problems - DIAGNOSIS\n",
      "9. Uterus - ORGAN\n",
      "10. Tubes and ovaries - ORGAN\n",
      "11. Bowel adhesions - FINDING\n",
      "12. Anterior abdominal wall - LOCATION\n",
      "13. Fascia - LOCATION\n",
      "14. Rectus muscle - LOCATION\n",
      "15. Peritoneum - LOCATION\n",
      "16. Bladder - LOCATION\n",
      "17. Amniotic fluid - FLUID\n",
      "18. Placenta - ORGAN\n",
      "19. Cord gases - LAB RESULTS\n",
      "20. Astramorph anesthesia - MEDICATION\n",
      "21. Pfannenstiel skin incision - PROCEDURE\n",
      "22. Mayo scissors - EQUIPMENT\n",
      "23. Ochsner clamps - EQUIPMENT\n",
      "24. Metzenbaum scissors - EQUIPMENT\n",
      "25. Hemostat - EQUIPMENT\n",
      "26. Bandage scissors - EQUIPMENT\n",
      "27. Babcock clamp - EQUIPMENT\n",
      "28. Cautery - EQUIPMENT\n",
      "29. Vicryl suture - MATERIAL\n",
      "30. Crystalloids - FLUID\n",
      "\n",
      "\n",
      "\n",
      "REASON FOR CT SCAN: , The patient is a 79-year-old man with adult hydrocephalus who was found to have large bilateral effusions on a CT scan performed on January 16, 2008.  I changed the shunt setting\n",
      "Response for entry 7 using llama3.2 3b:\n",
      "1. Patient - PERSON\n",
      "2. Adult hydrocephalus - DIAGNOSIS\n",
      "3. January 16, 2008 - DATE\n",
      "4. February 12, 2008 - DATE\n",
      "5. March 11, 2008 - DATE\n",
      "6. Munro - PERSON (likely referring to John Hugh Munro)\n",
      "7. Foramen of Munro - LOCATION\n",
      "8. Shunt - TREATMENT\n",
      "9. Subdural effusions - DIAGNOSIS\n",
      "10. Left lateral ventricle - LOCATION\n",
      "11. Right occipital side - LOCATION\n",
      "12. 2.0 - NUMBER (referring to shunt setting)\n",
      "13. 1.5 - NUMBER (referring to previous shunt setting)\n",
      "\n",
      "\n",
      "\n",
      "CLINICAL HISTORY: , Patient is a 37-year-old female with a history of colectomy for adenoma.  During her preop evaluation it was noted that she had a lesion on her chest x-ray.  CT scan of the chest c\n",
      "Response for entry 8 using llama3.2 3b:\n",
      "1. Patient - PERSON\n",
      "2. Adenoma - DIAGNOSIS\n",
      "3. Lung - LOCATION\n",
      "4. Left lower mass - LOCATION\n",
      "5. Cytokeratin AE1/AE3 - TREATMENT\n",
      "6. CAM5.2 - TREATMENT\n",
      "7. Cytokeratin-20 - TREATMENT\n",
      "8. Cytokeratin-7 - TREATMENT\n",
      "9. Diastase - TREATMENT\n",
      "10. Synaptophysin - DIAGNOSIS\n",
      "11. Chromogranin - DIAGNOSIS\n",
      "12. S100 antibody - DIAGNOSIS\n",
      "13. HMB-45 - DIAGNOSIS\n",
      "14. Melan-A - DIAGNOSIS\n",
      "15. Thyroid transcription factor (TTF-1) - DIAGNOSIS\n",
      "16. Sarcomatoid carcinoma - DIAGNOSIS\n",
      "17. Pleomorphic/giant cell carcinoma - DIAGNOSIS\n",
      "18. Spindle cell carcinoma - DIAGNOSIS\n",
      "\n",
      "\n",
      "\n",
      "INDICATION: , Iron deficiency anemia.,PROCEDURE:  ,Colonoscopy with terminal ileum examination.,POSTOPERATIVE DIAGNOSIS:,  Normal examination.,WITHDRAWAL TIME: , 15 minutes.,SCOPE: , CF-H180AL.,MEDICA\n",
      "Response for entry 9 using llama3.2 3b:\n",
      "1. Iron deficiency anemia - DIAGNOSIS\n",
      "2. Colonoscopy - PROCEDURE\n",
      "3. Terminal ileum examination - PROCEDURE\n",
      "4. CF-H180AL - SCOPE\n",
      "5. Fentanyl - MEDICATIONS\n",
      "6. Versed - MEDICATIONS\n",
      "7. Primary care physician - RECOMMENDATIONS\n",
      "\n",
      "\n",
      "\n",
      "Responses have been saved to model_responses.csv\n"
     ]
    }
   ],
   "source": [
    "import subprocess\n",
    "import os\n",
    "import csv\n",
    "\n",
    "def query_model(prompt, model, size):\n",
    "    # Run the Ollama command in the terminal\n",
    "    result = subprocess.run(\n",
    "        [\"ollama\", \"run\", f\"{model}:{size}\"],\n",
    "        input=prompt,\n",
    "        text=True,\n",
    "        capture_output=True\n",
    "    )\n",
    "    return result.stdout\n",
    "\n",
    "def process_all_text_entries(data, model, size, csv_writer):\n",
    "    for idx, item in enumerate(data):\n",
    "        document_text = item['text']  # Extract the 'text' field from each entry\n",
    "        print(document_text[:200])\n",
    "        \n",
    "        # Updated prompt to extract all NER types\n",
    "        prompt = f\"You are a helpful assistant tasked with extracting all named entities from the following text. For each entity, create a numbered list specifying the type (e.g., PERSON, ORGANIZATION, LOCATION, DATE, DIAGNOSIS, TREATMENT, etc.): {document_text}. Respond ONLY with this list of entities and their types.\"\n",
    "        response = query_model(prompt=prompt, model=model, size=size)\n",
    "        \n",
    "        # Print response for each entry (optional)\n",
    "        print(f\"Response for entry {idx} using {model} {size}:\\n{response}\\n\")\n",
    "        \n",
    "        # Write the response to the CSV file\n",
    "        csv_writer.writerow([model, size, document_text[:200] + '...', response])  # Include only part of the text for brevity\n",
    "\n",
    "\n",
    "# Create the CSV file and add headers\n",
    "output_csv_path = \"model_responses.csv\"\n",
    "with open(output_csv_path, mode=\"w\", newline=\"\") as csv_file:\n",
    "    csv_writer = csv.writer(csv_file)\n",
    "    # Write the header\n",
    "    csv_writer.writerow([\"Model Name\", \"Model Size\", \"Text Sample\", \"Response to Prompt\"])\n",
    "\n",
    "    # Call the function for each model and size configuration\n",
    "    process_all_text_entries(train_data_trunc, \"llama3.2\", \"3b\", csv_writer)\n",
    "    #process_all_text_entries(train_data, \"llama3.1\", \"8b\", csv_writer)\n",
    "\n",
    "print(f\"Responses have been saved to {output_csv_path}\")"
   ]
  },
  {
   "cell_type": "markdown",
   "id": "5da05a52",
   "metadata": {},
   "source": [
    "#### *Conclusions*\n",
    "\n",
    "- It is relatively simple to run LLama3.2 locally. However, it needs GPUs to run efficiently\n",
    "- Because Llama is designed to take an input prompt and generate text in response, it is suitable for conversational AI, interactive querying, and generating outputs based on a range of instructions\n",
    "- This allowed the model to identify NER that goes beyond SpaCy's capabilities, identifying medicines, body parts, medical procedures, etc.\n",
    "- However, each output was in different formats. For ideal results, careful prompt engineering and post processing would be necessary.\n",
    "- After adjustments to the prompt (giving the AI a role, asking for a specific format, limiting the response to just the specified format and no additional words) the responses improved immensely"
   ]
  },
  {
   "cell_type": "markdown",
   "id": "3847a017",
   "metadata": {},
   "source": [
    "### Applying NER Models"
   ]
  },
  {
   "cell_type": "code",
   "execution_count": 29,
   "id": "02874e35",
   "metadata": {},
   "outputs": [
    {
     "name": "stderr",
     "output_type": "stream",
     "text": [
      "Downloading shards: 100%|██████████| 3/3 [08:54<00:00, 178.18s/it]\n",
      "Loading checkpoint shards: 100%|██████████| 3/3 [00:00<00:00,  6.74it/s]\n",
      "Some weights of LlamaForTokenClassification were not initialized from the model checkpoint at Universal-NER/UniNER-7B-type-sup and are newly initialized: ['score.bias', 'score.weight']\n",
      "You should probably TRAIN this model on a down-stream task to be able to use it for predictions and inference.\n"
     ]
    }
   ],
   "source": [
    "from transformers import AutoTokenizer, AutoModelForTokenClassification\n",
    "from transformers import pipeline\n",
    "\n",
    "# Load the model and tokenizer\n",
    "model_name = \"dslim/bert-base-NER\"\n",
    "tokenizer = AutoTokenizer.from_pretrained(model_name)\n",
    "model = AutoModelForTokenClassification.from_pretrained(model_name)\n",
    "\n",
    "### Possible models to choose from\n",
    "### Universal-NER/UniNER-7B-type-sup\n",
    "### emilyalsentzer/Bio_ClinicalBERT\n",
    "### bionlp/bluebert_pubmed_mimic_uncased_L-12_H-768_A-12"
   ]
  },
  {
   "cell_type": "code",
   "execution_count": 32,
   "id": "9de37072",
   "metadata": {},
   "outputs": [
    {
     "name": "stdout",
     "output_type": "stream",
     "text": [
      "Entity: ▁John, Label: LABEL_1, Score: 0.9788\n",
      "Entity: ▁Do, Label: LABEL_1, Score: 0.8528\n",
      "Entity: e, Label: LABEL_1, Score: 0.9956\n",
      "Entity: ▁was, Label: LABEL_0, Score: 0.8023\n",
      "Entity: ▁diagn, Label: LABEL_0, Score: 0.6978\n",
      "Entity: osed, Label: LABEL_0, Score: 0.9122\n",
      "Entity: ▁with, Label: LABEL_0, Score: 0.5410\n",
      "Entity: ▁Type, Label: LABEL_1, Score: 0.5749\n",
      "Entity: ▁, Label: LABEL_1, Score: 0.8181\n",
      "Entity: 2, Label: LABEL_1, Score: 0.9712\n",
      "Entity: ▁Di, Label: LABEL_1, Score: 0.9771\n",
      "Entity: ab, Label: LABEL_1, Score: 0.9787\n",
      "Entity: etes, Label: LABEL_1, Score: 0.7363\n",
      "Entity: ▁on, Label: LABEL_0, Score: 0.9951\n",
      "Entity: ▁, Label: LABEL_0, Score: 0.9337\n",
      "Entity: 2, Label: LABEL_0, Score: 0.7496\n",
      "Entity: 0, Label: LABEL_0, Score: 0.6739\n",
      "Entity: 2, Label: LABEL_0, Score: 0.6688\n",
      "Entity: 4, Label: LABEL_0, Score: 0.9242\n",
      "Entity: -, Label: LABEL_0, Score: 0.6383\n",
      "Entity: 1, Label: LABEL_0, Score: 0.5003\n",
      "Entity: 1, Label: LABEL_0, Score: 0.8396\n",
      "Entity: -, Label: LABEL_0, Score: 0.7545\n",
      "Entity: 1, Label: LABEL_0, Score: 0.7117\n",
      "Entity: 0, Label: LABEL_0, Score: 0.9400\n",
      "Entity: ., Label: LABEL_0, Score: 0.5611\n"
     ]
    }
   ],
   "source": [
    "# Create the NER pipeline\n",
    "nlp_ner = pipeline(\"ner\", model=model, tokenizer=tokenizer) # runs the specific model in NER mode\n",
    "\n",
    "# Example text\n",
    "text = \"John Doe was diagnosed with Type 2 Diabetes on 2024-11-10.\"\n",
    "\n",
    "# Perform NER\n",
    "entities = nlp_ner(text)\n",
    "\n",
    "# Print out the recognized entities\n",
    "for ent in entities:\n",
    "    print(f\"Entity: {ent['word']}, Label: {ent['entity']}, Score: {ent['score']:.4f}\")"
   ]
  },
  {
   "cell_type": "markdown",
   "id": "973e9adb",
   "metadata": {},
   "source": [
    "# To do next\n",
    "\n",
    "Fine-tune the Model on a Custom Dataset\n",
    "If the predefined labels of the model (dslim/bert-base-NER) don't include DIAGNOSIS or other desired labels, you need to fine-tune it on a dataset that includes these entities.\n",
    "\n",
    "Prepare a Custom Dataset:\n",
    "\n",
    "Annotate text data with your desired entity labels (PERSON, DIAGNOSIS, DATE, etc.).\n",
    "Format it in a standard format like CoNLL or JSONL (depending on the tokenizer and training framework).\n",
    "Fine-tune the Model:\n",
    "\n",
    "Use the transformers library to fine-tune the model on your annotated dataset.\n",
    "Adjust the num_labels argument during model definition to match your label count.\n",
    "Example guide for fine-tuning: Hugging Face Fine-Tuning Tutorial."
   ]
  },
  {
   "cell_type": "markdown",
   "id": "bb77c6b7",
   "metadata": {},
   "source": [
    "#### *Conclusions*\n",
    "\n",
    "- Loading the model took the longest in this process\n",
    "- This model was trained for the task of extracting NER from text, and was on the clinical NER leaderboard on Hugging Face\n",
    "- The outputs on this test statement show that the entities that were extracted are not specific to the medical field, meaning that fine tuning would be needed to use this on our data"
   ]
  },
  {
   "cell_type": "code",
   "execution_count": null,
   "id": "55c781d2",
   "metadata": {},
   "outputs": [],
   "source": []
  },
  {
   "cell_type": "code",
   "execution_count": null,
   "id": "9bb61100",
   "metadata": {},
   "outputs": [],
   "source": []
  }
 ],
 "metadata": {
  "kernelspec": {
   "display_name": "myenv",
   "language": "python",
   "name": "python3"
  },
  "language_info": {
   "codemirror_mode": {
    "name": "ipython",
    "version": 3
   },
   "file_extension": ".py",
   "mimetype": "text/x-python",
   "name": "python",
   "nbconvert_exporter": "python",
   "pygments_lexer": "ipython3",
   "version": "3.10.15"
  }
 },
 "nbformat": 4,
 "nbformat_minor": 5
}
