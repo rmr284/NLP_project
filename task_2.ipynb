{
 "cells": [
  {
   "metadata": {
    "ExecuteTime": {
     "end_time": "2024-11-03T17:36:53.641843Z",
     "start_time": "2024-11-03T17:36:53.623158Z"
    }
   },
   "cell_type": "code",
   "source": [
    "from datasets import load_dataset\n",
    "from sklearn.model_selection import train_test_split"
   ],
   "id": "541c099c767541b7",
   "outputs": [],
   "execution_count": 17
  },
  {
   "metadata": {
    "ExecuteTime": {
     "end_time": "2024-11-03T17:36:54.482377Z",
     "start_time": "2024-11-03T17:36:54.471659Z"
    }
   },
   "cell_type": "code",
   "source": "#!pip install spacy",
   "id": "133348f3899570c",
   "outputs": [],
   "execution_count": 18
  },
  {
   "metadata": {
    "ExecuteTime": {
     "end_time": "2024-11-03T17:36:55.310322Z",
     "start_time": "2024-11-03T17:36:55.304668Z"
    }
   },
   "cell_type": "code",
   "source": "import spacy",
   "id": "e42040a1d7b0dbee",
   "outputs": [],
   "execution_count": 19
  },
  {
   "metadata": {
    "ExecuteTime": {
     "end_time": "2024-11-03T17:36:59.890540Z",
     "start_time": "2024-11-03T17:36:56.268894Z"
    }
   },
   "cell_type": "code",
   "source": [
    "ds = load_dataset(\"argilla/medical-domain\")\n",
    "train_data = ds['train']"
   ],
   "id": "4882f846414121f5",
   "outputs": [],
   "execution_count": 20
  },
  {
   "metadata": {
    "ExecuteTime": {
     "end_time": "2024-11-03T17:37:02.489426Z",
     "start_time": "2024-11-03T17:37:02.461996Z"
    }
   },
   "cell_type": "code",
   "source": [
    "def inspect_data(data, num_samples=5):\n",
    "    # Print out the full structure of dataset\n",
    "    for i, item in enumerate(data[:num_samples], 1):\n",
    "        print(f\"Features {i}: {item}\\n\")\n",
    "\n",
    "    # Print out the structure and content of the first few data entries\n",
    "    for i in range(num_samples):\n",
    "        sample = data[i]\n",
    "        print(f\"Sample {i+1}: {sample}\\n\")\n",
    "\n",
    "# Run the inspection of data\n",
    "inspect_data(train_data)"
   ],
   "id": "3453202f983ff0c",
   "outputs": [
    {
     "name": "stdout",
     "output_type": "stream",
     "text": [
      "Features 1: text\n",
      "\n",
      "Features 2: inputs\n",
      "\n",
      "Features 3: prediction\n",
      "\n",
      "Features 4: prediction_agent\n",
      "\n",
      "Features 5: annotation\n",
      "\n",
      "Features 6: annotation_agent\n",
      "\n",
      "Features 7: multi_label\n",
      "\n",
      "Features 8: explanation\n",
      "\n",
      "Features 9: id\n",
      "\n",
      "Features 10: metadata\n",
      "\n",
      "Features 11: status\n",
      "\n",
      "Features 12: event_timestamp\n",
      "\n",
      "Features 13: metrics\n",
      "\n",
      "Sample 1: {'text': 'PREOPERATIVE DIAGNOSIS:,  Iron deficiency anemia.,POSTOPERATIVE DIAGNOSIS:,  Diverticulosis.,PROCEDURE:,  Colonoscopy.,MEDICATIONS: , MAC.,PROCEDURE: , The Olympus pediatric variable colonoscope was introduced into the rectum and advanced carefully through the colon to the cecum identified by the ileocecal valve and the appendiceal orifice.  Preparation was good, although there was some residual material in the cecum that was difficult to clear completely.  The mucosa was normal throughout the colon.  No polyps or other lesions were identified, and no blood was noted.  Some diverticula were seen of the sigmoid colon with no luminal narrowing or evidence of inflammation.  A retroflex view of the anorectal junction showed no hemorrhoids.  The patient tolerated the procedure well and was sent to the recovery room.,FINAL DIAGNOSES:,1.  Diverticulosis in the sigmoid.,2.  Otherwise normal colonoscopy to the cecum.,RECOMMENDATIONS:,1.  Follow up with Dr. X as needed.,2.  Screening colonoscopy in 2 years.,3.  Additional evaluation for other causes of anemia may be appropriate.', 'inputs': {'text': 'PREOPERATIVE DIAGNOSIS:,  Iron deficiency anemia.,POSTOPERATIVE DIAGNOSIS:,  Diverticulosis.,PROCEDURE:,  Colonoscopy.,MEDICATIONS: , MAC.,PROCEDURE: , The Olympus pediatric variable colonoscope was introduced into the rectum and advanced carefully through the colon to the cecum identified by the ileocecal valve and the appendiceal orifice.  Preparation was good, although there was some residual material in the cecum that was difficult to clear completely.  The mucosa was normal throughout the colon.  No polyps or other lesions were identified, and no blood was noted.  Some diverticula were seen of the sigmoid colon with no luminal narrowing or evidence of inflammation.  A retroflex view of the anorectal junction showed no hemorrhoids.  The patient tolerated the procedure well and was sent to the recovery room.,FINAL DIAGNOSES:,1.  Diverticulosis in the sigmoid.,2.  Otherwise normal colonoscopy to the cecum.,RECOMMENDATIONS:,1.  Follow up with Dr. X as needed.,2.  Screening colonoscopy in 2 years.,3.  Additional evaluation for other causes of anemia may be appropriate.'}, 'prediction': [{'label': ' Gastroenterology', 'score': 1.0}], 'prediction_agent': 'Argilla', 'annotation': None, 'annotation_agent': None, 'multi_label': False, 'explanation': None, 'id': '00001265-03e2-47b2-b6cf-bed32dad2fa9', 'metadata': None, 'status': 'Default', 'event_timestamp': datetime.datetime(2022, 12, 7, 9, 38, 43, 3878), 'metrics': {'text_length': 1085}}\n",
      "\n",
      "Sample 2: {'text': 'CLINICAL INDICATION:  ,Normal stress test.,PROCEDURES PERFORMED:,1.  Left heart cath.,2.  Selective coronary angiography.,3.  LV gram.,4.  Right femoral arteriogram.,5.  Mynx closure device.,PROCEDURE IN DETAIL: , The patient was explained about all the risks, benefits, and alternatives of this procedure.  The patient agreed to proceed and informed consent was signed.,Both groins were prepped and draped in the usual sterile fashion.  After local anesthesia with 2% lidocaine, a 6-French sheath was inserted in the right femoral artery.  Left and right coronary angiography was performed using 6-French JL4 and 6-French 3DRC catheters.  Then, LV gram was performed using 6-French pigtail catheter.  Post LV gram, LV-to-aortic gradient was obtained.  Then, the right femoral arteriogram was performed.  Then, the Mynx closure device was used for hemostasis.  There were no complications.,HEMODYNAMICS: , LVEDP was 9.  There was no LV-to-aortic gradient.,CORONARY ANGIOGRAPHY:,1.  Left main is normal.  It bifurcates into LAD and left circumflex.,2.  Proximal LAD at the origin of big diagonal, there is 50% to 60% calcified lesion present.  Rest of the LAD free of disease.,3.  Left circumflex is a large vessel and with minor plaque.,4.  Right coronary is dominant and also has proximal 40% stenosis.,SUMMARY:,1.  Nonobstructive coronary artery disease, LAD proximal at the origin of big diagonal has 50% to 60% stenosis, which is calcified.,2.  RCA has 40% proximal stenosis.,3.  Normal LV systolic function with LV ejection fraction of 60%.,PLAN: , We will treat with medical therapy.  If the patient becomes symptomatic, we will repeat stress test.  If there is ischemic event, the patient will need surgery for the LAD lesion.  For the time being, we will continue with the medical therapy.,', 'inputs': {'text': 'CLINICAL INDICATION:  ,Normal stress test.,PROCEDURES PERFORMED:,1.  Left heart cath.,2.  Selective coronary angiography.,3.  LV gram.,4.  Right femoral arteriogram.,5.  Mynx closure device.,PROCEDURE IN DETAIL: , The patient was explained about all the risks, benefits, and alternatives of this procedure.  The patient agreed to proceed and informed consent was signed.,Both groins were prepped and draped in the usual sterile fashion.  After local anesthesia with 2% lidocaine, a 6-French sheath was inserted in the right femoral artery.  Left and right coronary angiography was performed using 6-French JL4 and 6-French 3DRC catheters.  Then, LV gram was performed using 6-French pigtail catheter.  Post LV gram, LV-to-aortic gradient was obtained.  Then, the right femoral arteriogram was performed.  Then, the Mynx closure device was used for hemostasis.  There were no complications.,HEMODYNAMICS: , LVEDP was 9.  There was no LV-to-aortic gradient.,CORONARY ANGIOGRAPHY:,1.  Left main is normal.  It bifurcates into LAD and left circumflex.,2.  Proximal LAD at the origin of big diagonal, there is 50% to 60% calcified lesion present.  Rest of the LAD free of disease.,3.  Left circumflex is a large vessel and with minor plaque.,4.  Right coronary is dominant and also has proximal 40% stenosis.,SUMMARY:,1.  Nonobstructive coronary artery disease, LAD proximal at the origin of big diagonal has 50% to 60% stenosis, which is calcified.,2.  RCA has 40% proximal stenosis.,3.  Normal LV systolic function with LV ejection fraction of 60%.,PLAN: , We will treat with medical therapy.  If the patient becomes symptomatic, we will repeat stress test.  If there is ischemic event, the patient will need surgery for the LAD lesion.  For the time being, we will continue with the medical therapy.,'}, 'prediction': [{'label': ' Surgery', 'score': 1.0}], 'prediction_agent': 'Argilla', 'annotation': None, 'annotation_agent': None, 'multi_label': False, 'explanation': None, 'id': '0007edf0-1413-4b16-8212-3a13c2ab4e43', 'metadata': None, 'status': 'Default', 'event_timestamp': datetime.datetime(2022, 12, 7, 9, 33, 53, 387245), 'metrics': {'text_length': 1798}}\n",
      "\n",
      "Sample 3: {'text': 'FINDINGS:,Axial scans were performed from L1 to S2 and reformatted images were obtained in the sagittal and coronal planes.,Preliminary scout film demonstrates anterior end plate spondylosis at T11-12 and T12-L1.,L1-2: There is normal disc height, anterior end plate spondylosis, very minimal vacuum change with no posterior annular disc bulging or protrusion. Normal central canal, intervertebral neural foramina and facet joints (image #4).,L2-3: There is mild decreased disc height, anterior end plate spondylosis, circumferential disc protrusion measuring 4.6mm (AP) and right extraforaminal osteophyte disc complex. There is mild non-compressive right neural foraminal narrowing, minimal facet arthrosis, normal central canal and left neural foramen (image #13).,L3-4: There is normal disc height, anterior end plate spondylosis, and circumferential non-compressive annular disc bulging. The disc bulging flattens the ventral thecal sac and there is minimal non-compressive right neural foraminal narrowing, minimal to mild facet arthrosis with vacuum change on the right, normal central canal and left neural foramen (image #25).,L4-5:', 'inputs': {'text': 'FINDINGS:,Axial scans were performed from L1 to S2 and reformatted images were obtained in the sagittal and coronal planes.,Preliminary scout film demonstrates anterior end plate spondylosis at T11-12 and T12-L1.,L1-2: There is normal disc height, anterior end plate spondylosis, very minimal vacuum change with no posterior annular disc bulging or protrusion. Normal central canal, intervertebral neural foramina and facet joints (image #4).,L2-3: There is mild decreased disc height, anterior end plate spondylosis, circumferential disc protrusion measuring 4.6mm (AP) and right extraforaminal osteophyte disc complex. There is mild non-compressive right neural foraminal narrowing, minimal facet arthrosis, normal central canal and left neural foramen (image #13).,L3-4: There is normal disc height, anterior end plate spondylosis, and circumferential non-compressive annular disc bulging. The disc bulging flattens the ventral thecal sac and there is minimal non-compressive right neural foraminal narrowing, minimal to mild facet arthrosis with vacuum change on the right, normal central canal and left neural foramen (image #25).,L4-5:'}, 'prediction': [{'label': ' Radiology', 'score': 1.0}], 'prediction_agent': 'Argilla', 'annotation': None, 'annotation_agent': None, 'multi_label': False, 'explanation': None, 'id': '00097d1e-1357-4447-a39a-fe8f8b7c36ae', 'metadata': None, 'status': 'Default', 'event_timestamp': datetime.datetime(2022, 12, 7, 9, 35, 25, 277951), 'metrics': {'text_length': 1141}}\n",
      "\n",
      "Sample 4: {'text': 'PREOPERATIVE DIAGNOSIS: , Blood loss anemia.,POSTOPERATIVE DIAGNOSES:,1.  Diverticulosis coli.,2.  Internal hemorrhoids.,3.  Poor prep.,PROCEDURE PERFORMED:,  Colonoscopy with photos.,ANESTHESIA: , Conscious sedation per Anesthesia.,SPECIMENS:,  None.,HISTORY:,  The patient is an 85-year-old female who was admitted to the hospital with a markedly decreased hemoglobin and blood loss anemia.  She underwent an EGD and attempted colonoscopy; however, due to a very poor prep, only a flexible sigmoidoscopy was performed at that time.  A coloscopy is now being performed for completion.,PROCEDURE:,  After proper informed consent was obtained, the patient was brought to the Endoscopy Suite.  She was placed in the left lateral position and was given sedation by the Anesthesia Department.  A digital rectal exam was performed and there was no evidence of mass.  The colonoscope was then inserted into the rectum.  There was some solid stool encountered.  The scope was maneuvered around this.  There was relatively poor prep as the scope was advanced through the sigmoid colon and portions of the descending colon.  The scope was then passed through the transverse colon and ascending colon to the cecum.  No masses or polyps were noted.  Visualization of the portions of the colon was however somewhat limited.  There were scattered diverticuli noted in the sigmoid.,The scope was slowly withdrawn carefully examining all walls.  Once in the rectum, the scope was retroflexed and nonsurgical internal hemorrhoids were noted.  The scope was then completely withdrawn.  The patient tolerated the procedure well and was transferred to recovery room in stable condition.  She will be placed on a high-fiber diet and Colace and we will continue to monitor her hemoglobin.', 'inputs': {'text': 'PREOPERATIVE DIAGNOSIS: , Blood loss anemia.,POSTOPERATIVE DIAGNOSES:,1.  Diverticulosis coli.,2.  Internal hemorrhoids.,3.  Poor prep.,PROCEDURE PERFORMED:,  Colonoscopy with photos.,ANESTHESIA: , Conscious sedation per Anesthesia.,SPECIMENS:,  None.,HISTORY:,  The patient is an 85-year-old female who was admitted to the hospital with a markedly decreased hemoglobin and blood loss anemia.  She underwent an EGD and attempted colonoscopy; however, due to a very poor prep, only a flexible sigmoidoscopy was performed at that time.  A coloscopy is now being performed for completion.,PROCEDURE:,  After proper informed consent was obtained, the patient was brought to the Endoscopy Suite.  She was placed in the left lateral position and was given sedation by the Anesthesia Department.  A digital rectal exam was performed and there was no evidence of mass.  The colonoscope was then inserted into the rectum.  There was some solid stool encountered.  The scope was maneuvered around this.  There was relatively poor prep as the scope was advanced through the sigmoid colon and portions of the descending colon.  The scope was then passed through the transverse colon and ascending colon to the cecum.  No masses or polyps were noted.  Visualization of the portions of the colon was however somewhat limited.  There were scattered diverticuli noted in the sigmoid.,The scope was slowly withdrawn carefully examining all walls.  Once in the rectum, the scope was retroflexed and nonsurgical internal hemorrhoids were noted.  The scope was then completely withdrawn.  The patient tolerated the procedure well and was transferred to recovery room in stable condition.  She will be placed on a high-fiber diet and Colace and we will continue to monitor her hemoglobin.'}, 'prediction': [{'label': ' Surgery', 'score': 1.0}], 'prediction_agent': 'Argilla', 'annotation': None, 'annotation_agent': None, 'multi_label': False, 'explanation': None, 'id': '001622b6-0182-4fee-9881-ae15e81ce836', 'metadata': None, 'status': 'Default', 'event_timestamp': datetime.datetime(2022, 12, 7, 9, 34, 15, 982054), 'metrics': {'text_length': 1767}}\n",
      "\n",
      "Sample 5: {'text': 'REASON FOR VISIT:  ,Elevated PSA with nocturia and occasional daytime frequency.,HISTORY: , A 68-year-old male with a history of frequency and some outlet obstructive issues along with irritative issues.  The patient has had history of an elevated PSA and PSA in 2004 was 5.5.  In 2003, he had undergone a biopsy by Dr. X, which was negative for adenocarcinoma of the prostate.  The patient has had PSAs as high as noted above.  His PSAs have been as low as 1.6, but those were on Proscar.  He otherwise appears to be doing reasonably well, off the Proscar, otherwise does have some irritative symptoms.  This has been ongoing for greater than five years.  No other associated symptoms or modifying factors.  Severity is moderate.  PSA relatively stable over time.,IMPRESSION: , Stable PSA over time, although he does have some irritative symptoms.  After our discussion, it does appear that if he is not drinking close to going to bed, he notes that his nocturia has significantly decreased.  At this juncture what I would like to do is to start with behavior modification.  There were no other associated symptoms or modifying factors.,PLAN: , The patient will discontinue all caffeinated and carbonated beverages and any fluids three hours prior to going to bed.  He already knows that this does decrease his nocturia.  He will do this without medications to see how well he does and hopefully he may need no other additional medications other than may be changing his alpha-blocker to something of more efficacious.', 'inputs': {'text': 'REASON FOR VISIT:  ,Elevated PSA with nocturia and occasional daytime frequency.,HISTORY: , A 68-year-old male with a history of frequency and some outlet obstructive issues along with irritative issues.  The patient has had history of an elevated PSA and PSA in 2004 was 5.5.  In 2003, he had undergone a biopsy by Dr. X, which was negative for adenocarcinoma of the prostate.  The patient has had PSAs as high as noted above.  His PSAs have been as low as 1.6, but those were on Proscar.  He otherwise appears to be doing reasonably well, off the Proscar, otherwise does have some irritative symptoms.  This has been ongoing for greater than five years.  No other associated symptoms or modifying factors.  Severity is moderate.  PSA relatively stable over time.,IMPRESSION: , Stable PSA over time, although he does have some irritative symptoms.  After our discussion, it does appear that if he is not drinking close to going to bed, he notes that his nocturia has significantly decreased.  At this juncture what I would like to do is to start with behavior modification.  There were no other associated symptoms or modifying factors.,PLAN: , The patient will discontinue all caffeinated and carbonated beverages and any fluids three hours prior to going to bed.  He already knows that this does decrease his nocturia.  He will do this without medications to see how well he does and hopefully he may need no other additional medications other than may be changing his alpha-blocker to something of more efficacious.'}, 'prediction': [{'label': ' SOAP / Chart / Progress Notes', 'score': 1.0}], 'prediction_agent': 'Argilla', 'annotation': None, 'annotation_agent': None, 'multi_label': False, 'explanation': None, 'id': '0029245f-8b45-4796-ba09-7760612289c6', 'metadata': None, 'status': 'Default', 'event_timestamp': datetime.datetime(2022, 12, 7, 9, 34, 59, 528244), 'metrics': {'text_length': 1519}}\n",
      "\n"
     ]
    }
   ],
   "execution_count": 21
  },
  {
   "metadata": {},
   "cell_type": "markdown",
   "source": [
    "## Standard and potential new NER types\n",
    "Standard NER types that are prominent in our data are :\n",
    "* Person: often anonymized, ex. Dr. X\n",
    "* date and time: of diagnosis, treatments\n",
    "* location: different clinics\n",
    "* organizations: departments\n",
    "* cardinal: dosages, quantification\n",
    "* percent\n",
    "* quantification\n",
    "* product\n",
    "\n",
    "\n",
    "Potential new NER types that are prominent in our data are:\n",
    "* diagnosis\n",
    "* symptoms\n",
    "* treatment\n",
    "* medication\n",
    "* lab values\n",
    "* body parts\n",
    "* medical equipment\n",
    "* genetic markers\n",
    "* dosage information\n",
    "* hospital department\n",
    "* allergies\n",
    "* clinical tests"
   ],
   "id": "58bbb6707f6db455"
  },
  {
   "metadata": {},
   "cell_type": "markdown",
   "source": "## Apply the standard NER classifier of spaCy to our data",
   "id": "cae0b32f588c1846"
  },
  {
   "metadata": {
    "ExecuteTime": {
     "end_time": "2024-11-03T17:37:06.991798Z",
     "start_time": "2024-11-03T17:37:06.985071Z"
    }
   },
   "cell_type": "code",
   "source": "#!python -m spacy download en_core_web_sm",
   "id": "65e93b5ab8adbc5a",
   "outputs": [],
   "execution_count": 22
  },
  {
   "metadata": {
    "ExecuteTime": {
     "end_time": "2024-11-03T17:37:08.981764Z",
     "start_time": "2024-11-03T17:37:07.587941Z"
    }
   },
   "cell_type": "code",
   "source": [
    "# Load the spaCy model\n",
    "nlp = spacy.load(\"en_core_web_sm\")"
   ],
   "id": "838ea3064749c482",
   "outputs": [],
   "execution_count": 23
  },
  {
   "metadata": {
    "ExecuteTime": {
     "end_time": "2024-11-03T17:37:09.760159Z",
     "start_time": "2024-11-03T17:37:09.749571Z"
    }
   },
   "cell_type": "code",
   "source": [
    "# Define a function to apply NER on the text\n",
    "def extract_entities(text):\n",
    "    doc = nlp(text)\n",
    "    return [(ent.text, ent.label_) for ent in doc.ents]\n"
   ],
   "id": "f7a460f5c7fbf85",
   "outputs": [],
   "execution_count": 24
  },
  {
   "metadata": {
    "ExecuteTime": {
     "end_time": "2024-11-03T17:54:34.863757Z",
     "start_time": "2024-11-03T17:44:35.436853Z"
    }
   },
   "cell_type": "code",
   "source": [
    "# Apply the function to the 'text' column of your train data\n",
    "results = []\n",
    "for example in train_data:\n",
    "    text = example['text'] \n",
    "    entities = extract_entities(text)\n",
    "    results.append({'text': text, 'entities': entities})"
   ],
   "id": "69618171c4bdced0",
   "outputs": [],
   "execution_count": 30
  },
  {
   "metadata": {
    "ExecuteTime": {
     "end_time": "2024-11-03T18:28:56.505413Z",
     "start_time": "2024-11-03T18:28:56.458293Z"
    }
   },
   "cell_type": "code",
   "source": [
    "# Print some results\n",
    "for result in results[:5]:  # Print the first 5 results\n",
    "    print(f\"Text: {result['text']}\")\n",
    "    print(f\"Entities: {result['entities']}\\n\")"
   ],
   "id": "ade7eaff89f9eb01",
   "outputs": [
    {
     "name": "stdout",
     "output_type": "stream",
     "text": [
      "Text: PREOPERATIVE DIAGNOSIS:,  Iron deficiency anemia.,POSTOPERATIVE DIAGNOSIS:,  Diverticulosis.,PROCEDURE:,  Colonoscopy.,MEDICATIONS: , MAC.,PROCEDURE: , The Olympus pediatric variable colonoscope was introduced into the rectum and advanced carefully through the colon to the cecum identified by the ileocecal valve and the appendiceal orifice.  Preparation was good, although there was some residual material in the cecum that was difficult to clear completely.  The mucosa was normal throughout the colon.  No polyps or other lesions were identified, and no blood was noted.  Some diverticula were seen of the sigmoid colon with no luminal narrowing or evidence of inflammation.  A retroflex view of the anorectal junction showed no hemorrhoids.  The patient tolerated the procedure well and was sent to the recovery room.,FINAL DIAGNOSES:,1.  Diverticulosis in the sigmoid.,2.  Otherwise normal colonoscopy to the cecum.,RECOMMENDATIONS:,1.  Follow up with Dr. X as needed.,2.  Screening colonoscopy in 2 years.,3.  Additional evaluation for other causes of anemia may be appropriate.\n",
      "Entities: [('Olympus', 'ORG'), ('retroflex', 'NORP'), ('X', 'PERSON'), ('2 years', 'DATE')]\n",
      "\n",
      "Text: CLINICAL INDICATION:  ,Normal stress test.,PROCEDURES PERFORMED:,1.  Left heart cath.,2.  Selective coronary angiography.,3.  LV gram.,4.  Right femoral arteriogram.,5.  Mynx closure device.,PROCEDURE IN DETAIL: , The patient was explained about all the risks, benefits, and alternatives of this procedure.  The patient agreed to proceed and informed consent was signed.,Both groins were prepped and draped in the usual sterile fashion.  After local anesthesia with 2% lidocaine, a 6-French sheath was inserted in the right femoral artery.  Left and right coronary angiography was performed using 6-French JL4 and 6-French 3DRC catheters.  Then, LV gram was performed using 6-French pigtail catheter.  Post LV gram, LV-to-aortic gradient was obtained.  Then, the right femoral arteriogram was performed.  Then, the Mynx closure device was used for hemostasis.  There were no complications.,HEMODYNAMICS: , LVEDP was 9.  There was no LV-to-aortic gradient.,CORONARY ANGIOGRAPHY:,1.  Left main is normal.  It bifurcates into LAD and left circumflex.,2.  Proximal LAD at the origin of big diagonal, there is 50% to 60% calcified lesion present.  Rest of the LAD free of disease.,3.  Left circumflex is a large vessel and with minor plaque.,4.  Right coronary is dominant and also has proximal 40% stenosis.,SUMMARY:,1.  Nonobstructive coronary artery disease, LAD proximal at the origin of big diagonal has 50% to 60% stenosis, which is calcified.,2.  RCA has 40% proximal stenosis.,3.  Normal LV systolic function with LV ejection fraction of 60%.,PLAN: , We will treat with medical therapy.  If the patient becomes symptomatic, we will repeat stress test.  If there is ischemic event, the patient will need surgery for the LAD lesion.  For the time being, we will continue with the medical therapy.,\n",
      "Entities: [('Normal', 'PERSON'), ('Selective', 'PERSON'), ('LV gram.', 'PERSON'), ('Mynx', 'PERSON'), ('DETAIL', 'ORG'), ('anesthesia', 'GPE'), ('2%', 'PERCENT'), ('6', 'CARDINAL'), ('6-French', 'NORP'), ('6-French', 'NORP'), ('LV gram', 'PERSON'), ('6', 'CARDINAL'), ('Post LV gram', 'WORK_OF_ART'), ('Mynx', 'PERSON'), ('LVEDP', 'PERSON'), ('9', 'DATE'), ('LAD', 'GPE'), ('50% to 60%', 'PERCENT'), ('40%', 'PERCENT'), ('LAD', 'ORG'), ('50% to 60%', 'PERCENT'), ('RCA', 'ORG'), ('40%', 'PERCENT'), ('60%.,PLAN', 'CARDINAL'), ('LAD', 'ORG')]\n",
      "\n",
      "Text: FINDINGS:,Axial scans were performed from L1 to S2 and reformatted images were obtained in the sagittal and coronal planes.,Preliminary scout film demonstrates anterior end plate spondylosis at T11-12 and T12-L1.,L1-2: There is normal disc height, anterior end plate spondylosis, very minimal vacuum change with no posterior annular disc bulging or protrusion. Normal central canal, intervertebral neural foramina and facet joints (image #4).,L2-3: There is mild decreased disc height, anterior end plate spondylosis, circumferential disc protrusion measuring 4.6mm (AP) and right extraforaminal osteophyte disc complex. There is mild non-compressive right neural foraminal narrowing, minimal facet arthrosis, normal central canal and left neural foramen (image #13).,L3-4: There is normal disc height, anterior end plate spondylosis, and circumferential non-compressive annular disc bulging. The disc bulging flattens the ventral thecal sac and there is minimal non-compressive right neural foraminal narrowing, minimal to mild facet arthrosis with vacuum change on the right, normal central canal and left neural foramen (image #25).,L4-5:\n",
      "Entities: [('L1', 'CARDINAL'), ('T11-12', 'PRODUCT'), ('T12-L1.,L1-2', 'ORG'), ('facet joints', 'PERSON'), ('4.6mm', 'QUANTITY'), ('AP', 'ORG'), ('13).,L3', 'MONEY')]\n",
      "\n",
      "Text: PREOPERATIVE DIAGNOSIS: , Blood loss anemia.,POSTOPERATIVE DIAGNOSES:,1.  Diverticulosis coli.,2.  Internal hemorrhoids.,3.  Poor prep.,PROCEDURE PERFORMED:,  Colonoscopy with photos.,ANESTHESIA: , Conscious sedation per Anesthesia.,SPECIMENS:,  None.,HISTORY:,  The patient is an 85-year-old female who was admitted to the hospital with a markedly decreased hemoglobin and blood loss anemia.  She underwent an EGD and attempted colonoscopy; however, due to a very poor prep, only a flexible sigmoidoscopy was performed at that time.  A coloscopy is now being performed for completion.,PROCEDURE:,  After proper informed consent was obtained, the patient was brought to the Endoscopy Suite.  She was placed in the left lateral position and was given sedation by the Anesthesia Department.  A digital rectal exam was performed and there was no evidence of mass.  The colonoscope was then inserted into the rectum.  There was some solid stool encountered.  The scope was maneuvered around this.  There was relatively poor prep as the scope was advanced through the sigmoid colon and portions of the descending colon.  The scope was then passed through the transverse colon and ascending colon to the cecum.  No masses or polyps were noted.  Visualization of the portions of the colon was however somewhat limited.  There were scattered diverticuli noted in the sigmoid.,The scope was slowly withdrawn carefully examining all walls.  Once in the rectum, the scope was retroflexed and nonsurgical internal hemorrhoids were noted.  The scope was then completely withdrawn.  The patient tolerated the procedure well and was transferred to recovery room in stable condition.  She will be placed on a high-fiber diet and Colace and we will continue to monitor her hemoglobin.\n",
      "Entities: [('Conscious', 'ORG'), ('Anesthesia', 'GPE'), ('85-year-old', 'DATE'), ('EGD', 'ORG'), ('the Endoscopy Suite', 'ORG'), ('the Anesthesia Department', 'ORG'), ('Colace', 'ORG')]\n",
      "\n",
      "Text: REASON FOR VISIT:  ,Elevated PSA with nocturia and occasional daytime frequency.,HISTORY: , A 68-year-old male with a history of frequency and some outlet obstructive issues along with irritative issues.  The patient has had history of an elevated PSA and PSA in 2004 was 5.5.  In 2003, he had undergone a biopsy by Dr. X, which was negative for adenocarcinoma of the prostate.  The patient has had PSAs as high as noted above.  His PSAs have been as low as 1.6, but those were on Proscar.  He otherwise appears to be doing reasonably well, off the Proscar, otherwise does have some irritative symptoms.  This has been ongoing for greater than five years.  No other associated symptoms or modifying factors.  Severity is moderate.  PSA relatively stable over time.,IMPRESSION: , Stable PSA over time, although he does have some irritative symptoms.  After our discussion, it does appear that if he is not drinking close to going to bed, he notes that his nocturia has significantly decreased.  At this juncture what I would like to do is to start with behavior modification.  There were no other associated symptoms or modifying factors.,PLAN: , The patient will discontinue all caffeinated and carbonated beverages and any fluids three hours prior to going to bed.  He already knows that this does decrease his nocturia.  He will do this without medications to see how well he does and hopefully he may need no other additional medications other than may be changing his alpha-blocker to something of more efficacious.\n",
      "Entities: [('Elevated PSA', 'PERSON'), ('daytime', 'TIME'), ('68-year-old', 'DATE'), ('PSA', 'ORG'), ('PSA', 'ORG'), ('2004', 'DATE'), ('5.5', 'DATE'), ('2003', 'DATE'), ('X', 'PERSON'), ('Proscar', 'PERSON'), ('Proscar', 'PERSON'), ('greater than five years', 'DATE'), ('Severity', 'PERSON'), ('PSA', 'ORG'), ('Stable PSA', 'PERSON'), ('three hours', 'TIME')]\n",
      "\n"
     ]
    }
   ],
   "execution_count": 31
  },
  {
   "metadata": {
    "ExecuteTime": {
     "end_time": "2024-11-03T18:31:26.724797Z",
     "start_time": "2024-11-03T18:31:24.939703Z"
    }
   },
   "cell_type": "code",
   "source": [
    "import pandas as pd\n",
    "# Convert to a DataFrame and save as a CSV\n",
    "df = pd.DataFrame(results)\n",
    "df.to_csv('results.csv', index=False)"
   ],
   "id": "db0adecb5ddbdee8",
   "outputs": [],
   "execution_count": 32
  },
  {
   "metadata": {},
   "cell_type": "markdown",
   "source": "# Evaluate the NER classification",
   "id": "9bccd619cf0a4392"
  },
  {
   "metadata": {},
   "cell_type": "markdown",
   "source": "No ground truth? How to evaluate?",
   "id": "965404717bec3891"
  },
  {
   "metadata": {},
   "cell_type": "markdown",
   "source": "Try to compare with a different model: Flair",
   "id": "ed4e3e55f7b14497"
  },
  {
   "metadata": {
    "ExecuteTime": {
     "end_time": "2024-11-04T07:51:33.301061Z",
     "start_time": "2024-11-04T07:51:33.268440Z"
    }
   },
   "cell_type": "code",
   "source": "#pip install flair",
   "id": "9f788c064a74e4d2",
   "outputs": [],
   "execution_count": 34
  },
  {
   "metadata": {
    "ExecuteTime": {
     "end_time": "2024-11-04T07:53:38.003204Z",
     "start_time": "2024-11-04T07:53:20.736230Z"
    }
   },
   "cell_type": "code",
   "source": [
    "from flair.models import SequenceTagger\n",
    "from flair.data import Sentence\n",
    "\n",
    "# Load the NER tagger\n",
    "tagger = SequenceTagger.load('ner')\n"
   ],
   "id": "669b434f3b6033a6",
   "outputs": [
    {
     "name": "stdout",
     "output_type": "stream",
     "text": [
      "2024-11-04 08:53:35,186 SequenceTagger predicts: Dictionary with 20 tags: <unk>, O, S-ORG, S-MISC, B-PER, E-PER, S-LOC, B-ORG, E-ORG, I-PER, S-PER, B-MISC, I-MISC, E-MISC, I-ORG, B-LOC, E-LOC, I-LOC, <START>, <STOP>\n"
     ]
    }
   ],
   "execution_count": 36
  },
  {
   "metadata": {
    "ExecuteTime": {
     "end_time": "2024-11-04T07:54:04.890059Z",
     "start_time": "2024-11-04T07:54:04.865072Z"
    }
   },
   "cell_type": "code",
   "source": [
    "# Define a function to apply NER on the text\n",
    "def extract_entities(text):\n",
    "    sentence = Sentence(text)\n",
    "    tagger.predict(sentence)\n",
    "    return [(entity.text, entity.get_label('ner').value) for entity in sentence.get_spans('ner')]\n"
   ],
   "id": "330e4c354b8baf73",
   "outputs": [],
   "execution_count": 37
  },
  {
   "metadata": {
    "jupyter": {
     "is_executing": true
    },
    "ExecuteTime": {
     "start_time": "2024-11-04T07:54:59.466354Z"
    }
   },
   "cell_type": "code",
   "source": [
    "# Apply the function to the 'text' column of your train data\n",
    "results_flair = []\n",
    "for example in train_data:\n",
    "    text = example['text']\n",
    "    entities = extract_entities(text)\n",
    "    results_flair.append({'text': text, 'entities': entities})"
   ],
   "id": "8b19e2ef39fe18b3",
   "outputs": [],
   "execution_count": null
  },
  {
   "metadata": {},
   "cell_type": "code",
   "outputs": [],
   "execution_count": null,
   "source": [
    "# Print some results\n",
    "for result in results_flair[:5]:  # Print the first 5 results\n",
    "    print(f\"Text: {result['text']}\")\n",
    "    print(f\"Entities: {result['entities']}\\n\")"
   ],
   "id": "e053360d00f1afd"
  }
 ],
 "metadata": {
  "kernelspec": {
   "display_name": "Python 3",
   "language": "python",
   "name": "python3"
  },
  "language_info": {
   "codemirror_mode": {
    "name": "ipython",
    "version": 2
   },
   "file_extension": ".py",
   "mimetype": "text/x-python",
   "name": "python",
   "nbconvert_exporter": "python",
   "pygments_lexer": "ipython2",
   "version": "2.7.6"
  }
 },
 "nbformat": 4,
 "nbformat_minor": 5
}
